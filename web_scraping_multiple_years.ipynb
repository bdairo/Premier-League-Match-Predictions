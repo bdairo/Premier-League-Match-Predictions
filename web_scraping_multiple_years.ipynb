{
  "nbformat": 4,
  "nbformat_minor": 0,
  "metadata": {
    "colab": {
      "provenance": []
    },
    "kernelspec": {
      "name": "python3",
      "display_name": "Python 3"
    },
    "language_info": {
      "name": "python"
    }
  },
  "cells": [
    {
      "cell_type": "code",
      "execution_count": 1,
      "metadata": {
        "id": "7X738TtduBaN"
      },
      "outputs": [],
      "source": [
        "import time\n",
        "import requests\n",
        "from bs4 import BeautifulSoup\n",
        "import pandas as pd\n",
        "from io import StringIO"
      ]
    },
    {
      "cell_type": "code",
      "source": [
        "all_matches = []"
      ],
      "metadata": {
        "id": "nJm3QpWQuw8Q"
      },
      "execution_count": 2,
      "outputs": []
    },
    {
      "cell_type": "markdown",
      "source": [],
      "metadata": {
        "id": "DoV5vq-VVcHr"
      }
    },
    {
      "cell_type": "code",
      "source": [
        "year_urls= {\n",
        "    '2022-2023': 'https://fbref.com/en/comps/9/2022-2023/2022-2023-Premier-League-Stats',\n",
        "    '2021-2022':'https://fbref.com/en/comps/9/2021-2022/2021-2022-Premier-League-Stats',\n",
        "    '2020-2021': 'https://fbref.com/en/comps/9/2020-2021/2020-2021-Premier-League-Stats',\n",
        "    '2019-2020':'https://fbref.com/en/comps/9/2019-2020/2019-2020-Premier-League-Stats',\n",
        "    '2018-2019':'https://fbref.com/en/comps/9/2018-2019/2018-2019-Premier-League-Stats',\n",
        "    '2017-2018':'https://fbref.com/en/comps/9/2017-2018/2017-2018-Premier-League-Stats'\n",
        "    }"
      ],
      "metadata": {
        "id": "3t1aUOknvNzo"
      },
      "execution_count": 3,
      "outputs": []
    },
    {
      "cell_type": "code",
      "source": [
        "for year, standing_url in year_urls.items():\n",
        "    print(f\"Year: {year}, URL: {standing_url}\")"
      ],
      "metadata": {
        "colab": {
          "base_uri": "https://localhost:8080/"
        },
        "id": "H42uN0x2vXZO",
        "outputId": "8569c3ec-3c32-474d-bd5a-234a8d2d28bc"
      },
      "execution_count": 4,
      "outputs": [
        {
          "output_type": "stream",
          "name": "stdout",
          "text": [
            "Year: 2022-2023, URL: https://fbref.com/en/comps/9/2022-2023/2022-2023-Premier-League-Stats\n",
            "Year: 2021-2022, URL: https://fbref.com/en/comps/9/2021-2022/2021-2022-Premier-League-Stats\n",
            "Year: 2020-2021, URL: https://fbref.com/en/comps/9/2020-2021/2020-2021-Premier-League-Stats\n",
            "Year: 2019-2020, URL: https://fbref.com/en/comps/9/2019-2020/2019-2020-Premier-League-Stats\n",
            "Year: 2018-2019, URL: https://fbref.com/en/comps/9/2018-2019/2018-2019-Premier-League-Stats\n",
            "Year: 2017-2018, URL: https://fbref.com/en/comps/9/2017-2018/2017-2018-Premier-League-Stats\n"
          ]
        }
      ]
    },
    {
      "cell_type": "code",
      "source": [
        "print('Scraping for all years now...')\n",
        "year_count = 0\n",
        "\n",
        "for year, standing_url in year_urls.items():\n",
        "    print('scraping data from', year)\n",
        "    year_count += 1\n",
        "    try:\n",
        "        data = requests.get(standing_url)\n",
        "        soup = BeautifulSoup(data.text)\n",
        "        standings_table = soup.select('table.stats_table')[0]\n",
        "        links = [l.get('href') for l in standings_table.find_all('a')]\n",
        "        links = [l for l in links if '/squads/' in l]\n",
        "        team_urls = [f'https://fbref.com{l}' for l in links]\n",
        "\n",
        "        for team_url in team_urls:\n",
        "            team_name = team_url.split('/')[-1].replace('-Stats','').replace('-',' ')\n",
        "\n",
        "            team_url_data = requests.get(team_url)\n",
        "            matches = pd.read_html(team_url_data.text, match=\"Scores & Fixtures\")\n",
        "\n",
        "            new_soup= BeautifulSoup(team_url_data.text)\n",
        "            a_links = [l.get('href') for l in new_soup.find_all('a')]\n",
        "            a_links_2 = [l for l in a_links if l and 'all_comps/shooting/' in l]\n",
        "\n",
        "\n",
        "            shooting_stats_html = requests.get(f'https://fbref.com{a_links_2[0]}')\n",
        "            shooting_stats = pd.read_html(shooting_stats_html.text, match ='Shooting')[0]\n",
        "            shooting_stats.columns = shooting_stats.columns.droplevel()\n",
        "            try:\n",
        "                team_data = matches[0].merge(shooting_stats[[\"Date\", \"Sh\", \"SoT\", \"Dist\", \"FK\", \"PK\", \"PKatt\"]], on=\"Date\")\n",
        "            except ValueError:\n",
        "                continue\n",
        "\n",
        "            team_data = team_data[team_data[\"Comp\"] == \"Premier League\"]\n",
        "            team_data[\"Season\"] = year\n",
        "            team_data[\"Team\"] = team_name\n",
        "            all_matches.append(team_data)\n",
        "            time.sleep(1) # so that we don't get blocked from scraping the site\n",
        "    except ValueError:\n",
        "        print('ERROR while scraping data from year:', year)\n",
        "        print (ValueError)\n",
        "\n",
        "\n",
        "print('SCRAPING DONE!')\n",
        "print(f'Scraped epl data for {year_count} years')\n"
      ],
      "metadata": {
        "colab": {
          "base_uri": "https://localhost:8080/"
        },
        "id": "rxcWoznavb8J",
        "outputId": "d54db162-4127-4209-ed13-0e543748b784"
      },
      "execution_count": 5,
      "outputs": [
        {
          "output_type": "stream",
          "name": "stdout",
          "text": [
            "Scraping for all years now...\n",
            "scraping data from 2022-2023\n",
            "scraping data from 2021-2022\n"
          ]
        },
        {
          "output_type": "stream",
          "name": "stderr",
          "text": [
            "<ipython-input-5-d99d55f45602>:35: SettingWithCopyWarning: \n",
            "A value is trying to be set on a copy of a slice from a DataFrame.\n",
            "Try using .loc[row_indexer,col_indexer] = value instead\n",
            "\n",
            "See the caveats in the documentation: https://pandas.pydata.org/pandas-docs/stable/user_guide/indexing.html#returning-a-view-versus-a-copy\n",
            "  team_data[\"Season\"] = year\n",
            "<ipython-input-5-d99d55f45602>:36: SettingWithCopyWarning: \n",
            "A value is trying to be set on a copy of a slice from a DataFrame.\n",
            "Try using .loc[row_indexer,col_indexer] = value instead\n",
            "\n",
            "See the caveats in the documentation: https://pandas.pydata.org/pandas-docs/stable/user_guide/indexing.html#returning-a-view-versus-a-copy\n",
            "  team_data[\"Team\"] = team_name\n"
          ]
        },
        {
          "output_type": "stream",
          "name": "stdout",
          "text": [
            "scraping data from 2020-2021\n",
            "scraping data from 2019-2020\n",
            "scraping data from 2018-2019\n",
            "scraping data from 2017-2018\n"
          ]
        },
        {
          "output_type": "stream",
          "name": "stderr",
          "text": [
            "<ipython-input-5-d99d55f45602>:35: SettingWithCopyWarning: \n",
            "A value is trying to be set on a copy of a slice from a DataFrame.\n",
            "Try using .loc[row_indexer,col_indexer] = value instead\n",
            "\n",
            "See the caveats in the documentation: https://pandas.pydata.org/pandas-docs/stable/user_guide/indexing.html#returning-a-view-versus-a-copy\n",
            "  team_data[\"Season\"] = year\n",
            "<ipython-input-5-d99d55f45602>:36: SettingWithCopyWarning: \n",
            "A value is trying to be set on a copy of a slice from a DataFrame.\n",
            "Try using .loc[row_indexer,col_indexer] = value instead\n",
            "\n",
            "See the caveats in the documentation: https://pandas.pydata.org/pandas-docs/stable/user_guide/indexing.html#returning-a-view-versus-a-copy\n",
            "  team_data[\"Team\"] = team_name\n"
          ]
        },
        {
          "output_type": "stream",
          "name": "stdout",
          "text": [
            "SCRAPING DONE!\n",
            "Scraped epl data for 6 years\n"
          ]
        }
      ]
    },
    {
      "cell_type": "code",
      "source": [
        "match_df = pd.concat(all_matches)\n",
        "match_df.columns = [c.lower() for c in match_df.columns]\n",
        "print(match_df)"
      ],
      "metadata": {
        "colab": {
          "base_uri": "https://localhost:8080/"
        },
        "id": "CxFMa0KVyK_H",
        "outputId": "c776f512-53c5-4e70-eb07-fda730cfcfc0"
      },
      "execution_count": 6,
      "outputs": [
        {
          "output_type": "stream",
          "name": "stdout",
          "text": [
            "          date   time            comp         round  day venue result gf ga  \\\n",
            "1   2022-08-07  16:30  Premier League   Matchweek 1  Sun  Away      W  2  0   \n",
            "2   2022-08-13  15:00  Premier League   Matchweek 2  Sat  Home      W  4  0   \n",
            "3   2022-08-21  16:30  Premier League   Matchweek 3  Sun  Away      D  3  3   \n",
            "4   2022-08-27  15:00  Premier League   Matchweek 4  Sat  Home      W  4  2   \n",
            "5   2022-08-31  19:30  Premier League   Matchweek 5  Wed  Home      W  6  0   \n",
            "..         ...    ...             ...           ...  ...   ...    ... .. ..   \n",
            "38  2018-04-15  16:00  Premier League  Matchweek 34  Sun  Away      W  1  0   \n",
            "39  2018-04-21  12:30  Premier League  Matchweek 35  Sat  Home      D  2  2   \n",
            "40  2018-04-28  15:00  Premier League  Matchweek 36  Sat  Away      W  1  0   \n",
            "41  2018-05-05  15:00  Premier League  Matchweek 37  Sat  Home      W  1  0   \n",
            "42  2018-05-13  15:00  Premier League  Matchweek 38  Sun  Away      L  0  2   \n",
            "\n",
            "           opponent  ...  match report  notes    sh   sot  dist   fk pk pkatt  \\\n",
            "1          West Ham  ...  Match Report    NaN  13.0   1.0  18.7  1.0  1     1   \n",
            "2       Bournemouth  ...  Match Report    NaN  19.0   7.0  17.5  0.0  0     0   \n",
            "3     Newcastle Utd  ...  Match Report    NaN  21.0  10.0  16.2  1.0  0     0   \n",
            "4    Crystal Palace  ...  Match Report    NaN  18.0   5.0  14.1  0.0  0     0   \n",
            "5   Nott'ham Forest  ...  Match Report    NaN  17.0   9.0  14.8  0.0  0     0   \n",
            "..              ...  ...           ...    ...   ...   ...   ...  ... ..   ...   \n",
            "38   Manchester Utd  ...  Match Report    NaN  10.0   4.0  18.1  0.0  0     0   \n",
            "39        Liverpool  ...  Match Report    NaN  13.0   6.0  17.7  0.0  0     0   \n",
            "40    Newcastle Utd  ...  Match Report    NaN   9.0   2.0  20.1  0.0  0     0   \n",
            "41        Tottenham  ...  Match Report    NaN   9.0   1.0  10.2  0.0  0     0   \n",
            "42   Crystal Palace  ...  Match Report    NaN   7.0   1.0  24.8  1.0  0     0   \n",
            "\n",
            "       season                  team  \n",
            "1   2022-2023       Manchester City  \n",
            "2   2022-2023       Manchester City  \n",
            "3   2022-2023       Manchester City  \n",
            "4   2022-2023       Manchester City  \n",
            "5   2022-2023       Manchester City  \n",
            "..        ...                   ...  \n",
            "38  2017-2018  West Bromwich Albion  \n",
            "39  2017-2018  West Bromwich Albion  \n",
            "40  2017-2018  West Bromwich Albion  \n",
            "41  2017-2018  West Bromwich Albion  \n",
            "42  2017-2018  West Bromwich Albion  \n",
            "\n",
            "[4560 rows x 27 columns]\n"
          ]
        }
      ]
    },
    {
      "cell_type": "code",
      "source": [
        "match_df.columns"
      ],
      "metadata": {
        "colab": {
          "base_uri": "https://localhost:8080/"
        },
        "id": "UPvnoccHznlI",
        "outputId": "f9af2da6-769a-4995-c8b0-fe25eb0430c1"
      },
      "execution_count": 7,
      "outputs": [
        {
          "output_type": "execute_result",
          "data": {
            "text/plain": [
              "Index(['date', 'time', 'comp', 'round', 'day', 'venue', 'result', 'gf', 'ga',\n",
              "       'opponent', 'xg', 'xga', 'poss', 'attendance', 'captain', 'formation',\n",
              "       'referee', 'match report', 'notes', 'sh', 'sot', 'dist', 'fk', 'pk',\n",
              "       'pkatt', 'season', 'team'],\n",
              "      dtype='object')"
            ]
          },
          "metadata": {},
          "execution_count": 7
        }
      ]
    },
    {
      "cell_type": "code",
      "source": [
        "rows, columns = match_df.shape"
      ],
      "metadata": {
        "id": "M2hHgypBz3dX"
      },
      "execution_count": 8,
      "outputs": []
    },
    {
      "cell_type": "code",
      "source": [
        "rows"
      ],
      "metadata": {
        "colab": {
          "base_uri": "https://localhost:8080/"
        },
        "id": "GCeYKroCzxdu",
        "outputId": "20dda069-de69-4f69-fe5f-5dc5af29d78a"
      },
      "execution_count": 9,
      "outputs": [
        {
          "output_type": "execute_result",
          "data": {
            "text/plain": [
              "4560"
            ]
          },
          "metadata": {},
          "execution_count": 9
        }
      ]
    },
    {
      "cell_type": "code",
      "source": [
        "columns"
      ],
      "metadata": {
        "colab": {
          "base_uri": "https://localhost:8080/"
        },
        "id": "DCUjzVnNz9E9",
        "outputId": "e115b655-77eb-4fe6-be99-4ae3147067d5"
      },
      "execution_count": 10,
      "outputs": [
        {
          "output_type": "execute_result",
          "data": {
            "text/plain": [
              "27"
            ]
          },
          "metadata": {},
          "execution_count": 10
        }
      ]
    },
    {
      "cell_type": "code",
      "source": [
        "# saving to csv\n",
        "match_df.to_csv('matches_6_years.csv')"
      ],
      "metadata": {
        "id": "BR7PBBx4zg-I"
      },
      "execution_count": 11,
      "outputs": []
    },
    {
      "cell_type": "markdown",
      "source": [],
      "metadata": {
        "id": "19O_4jym0fMK"
      }
    },
    {
      "cell_type": "code",
      "source": [],
      "metadata": {
        "id": "PD4Ix4u-0f_a"
      },
      "execution_count": 11,
      "outputs": []
    }
  ]
}