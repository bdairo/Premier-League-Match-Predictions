{
  "nbformat": 4,
  "nbformat_minor": 0,
  "metadata": {
    "colab": {
      "provenance": []
    },
    "kernelspec": {
      "name": "python3",
      "display_name": "Python 3"
    },
    "language_info": {
      "name": "python"
    }
  },
  "cells": [
    {
      "cell_type": "code",
      "source": [
        "!pip install optuna\n",
        "!pip install torchmetrics"
      ],
      "metadata": {
        "colab": {
          "base_uri": "https://localhost:8080/"
        },
        "id": "p_3y8uhG-Ugu",
        "outputId": "88aae00c-f4de-4dfb-9395-d059e52abaea"
      },
      "execution_count": 54,
      "outputs": [
        {
          "output_type": "stream",
          "name": "stdout",
          "text": [
            "Requirement already satisfied: optuna in /usr/local/lib/python3.10/dist-packages (3.6.1)\n",
            "Requirement already satisfied: alembic>=1.5.0 in /usr/local/lib/python3.10/dist-packages (from optuna) (1.13.1)\n",
            "Requirement already satisfied: colorlog in /usr/local/lib/python3.10/dist-packages (from optuna) (6.8.2)\n",
            "Requirement already satisfied: numpy in /usr/local/lib/python3.10/dist-packages (from optuna) (1.25.2)\n",
            "Requirement already satisfied: packaging>=20.0 in /usr/local/lib/python3.10/dist-packages (from optuna) (24.0)\n",
            "Requirement already satisfied: sqlalchemy>=1.3.0 in /usr/local/lib/python3.10/dist-packages (from optuna) (2.0.29)\n",
            "Requirement already satisfied: tqdm in /usr/local/lib/python3.10/dist-packages (from optuna) (4.66.2)\n",
            "Requirement already satisfied: PyYAML in /usr/local/lib/python3.10/dist-packages (from optuna) (6.0.1)\n",
            "Requirement already satisfied: Mako in /usr/local/lib/python3.10/dist-packages (from alembic>=1.5.0->optuna) (1.3.3)\n",
            "Requirement already satisfied: typing-extensions>=4 in /usr/local/lib/python3.10/dist-packages (from alembic>=1.5.0->optuna) (4.11.0)\n",
            "Requirement already satisfied: greenlet!=0.4.17 in /usr/local/lib/python3.10/dist-packages (from sqlalchemy>=1.3.0->optuna) (3.0.3)\n",
            "Requirement already satisfied: MarkupSafe>=0.9.2 in /usr/local/lib/python3.10/dist-packages (from Mako->alembic>=1.5.0->optuna) (2.1.5)\n",
            "Requirement already satisfied: torchmetrics in /usr/local/lib/python3.10/dist-packages (1.3.2)\n",
            "Requirement already satisfied: numpy>1.20.0 in /usr/local/lib/python3.10/dist-packages (from torchmetrics) (1.25.2)\n",
            "Requirement already satisfied: packaging>17.1 in /usr/local/lib/python3.10/dist-packages (from torchmetrics) (24.0)\n",
            "Requirement already satisfied: torch>=1.10.0 in /usr/local/lib/python3.10/dist-packages (from torchmetrics) (2.2.1+cu121)\n",
            "Requirement already satisfied: lightning-utilities>=0.8.0 in /usr/local/lib/python3.10/dist-packages (from torchmetrics) (0.11.2)\n",
            "Requirement already satisfied: setuptools in /usr/local/lib/python3.10/dist-packages (from lightning-utilities>=0.8.0->torchmetrics) (67.7.2)\n",
            "Requirement already satisfied: typing-extensions in /usr/local/lib/python3.10/dist-packages (from lightning-utilities>=0.8.0->torchmetrics) (4.11.0)\n",
            "Requirement already satisfied: filelock in /usr/local/lib/python3.10/dist-packages (from torch>=1.10.0->torchmetrics) (3.13.4)\n",
            "Requirement already satisfied: sympy in /usr/local/lib/python3.10/dist-packages (from torch>=1.10.0->torchmetrics) (1.12)\n",
            "Requirement already satisfied: networkx in /usr/local/lib/python3.10/dist-packages (from torch>=1.10.0->torchmetrics) (3.3)\n",
            "Requirement already satisfied: jinja2 in /usr/local/lib/python3.10/dist-packages (from torch>=1.10.0->torchmetrics) (3.1.3)\n",
            "Requirement already satisfied: fsspec in /usr/local/lib/python3.10/dist-packages (from torch>=1.10.0->torchmetrics) (2023.6.0)\n",
            "Requirement already satisfied: nvidia-cuda-nvrtc-cu12==12.1.105 in /usr/local/lib/python3.10/dist-packages (from torch>=1.10.0->torchmetrics) (12.1.105)\n",
            "Requirement already satisfied: nvidia-cuda-runtime-cu12==12.1.105 in /usr/local/lib/python3.10/dist-packages (from torch>=1.10.0->torchmetrics) (12.1.105)\n",
            "Requirement already satisfied: nvidia-cuda-cupti-cu12==12.1.105 in /usr/local/lib/python3.10/dist-packages (from torch>=1.10.0->torchmetrics) (12.1.105)\n",
            "Requirement already satisfied: nvidia-cudnn-cu12==8.9.2.26 in /usr/local/lib/python3.10/dist-packages (from torch>=1.10.0->torchmetrics) (8.9.2.26)\n",
            "Requirement already satisfied: nvidia-cublas-cu12==12.1.3.1 in /usr/local/lib/python3.10/dist-packages (from torch>=1.10.0->torchmetrics) (12.1.3.1)\n",
            "Requirement already satisfied: nvidia-cufft-cu12==11.0.2.54 in /usr/local/lib/python3.10/dist-packages (from torch>=1.10.0->torchmetrics) (11.0.2.54)\n",
            "Requirement already satisfied: nvidia-curand-cu12==10.3.2.106 in /usr/local/lib/python3.10/dist-packages (from torch>=1.10.0->torchmetrics) (10.3.2.106)\n",
            "Requirement already satisfied: nvidia-cusolver-cu12==11.4.5.107 in /usr/local/lib/python3.10/dist-packages (from torch>=1.10.0->torchmetrics) (11.4.5.107)\n",
            "Requirement already satisfied: nvidia-cusparse-cu12==12.1.0.106 in /usr/local/lib/python3.10/dist-packages (from torch>=1.10.0->torchmetrics) (12.1.0.106)\n",
            "Requirement already satisfied: nvidia-nccl-cu12==2.19.3 in /usr/local/lib/python3.10/dist-packages (from torch>=1.10.0->torchmetrics) (2.19.3)\n",
            "Requirement already satisfied: nvidia-nvtx-cu12==12.1.105 in /usr/local/lib/python3.10/dist-packages (from torch>=1.10.0->torchmetrics) (12.1.105)\n",
            "Requirement already satisfied: triton==2.2.0 in /usr/local/lib/python3.10/dist-packages (from torch>=1.10.0->torchmetrics) (2.2.0)\n",
            "Requirement already satisfied: nvidia-nvjitlink-cu12 in /usr/local/lib/python3.10/dist-packages (from nvidia-cusolver-cu12==11.4.5.107->torch>=1.10.0->torchmetrics) (12.4.127)\n",
            "Requirement already satisfied: MarkupSafe>=2.0 in /usr/local/lib/python3.10/dist-packages (from jinja2->torch>=1.10.0->torchmetrics) (2.1.5)\n",
            "Requirement already satisfied: mpmath>=0.19 in /usr/local/lib/python3.10/dist-packages (from sympy->torch>=1.10.0->torchmetrics) (1.3.0)\n"
          ]
        }
      ]
    },
    {
      "cell_type": "code",
      "execution_count": 55,
      "metadata": {
        "id": "4GZWwRhxYtQu"
      },
      "outputs": [],
      "source": [
        "import torch\n",
        "import torch.nn as nn\n",
        "import torch.nn.functional as F\n",
        "import torch.optim as optim\n",
        "import torchvision\n",
        "import torchvision.transforms as transforms\n",
        "import torchvision.models as models\n",
        "from torch.utils.data import DataLoader, TensorDataset\n",
        "from sklearn.metrics import accuracy_score, precision_score, recall_score\n",
        "import pandas as pd\n",
        "import optuna\n",
        "import torchmetrics"
      ]
    },
    {
      "cell_type": "code",
      "source": [
        "device = torch.device(\"cuda:0\" if torch.cuda.is_available() else \"cpu\")"
      ],
      "metadata": {
        "id": "SrKaxd3OAE2e"
      },
      "execution_count": 56,
      "outputs": []
    },
    {
      "cell_type": "code",
      "source": [
        "matches = pd.read_csv('matches_6_years.csv', index_col = 0)"
      ],
      "metadata": {
        "id": "I-Rth2R1AI10"
      },
      "execution_count": 57,
      "outputs": []
    },
    {
      "cell_type": "code",
      "source": [
        "matches.head()"
      ],
      "metadata": {
        "colab": {
          "base_uri": "https://localhost:8080/",
          "height": 340
        },
        "id": "_ybKpZOXBbuq",
        "outputId": "ab6eff09-4eea-4402-89a6-21a06b1dd4a3"
      },
      "execution_count": 58,
      "outputs": [
        {
          "output_type": "execute_result",
          "data": {
            "text/plain": [
              "         date   time            comp        round  day venue result  gf  ga  \\\n",
              "1  2022-08-07  16:30  Premier League  Matchweek 1  Sun  Away      W   2   0   \n",
              "2  2022-08-13  15:00  Premier League  Matchweek 2  Sat  Home      W   4   0   \n",
              "3  2022-08-21  16:30  Premier League  Matchweek 3  Sun  Away      D   3   3   \n",
              "4  2022-08-27  15:00  Premier League  Matchweek 4  Sat  Home      W   4   2   \n",
              "5  2022-08-31  19:30  Premier League  Matchweek 5  Wed  Home      W   6   0   \n",
              "\n",
              "          opponent  ...  match report  notes    sh   sot  dist   fk pk pkatt  \\\n",
              "1         West Ham  ...  Match Report    NaN  13.0   1.0  18.7  1.0  1     1   \n",
              "2      Bournemouth  ...  Match Report    NaN  19.0   7.0  17.5  0.0  0     0   \n",
              "3    Newcastle Utd  ...  Match Report    NaN  21.0  10.0  16.2  1.0  0     0   \n",
              "4   Crystal Palace  ...  Match Report    NaN  18.0   5.0  14.1  0.0  0     0   \n",
              "5  Nott'ham Forest  ...  Match Report    NaN  17.0   9.0  14.8  0.0  0     0   \n",
              "\n",
              "      season             team  \n",
              "1  2022-2023  Manchester City  \n",
              "2  2022-2023  Manchester City  \n",
              "3  2022-2023  Manchester City  \n",
              "4  2022-2023  Manchester City  \n",
              "5  2022-2023  Manchester City  \n",
              "\n",
              "[5 rows x 27 columns]"
            ],
            "text/html": [
              "\n",
              "  <div id=\"df-fb890c10-51f1-4d4c-aa3f-966fd98f27cd\" class=\"colab-df-container\">\n",
              "    <div>\n",
              "<style scoped>\n",
              "    .dataframe tbody tr th:only-of-type {\n",
              "        vertical-align: middle;\n",
              "    }\n",
              "\n",
              "    .dataframe tbody tr th {\n",
              "        vertical-align: top;\n",
              "    }\n",
              "\n",
              "    .dataframe thead th {\n",
              "        text-align: right;\n",
              "    }\n",
              "</style>\n",
              "<table border=\"1\" class=\"dataframe\">\n",
              "  <thead>\n",
              "    <tr style=\"text-align: right;\">\n",
              "      <th></th>\n",
              "      <th>date</th>\n",
              "      <th>time</th>\n",
              "      <th>comp</th>\n",
              "      <th>round</th>\n",
              "      <th>day</th>\n",
              "      <th>venue</th>\n",
              "      <th>result</th>\n",
              "      <th>gf</th>\n",
              "      <th>ga</th>\n",
              "      <th>opponent</th>\n",
              "      <th>...</th>\n",
              "      <th>match report</th>\n",
              "      <th>notes</th>\n",
              "      <th>sh</th>\n",
              "      <th>sot</th>\n",
              "      <th>dist</th>\n",
              "      <th>fk</th>\n",
              "      <th>pk</th>\n",
              "      <th>pkatt</th>\n",
              "      <th>season</th>\n",
              "      <th>team</th>\n",
              "    </tr>\n",
              "  </thead>\n",
              "  <tbody>\n",
              "    <tr>\n",
              "      <th>1</th>\n",
              "      <td>2022-08-07</td>\n",
              "      <td>16:30</td>\n",
              "      <td>Premier League</td>\n",
              "      <td>Matchweek 1</td>\n",
              "      <td>Sun</td>\n",
              "      <td>Away</td>\n",
              "      <td>W</td>\n",
              "      <td>2</td>\n",
              "      <td>0</td>\n",
              "      <td>West Ham</td>\n",
              "      <td>...</td>\n",
              "      <td>Match Report</td>\n",
              "      <td>NaN</td>\n",
              "      <td>13.0</td>\n",
              "      <td>1.0</td>\n",
              "      <td>18.7</td>\n",
              "      <td>1.0</td>\n",
              "      <td>1</td>\n",
              "      <td>1</td>\n",
              "      <td>2022-2023</td>\n",
              "      <td>Manchester City</td>\n",
              "    </tr>\n",
              "    <tr>\n",
              "      <th>2</th>\n",
              "      <td>2022-08-13</td>\n",
              "      <td>15:00</td>\n",
              "      <td>Premier League</td>\n",
              "      <td>Matchweek 2</td>\n",
              "      <td>Sat</td>\n",
              "      <td>Home</td>\n",
              "      <td>W</td>\n",
              "      <td>4</td>\n",
              "      <td>0</td>\n",
              "      <td>Bournemouth</td>\n",
              "      <td>...</td>\n",
              "      <td>Match Report</td>\n",
              "      <td>NaN</td>\n",
              "      <td>19.0</td>\n",
              "      <td>7.0</td>\n",
              "      <td>17.5</td>\n",
              "      <td>0.0</td>\n",
              "      <td>0</td>\n",
              "      <td>0</td>\n",
              "      <td>2022-2023</td>\n",
              "      <td>Manchester City</td>\n",
              "    </tr>\n",
              "    <tr>\n",
              "      <th>3</th>\n",
              "      <td>2022-08-21</td>\n",
              "      <td>16:30</td>\n",
              "      <td>Premier League</td>\n",
              "      <td>Matchweek 3</td>\n",
              "      <td>Sun</td>\n",
              "      <td>Away</td>\n",
              "      <td>D</td>\n",
              "      <td>3</td>\n",
              "      <td>3</td>\n",
              "      <td>Newcastle Utd</td>\n",
              "      <td>...</td>\n",
              "      <td>Match Report</td>\n",
              "      <td>NaN</td>\n",
              "      <td>21.0</td>\n",
              "      <td>10.0</td>\n",
              "      <td>16.2</td>\n",
              "      <td>1.0</td>\n",
              "      <td>0</td>\n",
              "      <td>0</td>\n",
              "      <td>2022-2023</td>\n",
              "      <td>Manchester City</td>\n",
              "    </tr>\n",
              "    <tr>\n",
              "      <th>4</th>\n",
              "      <td>2022-08-27</td>\n",
              "      <td>15:00</td>\n",
              "      <td>Premier League</td>\n",
              "      <td>Matchweek 4</td>\n",
              "      <td>Sat</td>\n",
              "      <td>Home</td>\n",
              "      <td>W</td>\n",
              "      <td>4</td>\n",
              "      <td>2</td>\n",
              "      <td>Crystal Palace</td>\n",
              "      <td>...</td>\n",
              "      <td>Match Report</td>\n",
              "      <td>NaN</td>\n",
              "      <td>18.0</td>\n",
              "      <td>5.0</td>\n",
              "      <td>14.1</td>\n",
              "      <td>0.0</td>\n",
              "      <td>0</td>\n",
              "      <td>0</td>\n",
              "      <td>2022-2023</td>\n",
              "      <td>Manchester City</td>\n",
              "    </tr>\n",
              "    <tr>\n",
              "      <th>5</th>\n",
              "      <td>2022-08-31</td>\n",
              "      <td>19:30</td>\n",
              "      <td>Premier League</td>\n",
              "      <td>Matchweek 5</td>\n",
              "      <td>Wed</td>\n",
              "      <td>Home</td>\n",
              "      <td>W</td>\n",
              "      <td>6</td>\n",
              "      <td>0</td>\n",
              "      <td>Nott'ham Forest</td>\n",
              "      <td>...</td>\n",
              "      <td>Match Report</td>\n",
              "      <td>NaN</td>\n",
              "      <td>17.0</td>\n",
              "      <td>9.0</td>\n",
              "      <td>14.8</td>\n",
              "      <td>0.0</td>\n",
              "      <td>0</td>\n",
              "      <td>0</td>\n",
              "      <td>2022-2023</td>\n",
              "      <td>Manchester City</td>\n",
              "    </tr>\n",
              "  </tbody>\n",
              "</table>\n",
              "<p>5 rows × 27 columns</p>\n",
              "</div>\n",
              "    <div class=\"colab-df-buttons\">\n",
              "\n",
              "  <div class=\"colab-df-container\">\n",
              "    <button class=\"colab-df-convert\" onclick=\"convertToInteractive('df-fb890c10-51f1-4d4c-aa3f-966fd98f27cd')\"\n",
              "            title=\"Convert this dataframe to an interactive table.\"\n",
              "            style=\"display:none;\">\n",
              "\n",
              "  <svg xmlns=\"http://www.w3.org/2000/svg\" height=\"24px\" viewBox=\"0 -960 960 960\">\n",
              "    <path d=\"M120-120v-720h720v720H120Zm60-500h600v-160H180v160Zm220 220h160v-160H400v160Zm0 220h160v-160H400v160ZM180-400h160v-160H180v160Zm440 0h160v-160H620v160ZM180-180h160v-160H180v160Zm440 0h160v-160H620v160Z\"/>\n",
              "  </svg>\n",
              "    </button>\n",
              "\n",
              "  <style>\n",
              "    .colab-df-container {\n",
              "      display:flex;\n",
              "      gap: 12px;\n",
              "    }\n",
              "\n",
              "    .colab-df-convert {\n",
              "      background-color: #E8F0FE;\n",
              "      border: none;\n",
              "      border-radius: 50%;\n",
              "      cursor: pointer;\n",
              "      display: none;\n",
              "      fill: #1967D2;\n",
              "      height: 32px;\n",
              "      padding: 0 0 0 0;\n",
              "      width: 32px;\n",
              "    }\n",
              "\n",
              "    .colab-df-convert:hover {\n",
              "      background-color: #E2EBFA;\n",
              "      box-shadow: 0px 1px 2px rgba(60, 64, 67, 0.3), 0px 1px 3px 1px rgba(60, 64, 67, 0.15);\n",
              "      fill: #174EA6;\n",
              "    }\n",
              "\n",
              "    .colab-df-buttons div {\n",
              "      margin-bottom: 4px;\n",
              "    }\n",
              "\n",
              "    [theme=dark] .colab-df-convert {\n",
              "      background-color: #3B4455;\n",
              "      fill: #D2E3FC;\n",
              "    }\n",
              "\n",
              "    [theme=dark] .colab-df-convert:hover {\n",
              "      background-color: #434B5C;\n",
              "      box-shadow: 0px 1px 3px 1px rgba(0, 0, 0, 0.15);\n",
              "      filter: drop-shadow(0px 1px 2px rgba(0, 0, 0, 0.3));\n",
              "      fill: #FFFFFF;\n",
              "    }\n",
              "  </style>\n",
              "\n",
              "    <script>\n",
              "      const buttonEl =\n",
              "        document.querySelector('#df-fb890c10-51f1-4d4c-aa3f-966fd98f27cd button.colab-df-convert');\n",
              "      buttonEl.style.display =\n",
              "        google.colab.kernel.accessAllowed ? 'block' : 'none';\n",
              "\n",
              "      async function convertToInteractive(key) {\n",
              "        const element = document.querySelector('#df-fb890c10-51f1-4d4c-aa3f-966fd98f27cd');\n",
              "        const dataTable =\n",
              "          await google.colab.kernel.invokeFunction('convertToInteractive',\n",
              "                                                    [key], {});\n",
              "        if (!dataTable) return;\n",
              "\n",
              "        const docLinkHtml = 'Like what you see? Visit the ' +\n",
              "          '<a target=\"_blank\" href=https://colab.research.google.com/notebooks/data_table.ipynb>data table notebook</a>'\n",
              "          + ' to learn more about interactive tables.';\n",
              "        element.innerHTML = '';\n",
              "        dataTable['output_type'] = 'display_data';\n",
              "        await google.colab.output.renderOutput(dataTable, element);\n",
              "        const docLink = document.createElement('div');\n",
              "        docLink.innerHTML = docLinkHtml;\n",
              "        element.appendChild(docLink);\n",
              "      }\n",
              "    </script>\n",
              "  </div>\n",
              "\n",
              "\n",
              "<div id=\"df-e41149e6-336f-4cd7-992b-b57c9bec550a\">\n",
              "  <button class=\"colab-df-quickchart\" onclick=\"quickchart('df-e41149e6-336f-4cd7-992b-b57c9bec550a')\"\n",
              "            title=\"Suggest charts\"\n",
              "            style=\"display:none;\">\n",
              "\n",
              "<svg xmlns=\"http://www.w3.org/2000/svg\" height=\"24px\"viewBox=\"0 0 24 24\"\n",
              "     width=\"24px\">\n",
              "    <g>\n",
              "        <path d=\"M19 3H5c-1.1 0-2 .9-2 2v14c0 1.1.9 2 2 2h14c1.1 0 2-.9 2-2V5c0-1.1-.9-2-2-2zM9 17H7v-7h2v7zm4 0h-2V7h2v10zm4 0h-2v-4h2v4z\"/>\n",
              "    </g>\n",
              "</svg>\n",
              "  </button>\n",
              "\n",
              "<style>\n",
              "  .colab-df-quickchart {\n",
              "      --bg-color: #E8F0FE;\n",
              "      --fill-color: #1967D2;\n",
              "      --hover-bg-color: #E2EBFA;\n",
              "      --hover-fill-color: #174EA6;\n",
              "      --disabled-fill-color: #AAA;\n",
              "      --disabled-bg-color: #DDD;\n",
              "  }\n",
              "\n",
              "  [theme=dark] .colab-df-quickchart {\n",
              "      --bg-color: #3B4455;\n",
              "      --fill-color: #D2E3FC;\n",
              "      --hover-bg-color: #434B5C;\n",
              "      --hover-fill-color: #FFFFFF;\n",
              "      --disabled-bg-color: #3B4455;\n",
              "      --disabled-fill-color: #666;\n",
              "  }\n",
              "\n",
              "  .colab-df-quickchart {\n",
              "    background-color: var(--bg-color);\n",
              "    border: none;\n",
              "    border-radius: 50%;\n",
              "    cursor: pointer;\n",
              "    display: none;\n",
              "    fill: var(--fill-color);\n",
              "    height: 32px;\n",
              "    padding: 0;\n",
              "    width: 32px;\n",
              "  }\n",
              "\n",
              "  .colab-df-quickchart:hover {\n",
              "    background-color: var(--hover-bg-color);\n",
              "    box-shadow: 0 1px 2px rgba(60, 64, 67, 0.3), 0 1px 3px 1px rgba(60, 64, 67, 0.15);\n",
              "    fill: var(--button-hover-fill-color);\n",
              "  }\n",
              "\n",
              "  .colab-df-quickchart-complete:disabled,\n",
              "  .colab-df-quickchart-complete:disabled:hover {\n",
              "    background-color: var(--disabled-bg-color);\n",
              "    fill: var(--disabled-fill-color);\n",
              "    box-shadow: none;\n",
              "  }\n",
              "\n",
              "  .colab-df-spinner {\n",
              "    border: 2px solid var(--fill-color);\n",
              "    border-color: transparent;\n",
              "    border-bottom-color: var(--fill-color);\n",
              "    animation:\n",
              "      spin 1s steps(1) infinite;\n",
              "  }\n",
              "\n",
              "  @keyframes spin {\n",
              "    0% {\n",
              "      border-color: transparent;\n",
              "      border-bottom-color: var(--fill-color);\n",
              "      border-left-color: var(--fill-color);\n",
              "    }\n",
              "    20% {\n",
              "      border-color: transparent;\n",
              "      border-left-color: var(--fill-color);\n",
              "      border-top-color: var(--fill-color);\n",
              "    }\n",
              "    30% {\n",
              "      border-color: transparent;\n",
              "      border-left-color: var(--fill-color);\n",
              "      border-top-color: var(--fill-color);\n",
              "      border-right-color: var(--fill-color);\n",
              "    }\n",
              "    40% {\n",
              "      border-color: transparent;\n",
              "      border-right-color: var(--fill-color);\n",
              "      border-top-color: var(--fill-color);\n",
              "    }\n",
              "    60% {\n",
              "      border-color: transparent;\n",
              "      border-right-color: var(--fill-color);\n",
              "    }\n",
              "    80% {\n",
              "      border-color: transparent;\n",
              "      border-right-color: var(--fill-color);\n",
              "      border-bottom-color: var(--fill-color);\n",
              "    }\n",
              "    90% {\n",
              "      border-color: transparent;\n",
              "      border-bottom-color: var(--fill-color);\n",
              "    }\n",
              "  }\n",
              "</style>\n",
              "\n",
              "  <script>\n",
              "    async function quickchart(key) {\n",
              "      const quickchartButtonEl =\n",
              "        document.querySelector('#' + key + ' button');\n",
              "      quickchartButtonEl.disabled = true;  // To prevent multiple clicks.\n",
              "      quickchartButtonEl.classList.add('colab-df-spinner');\n",
              "      try {\n",
              "        const charts = await google.colab.kernel.invokeFunction(\n",
              "            'suggestCharts', [key], {});\n",
              "      } catch (error) {\n",
              "        console.error('Error during call to suggestCharts:', error);\n",
              "      }\n",
              "      quickchartButtonEl.classList.remove('colab-df-spinner');\n",
              "      quickchartButtonEl.classList.add('colab-df-quickchart-complete');\n",
              "    }\n",
              "    (() => {\n",
              "      let quickchartButtonEl =\n",
              "        document.querySelector('#df-e41149e6-336f-4cd7-992b-b57c9bec550a button');\n",
              "      quickchartButtonEl.style.display =\n",
              "        google.colab.kernel.accessAllowed ? 'block' : 'none';\n",
              "    })();\n",
              "  </script>\n",
              "</div>\n",
              "\n",
              "    </div>\n",
              "  </div>\n"
            ],
            "application/vnd.google.colaboratory.intrinsic+json": {
              "type": "dataframe",
              "variable_name": "matches"
            }
          },
          "metadata": {},
          "execution_count": 58
        }
      ]
    },
    {
      "cell_type": "code",
      "source": [
        "matches['date']=pd.to_datetime(matches['date'])\n",
        "\n",
        "matches['venue_code'] = matches['venue'].astype('category').cat.codes\n",
        "\n",
        "matches['opp_code'] = matches['opponent'].astype('category').cat.codes\n",
        "\n",
        "matches['hour'] = matches['time'].str.replace(':.+','',regex=True).astype('int')\n",
        "\n",
        "matches['day_code']= matches['date'].dt.dayofweek\n",
        "\n",
        "matches['target']=(matches['result'] == 'W')"
      ],
      "metadata": {
        "id": "e_OpzftJCYEy"
      },
      "execution_count": 59,
      "outputs": []
    },
    {
      "cell_type": "code",
      "source": [
        "test = matches[matches['date'] > '2022-01-01']\n",
        "\n",
        "train = matches[matches['date'] < '2022-01-01']\n",
        "\n",
        "predictors = ['venue_code', 'opp_code', 'hour', 'day_code']\n",
        "\n",
        "X_train = train[predictors]\n",
        "\n",
        "X_test = test[predictors]\n",
        "\n",
        "y_test= test ['target']\n",
        "\n",
        "y_train = train['target']"
      ],
      "metadata": {
        "id": "7UOmyyyVC0QD"
      },
      "execution_count": 60,
      "outputs": []
    },
    {
      "cell_type": "code",
      "source": [
        "predictors"
      ],
      "metadata": {
        "id": "SSgDXQksD-lC",
        "colab": {
          "base_uri": "https://localhost:8080/"
        },
        "outputId": "322fcf91-70b1-4875-ac9e-ee8f21ffcb9a"
      },
      "execution_count": 61,
      "outputs": [
        {
          "output_type": "execute_result",
          "data": {
            "text/plain": [
              "['venue_code', 'opp_code', 'hour', 'day_code']"
            ]
          },
          "metadata": {},
          "execution_count": 61
        }
      ]
    },
    {
      "cell_type": "code",
      "source": [
        "X_train_subset = train[['venue_code', 'opp_code', 'hour', 'day_code',\"gf\", \"ga\", \"sh\", \"sot\", \"dist\", \"fk\", \"pk\", \"pkatt\" ]]\n",
        "X_test_subset = test[['venue_code', 'opp_code', 'hour', 'day_code',\"gf\", \"ga\", \"sh\", \"sot\", \"dist\", \"fk\", \"pk\", \"pkatt\" ]]\n",
        "\n",
        "# Displaying the DataFrame\n",
        "print(X_train_subset.head())\n",
        "print(X_test_subset.head())"
      ],
      "metadata": {
        "colab": {
          "base_uri": "https://localhost:8080/"
        },
        "id": "KUjL2GGU_u_u",
        "outputId": "06fb6fe0-d2ee-4893-8051-cafe4fe67619"
      },
      "execution_count": 62,
      "outputs": [
        {
          "output_type": "stream",
          "name": "stdout",
          "text": [
            "   venue_code  opp_code  hour  day_code  gf  ga    sh   sot  dist   fk  pk  \\\n",
            "1           0        24    16         6   0   1  18.0   4.0  17.3  1.0   0   \n",
            "2           1        18    15         5   5   0  16.0   4.0  18.5  1.0   0   \n",
            "3           1         0    12         5   5   0  25.0  10.0  14.8  0.0   0   \n",
            "4           0        13    15         5   1   0  25.0   8.0  14.3  0.0   0   \n",
            "6           1        21    15         5   0   0  16.0   1.0  16.4  1.0   0   \n",
            "\n",
            "   pkatt  \n",
            "1      0  \n",
            "2      0  \n",
            "3      0  \n",
            "4      0  \n",
            "6      0  \n",
            "   venue_code  opp_code  hour  day_code  gf  ga    sh   sot  dist   fk  pk  \\\n",
            "1           0        27    16         6   2   0  13.0   1.0  18.7  1.0   1   \n",
            "2           1         2    15         5   4   0  19.0   7.0  17.5  0.0   0   \n",
            "3           0        17    16         6   3   3  21.0  10.0  16.2  1.0   0   \n",
            "4           1         8    15         5   4   2  18.0   5.0  14.1  0.0   0   \n",
            "5           1        19    19         2   6   0  17.0   9.0  14.8  0.0   0   \n",
            "\n",
            "   pkatt  \n",
            "1      1  \n",
            "2      0  \n",
            "3      0  \n",
            "4      0  \n",
            "5      0  \n"
          ]
        }
      ]
    },
    {
      "cell_type": "code",
      "source": [
        "X_test_subset.head()"
      ],
      "metadata": {
        "colab": {
          "base_uri": "https://localhost:8080/",
          "height": 206
        },
        "id": "JvC-QWG6AYs2",
        "outputId": "dadaa6fc-8d1f-48b5-c704-31d4b9ea95de"
      },
      "execution_count": 63,
      "outputs": [
        {
          "output_type": "execute_result",
          "data": {
            "text/plain": [
              "   venue_code  opp_code  hour  day_code  gf  ga    sh   sot  dist   fk  pk  \\\n",
              "1           0        27    16         6   2   0  13.0   1.0  18.7  1.0   1   \n",
              "2           1         2    15         5   4   0  19.0   7.0  17.5  0.0   0   \n",
              "3           0        17    16         6   3   3  21.0  10.0  16.2  1.0   0   \n",
              "4           1         8    15         5   4   2  18.0   5.0  14.1  0.0   0   \n",
              "5           1        19    19         2   6   0  17.0   9.0  14.8  0.0   0   \n",
              "\n",
              "   pkatt  \n",
              "1      1  \n",
              "2      0  \n",
              "3      0  \n",
              "4      0  \n",
              "5      0  "
            ],
            "text/html": [
              "\n",
              "  <div id=\"df-14b1525c-6c78-426a-a7fd-03298ddbc3e0\" class=\"colab-df-container\">\n",
              "    <div>\n",
              "<style scoped>\n",
              "    .dataframe tbody tr th:only-of-type {\n",
              "        vertical-align: middle;\n",
              "    }\n",
              "\n",
              "    .dataframe tbody tr th {\n",
              "        vertical-align: top;\n",
              "    }\n",
              "\n",
              "    .dataframe thead th {\n",
              "        text-align: right;\n",
              "    }\n",
              "</style>\n",
              "<table border=\"1\" class=\"dataframe\">\n",
              "  <thead>\n",
              "    <tr style=\"text-align: right;\">\n",
              "      <th></th>\n",
              "      <th>venue_code</th>\n",
              "      <th>opp_code</th>\n",
              "      <th>hour</th>\n",
              "      <th>day_code</th>\n",
              "      <th>gf</th>\n",
              "      <th>ga</th>\n",
              "      <th>sh</th>\n",
              "      <th>sot</th>\n",
              "      <th>dist</th>\n",
              "      <th>fk</th>\n",
              "      <th>pk</th>\n",
              "      <th>pkatt</th>\n",
              "    </tr>\n",
              "  </thead>\n",
              "  <tbody>\n",
              "    <tr>\n",
              "      <th>1</th>\n",
              "      <td>0</td>\n",
              "      <td>27</td>\n",
              "      <td>16</td>\n",
              "      <td>6</td>\n",
              "      <td>2</td>\n",
              "      <td>0</td>\n",
              "      <td>13.0</td>\n",
              "      <td>1.0</td>\n",
              "      <td>18.7</td>\n",
              "      <td>1.0</td>\n",
              "      <td>1</td>\n",
              "      <td>1</td>\n",
              "    </tr>\n",
              "    <tr>\n",
              "      <th>2</th>\n",
              "      <td>1</td>\n",
              "      <td>2</td>\n",
              "      <td>15</td>\n",
              "      <td>5</td>\n",
              "      <td>4</td>\n",
              "      <td>0</td>\n",
              "      <td>19.0</td>\n",
              "      <td>7.0</td>\n",
              "      <td>17.5</td>\n",
              "      <td>0.0</td>\n",
              "      <td>0</td>\n",
              "      <td>0</td>\n",
              "    </tr>\n",
              "    <tr>\n",
              "      <th>3</th>\n",
              "      <td>0</td>\n",
              "      <td>17</td>\n",
              "      <td>16</td>\n",
              "      <td>6</td>\n",
              "      <td>3</td>\n",
              "      <td>3</td>\n",
              "      <td>21.0</td>\n",
              "      <td>10.0</td>\n",
              "      <td>16.2</td>\n",
              "      <td>1.0</td>\n",
              "      <td>0</td>\n",
              "      <td>0</td>\n",
              "    </tr>\n",
              "    <tr>\n",
              "      <th>4</th>\n",
              "      <td>1</td>\n",
              "      <td>8</td>\n",
              "      <td>15</td>\n",
              "      <td>5</td>\n",
              "      <td>4</td>\n",
              "      <td>2</td>\n",
              "      <td>18.0</td>\n",
              "      <td>5.0</td>\n",
              "      <td>14.1</td>\n",
              "      <td>0.0</td>\n",
              "      <td>0</td>\n",
              "      <td>0</td>\n",
              "    </tr>\n",
              "    <tr>\n",
              "      <th>5</th>\n",
              "      <td>1</td>\n",
              "      <td>19</td>\n",
              "      <td>19</td>\n",
              "      <td>2</td>\n",
              "      <td>6</td>\n",
              "      <td>0</td>\n",
              "      <td>17.0</td>\n",
              "      <td>9.0</td>\n",
              "      <td>14.8</td>\n",
              "      <td>0.0</td>\n",
              "      <td>0</td>\n",
              "      <td>0</td>\n",
              "    </tr>\n",
              "  </tbody>\n",
              "</table>\n",
              "</div>\n",
              "    <div class=\"colab-df-buttons\">\n",
              "\n",
              "  <div class=\"colab-df-container\">\n",
              "    <button class=\"colab-df-convert\" onclick=\"convertToInteractive('df-14b1525c-6c78-426a-a7fd-03298ddbc3e0')\"\n",
              "            title=\"Convert this dataframe to an interactive table.\"\n",
              "            style=\"display:none;\">\n",
              "\n",
              "  <svg xmlns=\"http://www.w3.org/2000/svg\" height=\"24px\" viewBox=\"0 -960 960 960\">\n",
              "    <path d=\"M120-120v-720h720v720H120Zm60-500h600v-160H180v160Zm220 220h160v-160H400v160Zm0 220h160v-160H400v160ZM180-400h160v-160H180v160Zm440 0h160v-160H620v160ZM180-180h160v-160H180v160Zm440 0h160v-160H620v160Z\"/>\n",
              "  </svg>\n",
              "    </button>\n",
              "\n",
              "  <style>\n",
              "    .colab-df-container {\n",
              "      display:flex;\n",
              "      gap: 12px;\n",
              "    }\n",
              "\n",
              "    .colab-df-convert {\n",
              "      background-color: #E8F0FE;\n",
              "      border: none;\n",
              "      border-radius: 50%;\n",
              "      cursor: pointer;\n",
              "      display: none;\n",
              "      fill: #1967D2;\n",
              "      height: 32px;\n",
              "      padding: 0 0 0 0;\n",
              "      width: 32px;\n",
              "    }\n",
              "\n",
              "    .colab-df-convert:hover {\n",
              "      background-color: #E2EBFA;\n",
              "      box-shadow: 0px 1px 2px rgba(60, 64, 67, 0.3), 0px 1px 3px 1px rgba(60, 64, 67, 0.15);\n",
              "      fill: #174EA6;\n",
              "    }\n",
              "\n",
              "    .colab-df-buttons div {\n",
              "      margin-bottom: 4px;\n",
              "    }\n",
              "\n",
              "    [theme=dark] .colab-df-convert {\n",
              "      background-color: #3B4455;\n",
              "      fill: #D2E3FC;\n",
              "    }\n",
              "\n",
              "    [theme=dark] .colab-df-convert:hover {\n",
              "      background-color: #434B5C;\n",
              "      box-shadow: 0px 1px 3px 1px rgba(0, 0, 0, 0.15);\n",
              "      filter: drop-shadow(0px 1px 2px rgba(0, 0, 0, 0.3));\n",
              "      fill: #FFFFFF;\n",
              "    }\n",
              "  </style>\n",
              "\n",
              "    <script>\n",
              "      const buttonEl =\n",
              "        document.querySelector('#df-14b1525c-6c78-426a-a7fd-03298ddbc3e0 button.colab-df-convert');\n",
              "      buttonEl.style.display =\n",
              "        google.colab.kernel.accessAllowed ? 'block' : 'none';\n",
              "\n",
              "      async function convertToInteractive(key) {\n",
              "        const element = document.querySelector('#df-14b1525c-6c78-426a-a7fd-03298ddbc3e0');\n",
              "        const dataTable =\n",
              "          await google.colab.kernel.invokeFunction('convertToInteractive',\n",
              "                                                    [key], {});\n",
              "        if (!dataTable) return;\n",
              "\n",
              "        const docLinkHtml = 'Like what you see? Visit the ' +\n",
              "          '<a target=\"_blank\" href=https://colab.research.google.com/notebooks/data_table.ipynb>data table notebook</a>'\n",
              "          + ' to learn more about interactive tables.';\n",
              "        element.innerHTML = '';\n",
              "        dataTable['output_type'] = 'display_data';\n",
              "        await google.colab.output.renderOutput(dataTable, element);\n",
              "        const docLink = document.createElement('div');\n",
              "        docLink.innerHTML = docLinkHtml;\n",
              "        element.appendChild(docLink);\n",
              "      }\n",
              "    </script>\n",
              "  </div>\n",
              "\n",
              "\n",
              "<div id=\"df-a2f9213f-5ea6-41bf-a147-4fc2f6b350e0\">\n",
              "  <button class=\"colab-df-quickchart\" onclick=\"quickchart('df-a2f9213f-5ea6-41bf-a147-4fc2f6b350e0')\"\n",
              "            title=\"Suggest charts\"\n",
              "            style=\"display:none;\">\n",
              "\n",
              "<svg xmlns=\"http://www.w3.org/2000/svg\" height=\"24px\"viewBox=\"0 0 24 24\"\n",
              "     width=\"24px\">\n",
              "    <g>\n",
              "        <path d=\"M19 3H5c-1.1 0-2 .9-2 2v14c0 1.1.9 2 2 2h14c1.1 0 2-.9 2-2V5c0-1.1-.9-2-2-2zM9 17H7v-7h2v7zm4 0h-2V7h2v10zm4 0h-2v-4h2v4z\"/>\n",
              "    </g>\n",
              "</svg>\n",
              "  </button>\n",
              "\n",
              "<style>\n",
              "  .colab-df-quickchart {\n",
              "      --bg-color: #E8F0FE;\n",
              "      --fill-color: #1967D2;\n",
              "      --hover-bg-color: #E2EBFA;\n",
              "      --hover-fill-color: #174EA6;\n",
              "      --disabled-fill-color: #AAA;\n",
              "      --disabled-bg-color: #DDD;\n",
              "  }\n",
              "\n",
              "  [theme=dark] .colab-df-quickchart {\n",
              "      --bg-color: #3B4455;\n",
              "      --fill-color: #D2E3FC;\n",
              "      --hover-bg-color: #434B5C;\n",
              "      --hover-fill-color: #FFFFFF;\n",
              "      --disabled-bg-color: #3B4455;\n",
              "      --disabled-fill-color: #666;\n",
              "  }\n",
              "\n",
              "  .colab-df-quickchart {\n",
              "    background-color: var(--bg-color);\n",
              "    border: none;\n",
              "    border-radius: 50%;\n",
              "    cursor: pointer;\n",
              "    display: none;\n",
              "    fill: var(--fill-color);\n",
              "    height: 32px;\n",
              "    padding: 0;\n",
              "    width: 32px;\n",
              "  }\n",
              "\n",
              "  .colab-df-quickchart:hover {\n",
              "    background-color: var(--hover-bg-color);\n",
              "    box-shadow: 0 1px 2px rgba(60, 64, 67, 0.3), 0 1px 3px 1px rgba(60, 64, 67, 0.15);\n",
              "    fill: var(--button-hover-fill-color);\n",
              "  }\n",
              "\n",
              "  .colab-df-quickchart-complete:disabled,\n",
              "  .colab-df-quickchart-complete:disabled:hover {\n",
              "    background-color: var(--disabled-bg-color);\n",
              "    fill: var(--disabled-fill-color);\n",
              "    box-shadow: none;\n",
              "  }\n",
              "\n",
              "  .colab-df-spinner {\n",
              "    border: 2px solid var(--fill-color);\n",
              "    border-color: transparent;\n",
              "    border-bottom-color: var(--fill-color);\n",
              "    animation:\n",
              "      spin 1s steps(1) infinite;\n",
              "  }\n",
              "\n",
              "  @keyframes spin {\n",
              "    0% {\n",
              "      border-color: transparent;\n",
              "      border-bottom-color: var(--fill-color);\n",
              "      border-left-color: var(--fill-color);\n",
              "    }\n",
              "    20% {\n",
              "      border-color: transparent;\n",
              "      border-left-color: var(--fill-color);\n",
              "      border-top-color: var(--fill-color);\n",
              "    }\n",
              "    30% {\n",
              "      border-color: transparent;\n",
              "      border-left-color: var(--fill-color);\n",
              "      border-top-color: var(--fill-color);\n",
              "      border-right-color: var(--fill-color);\n",
              "    }\n",
              "    40% {\n",
              "      border-color: transparent;\n",
              "      border-right-color: var(--fill-color);\n",
              "      border-top-color: var(--fill-color);\n",
              "    }\n",
              "    60% {\n",
              "      border-color: transparent;\n",
              "      border-right-color: var(--fill-color);\n",
              "    }\n",
              "    80% {\n",
              "      border-color: transparent;\n",
              "      border-right-color: var(--fill-color);\n",
              "      border-bottom-color: var(--fill-color);\n",
              "    }\n",
              "    90% {\n",
              "      border-color: transparent;\n",
              "      border-bottom-color: var(--fill-color);\n",
              "    }\n",
              "  }\n",
              "</style>\n",
              "\n",
              "  <script>\n",
              "    async function quickchart(key) {\n",
              "      const quickchartButtonEl =\n",
              "        document.querySelector('#' + key + ' button');\n",
              "      quickchartButtonEl.disabled = true;  // To prevent multiple clicks.\n",
              "      quickchartButtonEl.classList.add('colab-df-spinner');\n",
              "      try {\n",
              "        const charts = await google.colab.kernel.invokeFunction(\n",
              "            'suggestCharts', [key], {});\n",
              "      } catch (error) {\n",
              "        console.error('Error during call to suggestCharts:', error);\n",
              "      }\n",
              "      quickchartButtonEl.classList.remove('colab-df-spinner');\n",
              "      quickchartButtonEl.classList.add('colab-df-quickchart-complete');\n",
              "    }\n",
              "    (() => {\n",
              "      let quickchartButtonEl =\n",
              "        document.querySelector('#df-a2f9213f-5ea6-41bf-a147-4fc2f6b350e0 button');\n",
              "      quickchartButtonEl.style.display =\n",
              "        google.colab.kernel.accessAllowed ? 'block' : 'none';\n",
              "    })();\n",
              "  </script>\n",
              "</div>\n",
              "\n",
              "    </div>\n",
              "  </div>\n"
            ],
            "application/vnd.google.colaboratory.intrinsic+json": {
              "type": "dataframe",
              "variable_name": "X_test_subset",
              "summary": "{\n  \"name\": \"X_test_subset\",\n  \"rows\": 1148,\n  \"fields\": [\n    {\n      \"column\": \"venue_code\",\n      \"properties\": {\n        \"dtype\": \"int8\",\n        \"num_unique_values\": 2,\n        \"samples\": [\n          1,\n          0\n        ],\n        \"semantic_type\": \"\",\n        \"description\": \"\"\n      }\n    },\n    {\n      \"column\": \"opp_code\",\n      \"properties\": {\n        \"dtype\": \"int8\",\n        \"num_unique_values\": 23,\n        \"samples\": [\n          9,\n          14\n        ],\n        \"semantic_type\": \"\",\n        \"description\": \"\"\n      }\n    },\n    {\n      \"column\": \"hour\",\n      \"properties\": {\n        \"dtype\": \"number\",\n        \"std\": 2,\n        \"min\": 12,\n        \"max\": 20,\n        \"num_unique_values\": 9,\n        \"samples\": [\n          13,\n          15\n        ],\n        \"semantic_type\": \"\",\n        \"description\": \"\"\n      }\n    },\n    {\n      \"column\": \"day_code\",\n      \"properties\": {\n        \"dtype\": \"int32\",\n        \"num_unique_values\": 7,\n        \"samples\": [\n          6,\n          5\n        ],\n        \"semantic_type\": \"\",\n        \"description\": \"\"\n      }\n    },\n    {\n      \"column\": \"gf\",\n      \"properties\": {\n        \"dtype\": \"number\",\n        \"std\": 1,\n        \"min\": 0,\n        \"max\": 9,\n        \"num_unique_values\": 9,\n        \"samples\": [\n          9,\n          4\n        ],\n        \"semantic_type\": \"\",\n        \"description\": \"\"\n      }\n    },\n    {\n      \"column\": \"ga\",\n      \"properties\": {\n        \"dtype\": \"number\",\n        \"std\": 1,\n        \"min\": 0,\n        \"max\": 9,\n        \"num_unique_values\": 9,\n        \"samples\": [\n          5,\n          3\n        ],\n        \"semantic_type\": \"\",\n        \"description\": \"\"\n      }\n    },\n    {\n      \"column\": \"sh\",\n      \"properties\": {\n        \"dtype\": \"number\",\n        \"std\": 5.467201871519559,\n        \"min\": 1.0,\n        \"max\": 32.0,\n        \"num_unique_values\": 32,\n        \"samples\": [\n          3.0,\n          11.0\n        ],\n        \"semantic_type\": \"\",\n        \"description\": \"\"\n      }\n    },\n    {\n      \"column\": \"sot\",\n      \"properties\": {\n        \"dtype\": \"number\",\n        \"std\": 2.4093798367046135,\n        \"min\": 0.0,\n        \"max\": 14.0,\n        \"num_unique_values\": 15,\n        \"samples\": [\n          2.0,\n          11.0\n        ],\n        \"semantic_type\": \"\",\n        \"description\": \"\"\n      }\n    },\n    {\n      \"column\": \"dist\",\n      \"properties\": {\n        \"dtype\": \"number\",\n        \"std\": 2.8738243383252278,\n        \"min\": 7.5,\n        \"max\": 29.4,\n        \"num_unique_values\": 153,\n        \"samples\": [\n          10.0,\n          18.9\n        ],\n        \"semantic_type\": \"\",\n        \"description\": \"\"\n      }\n    },\n    {\n      \"column\": \"fk\",\n      \"properties\": {\n        \"dtype\": \"number\",\n        \"std\": 0.631682715946644,\n        \"min\": 0.0,\n        \"max\": 4.0,\n        \"num_unique_values\": 5,\n        \"samples\": [\n          0.0,\n          4.0\n        ],\n        \"semantic_type\": \"\",\n        \"description\": \"\"\n      }\n    },\n    {\n      \"column\": \"pk\",\n      \"properties\": {\n        \"dtype\": \"number\",\n        \"std\": 0,\n        \"min\": 0,\n        \"max\": 2,\n        \"num_unique_values\": 3,\n        \"samples\": [\n          1,\n          0\n        ],\n        \"semantic_type\": \"\",\n        \"description\": \"\"\n      }\n    },\n    {\n      \"column\": \"pkatt\",\n      \"properties\": {\n        \"dtype\": \"number\",\n        \"std\": 0,\n        \"min\": 0,\n        \"max\": 2,\n        \"num_unique_values\": 3,\n        \"samples\": [\n          1,\n          0\n        ],\n        \"semantic_type\": \"\",\n        \"description\": \"\"\n      }\n    }\n  ]\n}"
            }
          },
          "metadata": {},
          "execution_count": 63
        }
      ]
    },
    {
      "cell_type": "code",
      "source": [
        "class NeuralNetwork(nn.Module):\n",
        "    def __init__(self,n_input, n_hidden):\n",
        "        super(NeuralNetwork, self).__init__()\n",
        "        self.layer1 = nn.Linear(n_input, n_hidden)\n",
        "        self.relu = nn.ReLU()\n",
        "        self.layer2 = nn.Linear(n_hidden, n_hidden)\n",
        "        self.output = nn.Linear(n_hidden, 1)\n",
        "        self.sigmoid = nn.Sigmoid()\n",
        "\n",
        "    def forward(self, x):\n",
        "        x = self.relu(self.layer1(x))\n",
        "        x = self.relu(self.layer2(x))\n",
        "        x = self.sigmoid(self.output(x))\n",
        "        return x"
      ],
      "metadata": {
        "id": "NKmxtAy1ZUeo"
      },
      "execution_count": 64,
      "outputs": []
    },
    {
      "cell_type": "code",
      "source": [
        "train_features = torch.Tensor(X_train.values)"
      ],
      "metadata": {
        "id": "9pQSkmjWaQUv"
      },
      "execution_count": 65,
      "outputs": []
    },
    {
      "cell_type": "code",
      "source": [
        "train_features"
      ],
      "metadata": {
        "colab": {
          "base_uri": "https://localhost:8080/"
        },
        "id": "YOTzcz_PaRuS",
        "outputId": "53b23749-a041-4387-f987-8a19fb9f21c5"
      },
      "execution_count": 66,
      "outputs": [
        {
          "output_type": "execute_result",
          "data": {
            "text/plain": [
              "tensor([[ 0., 24., 16.,  6.],\n",
              "        [ 1., 18., 15.,  5.],\n",
              "        [ 1.,  0., 12.,  5.],\n",
              "        ...,\n",
              "        [ 0., 17., 15.,  5.],\n",
              "        [ 1., 24., 15.,  5.],\n",
              "        [ 0.,  8., 15.,  6.]])"
            ]
          },
          "metadata": {},
          "execution_count": 66
        }
      ]
    },
    {
      "cell_type": "code",
      "source": [
        "def prepare_data_loaders(X_train, y_train, X_test, y_test, batch_size):\n",
        "    train_features = torch.Tensor(X_train.values)\n",
        "    train_targets = torch.Tensor(y_train.values).view(-1, 1)\n",
        "    train_dataset = TensorDataset(train_features, train_targets)\n",
        "    train_loader = DataLoader(dataset=train_dataset, batch_size=batch_size, shuffle=True)\n",
        "\n",
        "    test_features = torch.Tensor(X_test.values)\n",
        "    test_targets = torch.Tensor(y_test.values).view(-1, 1)\n",
        "    test_dataset = TensorDataset(test_features, test_targets)\n",
        "    test_loader = DataLoader(dataset=test_dataset, batch_size=batch_size, shuffle=False)\n",
        "\n",
        "    return train_loader, test_loader"
      ],
      "metadata": {
        "id": "V_k8QFQEQ-UW"
      },
      "execution_count": 67,
      "outputs": []
    },
    {
      "cell_type": "code",
      "source": [
        "def evaluate_model(model, test_loader):\n",
        "    model.eval()\n",
        "    accuracy_metric = torchmetrics.Accuracy(threshold=0.5, task='binary')\n",
        "    precision_metric = torchmetrics.Precision(num_classes=2, average='macro', threshold=0.5, task='binary')\n",
        "    recall_metric = torchmetrics.Recall(num_classes=2, average='macro', threshold=0.5, task='binary')\n",
        "    f1_metric = torchmetrics.F1Score(num_classes=2, average='macro', threshold=0.5, task='binary')\n",
        "\n",
        "    with torch.no_grad():\n",
        "        for inputs, targets in test_loader:\n",
        "            outputs = model(inputs)\n",
        "            predicted = (outputs > 0.5).float()\n",
        "            accuracy_metric.update(predicted, targets.int())\n",
        "            precision_metric.update(predicted, targets.int())\n",
        "            recall_metric.update(predicted, targets.int())\n",
        "            f1_metric.update(predicted, targets.int())\n",
        "\n",
        "    accuracy = accuracy_metric.compute()\n",
        "    precision = precision_metric.compute()\n",
        "    recall = recall_metric.compute()\n",
        "    f1_score = f1_metric.compute()\n",
        "\n",
        "    return accuracy, precision, recall, f1_score"
      ],
      "metadata": {
        "id": "JdHmRLfnRVNL"
      },
      "execution_count": 68,
      "outputs": []
    },
    {
      "cell_type": "code",
      "source": [
        "def train_model(model, train_loader, criterion, optimizer, num_epochs=10):\n",
        "    for epoch in range(num_epochs):\n",
        "        model.train()\n",
        "        for inputs, targets in train_loader:\n",
        "            outputs = model(inputs)\n",
        "            loss = criterion(outputs, targets)\n",
        "\n",
        "            optimizer.zero_grad()\n",
        "            loss.backward()\n",
        "            optimizer.step()\n"
      ],
      "metadata": {
        "id": "nb_whwy4Z_ZQ"
      },
      "execution_count": 69,
      "outputs": []
    },
    {
      "cell_type": "code",
      "source": [
        "def objective(trial):\n",
        "    # Hyperparameters\n",
        "    n_hidden_layers = trial.suggest_int('n_hidden', 10, 100)\n",
        "    lr = trial.suggest_loguniform('lr', 1e-5, 1e-1)\n",
        "    batch_size = trial.suggest_categorical('batch_size', [32, 64, 128])\n",
        "    optimizer_name = trial.suggest_categorical('optimizer', ['Adam', 'RMSprop', 'SGD'])\n",
        "\n",
        "    # Prepare data loaders\n",
        "    train_loader, test_loader = prepare_data_loaders(X_train, y_train, X_test, y_test, batch_size)\n",
        "\n",
        "    # Setup the neural network\n",
        "    model = NeuralNetwork(n_input = len(predictors), n_hidden=n_hidden_layers)\n",
        "    criterion = nn.BCELoss()\n",
        "    optimizer = getattr(optim, optimizer_name)(model.parameters(), lr=lr)\n",
        "\n",
        "    # Train and evaluate the model\n",
        "    train_model(model, train_loader, criterion, optimizer)\n",
        "    accuracy, precision, recall, f1_score = evaluate_model(model, test_loader)\n",
        "    print(f\"Accuracy: {accuracy}, Precision: {precision}, Recall: {recall}, F1 Score: {f1_score}\")\n",
        "\n",
        "    # Store all metrics in the trial\n",
        "    trial.set_user_attr('accuracy', accuracy)\n",
        "    trial.set_user_attr('precision', precision)\n",
        "    trial.set_user_attr('recall', recall)\n",
        "    trial.set_user_attr('f1_score', f1_score)\n",
        "\n",
        "    return accuracy\n"
      ],
      "metadata": {
        "id": "FMxLTvcySDWX"
      },
      "execution_count": 70,
      "outputs": []
    },
    {
      "cell_type": "code",
      "source": [
        "# Set the seed for reproducibility\n",
        "sampler = optuna.samplers.TPESampler(seed=10)  # Use the same seed for the random sampler\n",
        "study = optuna.create_study(direction='maximize', sampler=sampler)\n",
        "study.optimize(objective, n_trials=100)"
      ],
      "metadata": {
        "colab": {
          "base_uri": "https://localhost:8080/"
        },
        "id": "0sKqb9HyQoGf",
        "outputId": "b7eee3e2-999e-492b-d0d2-262046aa25ad"
      },
      "execution_count": 71,
      "outputs": [
        {
          "output_type": "stream",
          "name": "stderr",
          "text": [
            "[I 2024-04-23 15:52:44,560] A new study created in memory with name: no-name-26cc2e8f-5436-4dc4-9b7f-3385466d9419\n",
            "<ipython-input-70-659680de4fc3>:4: FutureWarning: suggest_loguniform has been deprecated in v3.0.0. This feature will be removed in v6.0.0. See https://github.com/optuna/optuna/releases/tag/v3.0.0. Use suggest_float(..., log=True) instead.\n",
            "  lr = trial.suggest_loguniform('lr', 1e-5, 1e-1)\n",
            "[I 2024-04-23 15:52:45,686] Trial 0 finished with value: 0.44947734475135803 and parameters: {'n_hidden': 80, 'lr': 1.2106198691436028e-05, 'batch_size': 64, 'optimizer': 'SGD'}. Best is trial 0 with value: 0.44947734475135803.\n"
          ]
        },
        {
          "output_type": "stream",
          "name": "stdout",
          "text": [
            "Accuracy: 0.44947734475135803, Precision: 0.3973214328289032, Recall: 0.7946428656578064, F1 Score: 0.5297619104385376\n"
          ]
        },
        {
          "output_type": "stream",
          "name": "stderr",
          "text": [
            "[I 2024-04-23 15:52:46,738] Trial 1 finished with value: 0.6097561120986938 and parameters: {'n_hidden': 25, 'lr': 2.2561047334047238e-05, 'batch_size': 64, 'optimizer': 'RMSprop'}. Best is trial 1 with value: 0.6097561120986938.\n"
          ]
        },
        {
          "output_type": "stream",
          "name": "stdout",
          "text": [
            "Accuracy: 0.6097561120986938, Precision: 0.0, Recall: 0.0, F1 Score: 0.0\n"
          ]
        },
        {
          "output_type": "stream",
          "name": "stderr",
          "text": [
            "[I 2024-04-23 15:52:48,455] Trial 2 finished with value: 0.6097561120986938 and parameters: {'n_hidden': 75, 'lr': 0.00014706328837360436, 'batch_size': 32, 'optimizer': 'SGD'}. Best is trial 1 with value: 0.6097561120986938.\n"
          ]
        },
        {
          "output_type": "stream",
          "name": "stdout",
          "text": [
            "Accuracy: 0.6097561120986938, Precision: 0.0, Recall: 0.0, F1 Score: 0.0\n"
          ]
        },
        {
          "output_type": "stream",
          "name": "stderr",
          "text": [
            "[I 2024-04-23 15:52:49,557] Trial 3 finished with value: 0.6097561120986938 and parameters: {'n_hidden': 50, 'lr': 0.0005445728346977897, 'batch_size': 128, 'optimizer': 'RMSprop'}. Best is trial 1 with value: 0.6097561120986938.\n"
          ]
        },
        {
          "output_type": "stream",
          "name": "stdout",
          "text": [
            "Accuracy: 0.6097561120986938, Precision: 0.0, Recall: 0.0, F1 Score: 0.0\n"
          ]
        },
        {
          "output_type": "stream",
          "name": "stderr",
          "text": [
            "[I 2024-04-23 15:52:52,182] Trial 4 finished with value: 0.6097561120986938 and parameters: {'n_hidden': 92, 'lr': 0.0001892101177365941, 'batch_size': 64, 'optimizer': 'Adam'}. Best is trial 1 with value: 0.6097561120986938.\n"
          ]
        },
        {
          "output_type": "stream",
          "name": "stdout",
          "text": [
            "Accuracy: 0.6097561120986938, Precision: 0.0, Recall: 0.0, F1 Score: 0.0\n"
          ]
        },
        {
          "output_type": "stream",
          "name": "stderr",
          "text": [
            "[I 2024-04-23 15:52:55,426] Trial 5 finished with value: 0.6097561120986938 and parameters: {'n_hidden': 59, 'lr': 0.018929885308130206, 'batch_size': 64, 'optimizer': 'SGD'}. Best is trial 1 with value: 0.6097561120986938.\n"
          ]
        },
        {
          "output_type": "stream",
          "name": "stdout",
          "text": [
            "Accuracy: 0.6097561120986938, Precision: 0.0, Recall: 0.0, F1 Score: 0.0\n"
          ]
        },
        {
          "output_type": "stream",
          "name": "stderr",
          "text": [
            "[I 2024-04-23 15:52:56,875] Trial 6 finished with value: 0.5792682766914368 and parameters: {'n_hidden': 39, 'lr': 4.571551229239349e-05, 'batch_size': 128, 'optimizer': 'SGD'}. Best is trial 1 with value: 0.6097561120986938.\n"
          ]
        },
        {
          "output_type": "stream",
          "name": "stdout",
          "text": [
            "Accuracy: 0.5792682766914368, Precision: 0.3076923191547394, Recall: 0.0625, F1 Score: 0.10389610379934311\n"
          ]
        },
        {
          "output_type": "stream",
          "name": "stderr",
          "text": [
            "[I 2024-04-23 15:53:00,483] Trial 7 finished with value: 0.6097561120986938 and parameters: {'n_hidden': 99, 'lr': 0.0006686797761146146, 'batch_size': 32, 'optimizer': 'Adam'}. Best is trial 1 with value: 0.6097561120986938.\n"
          ]
        },
        {
          "output_type": "stream",
          "name": "stdout",
          "text": [
            "Accuracy: 0.6097561120986938, Precision: 0.0, Recall: 0.0, F1 Score: 0.0\n"
          ]
        },
        {
          "output_type": "stream",
          "name": "stderr",
          "text": [
            "[I 2024-04-23 15:53:01,625] Trial 8 finished with value: 0.6097561120986938 and parameters: {'n_hidden': 13, 'lr': 0.0002683657166614429, 'batch_size': 128, 'optimizer': 'Adam'}. Best is trial 1 with value: 0.6097561120986938.\n"
          ]
        },
        {
          "output_type": "stream",
          "name": "stdout",
          "text": [
            "Accuracy: 0.6097561120986938, Precision: 0.0, Recall: 0.0, F1 Score: 0.0\n"
          ]
        },
        {
          "output_type": "stream",
          "name": "stderr",
          "text": [
            "[I 2024-04-23 15:53:02,333] Trial 9 finished with value: 0.5740417838096619 and parameters: {'n_hidden': 38, 'lr': 0.003515317630276031, 'batch_size': 128, 'optimizer': 'RMSprop'}. Best is trial 1 with value: 0.6097561120986938.\n"
          ]
        },
        {
          "output_type": "stream",
          "name": "stdout",
          "text": [
            "Accuracy: 0.5740417838096619, Precision: 0.4237918257713318, Recall: 0.2544642984867096, F1 Score: 0.3179916441440582\n"
          ]
        },
        {
          "output_type": "stream",
          "name": "stderr",
          "text": [
            "[I 2024-04-23 15:53:03,225] Trial 10 finished with value: 0.6097561120986938 and parameters: {'n_hidden': 14, 'lr': 0.08097836606986637, 'batch_size': 64, 'optimizer': 'RMSprop'}. Best is trial 1 with value: 0.6097561120986938.\n"
          ]
        },
        {
          "output_type": "stream",
          "name": "stdout",
          "text": [
            "Accuracy: 0.6097561120986938, Precision: 0.0, Recall: 0.0, F1 Score: 0.0\n"
          ]
        },
        {
          "output_type": "stream",
          "name": "stderr",
          "text": [
            "[I 2024-04-23 15:53:04,812] Trial 11 finished with value: 0.6097561120986938 and parameters: {'n_hidden': 69, 'lr': 4.1356355470812536e-05, 'batch_size': 32, 'optimizer': 'RMSprop'}. Best is trial 1 with value: 0.6097561120986938.\n"
          ]
        },
        {
          "output_type": "stream",
          "name": "stdout",
          "text": [
            "Accuracy: 0.6097561120986938, Precision: 0.0, Recall: 0.0, F1 Score: 0.0\n"
          ]
        },
        {
          "output_type": "stream",
          "name": "stderr",
          "text": [
            "[I 2024-04-23 15:53:06,175] Trial 12 finished with value: 0.6097561120986938 and parameters: {'n_hidden': 26, 'lr': 1.0177752715958678e-05, 'batch_size': 32, 'optimizer': 'SGD'}. Best is trial 1 with value: 0.6097561120986938.\n"
          ]
        },
        {
          "output_type": "stream",
          "name": "stdout",
          "text": [
            "Accuracy: 0.6097561120986938, Precision: 0.0, Recall: 0.0, F1 Score: 0.0\n"
          ]
        },
        {
          "output_type": "stream",
          "name": "stderr",
          "text": [
            "[I 2024-04-23 15:53:08,474] Trial 13 finished with value: 0.6097561120986938 and parameters: {'n_hidden': 74, 'lr': 5.6835749051433686e-05, 'batch_size': 32, 'optimizer': 'RMSprop'}. Best is trial 1 with value: 0.6097561120986938.\n"
          ]
        },
        {
          "output_type": "stream",
          "name": "stdout",
          "text": [
            "Accuracy: 0.6097561120986938, Precision: 0.0, Recall: 0.0, F1 Score: 0.0\n"
          ]
        },
        {
          "output_type": "stream",
          "name": "stderr",
          "text": [
            "[I 2024-04-23 15:53:09,449] Trial 14 finished with value: 0.6106271743774414 and parameters: {'n_hidden': 56, 'lr': 0.0026164846479802854, 'batch_size': 64, 'optimizer': 'SGD'}. Best is trial 14 with value: 0.6106271743774414.\n"
          ]
        },
        {
          "output_type": "stream",
          "name": "stdout",
          "text": [
            "Accuracy: 0.6106271743774414, Precision: 0.5714285969734192, Recall: 0.008928571827709675, F1 Score: 0.017582418397068977\n"
          ]
        },
        {
          "output_type": "stream",
          "name": "stderr",
          "text": [
            "[I 2024-04-23 15:53:10,364] Trial 15 finished with value: 0.6097561120986938 and parameters: {'n_hidden': 48, 'lr': 0.0025639491138759385, 'batch_size': 64, 'optimizer': 'SGD'}. Best is trial 14 with value: 0.6106271743774414.\n"
          ]
        },
        {
          "output_type": "stream",
          "name": "stdout",
          "text": [
            "Accuracy: 0.6097561120986938, Precision: 0.0, Recall: 0.0, F1 Score: 0.0\n"
          ]
        },
        {
          "output_type": "stream",
          "name": "stderr",
          "text": [
            "[I 2024-04-23 15:53:11,286] Trial 16 finished with value: 0.6097561120986938 and parameters: {'n_hidden': 24, 'lr': 0.0036940957212110437, 'batch_size': 64, 'optimizer': 'RMSprop'}. Best is trial 14 with value: 0.6106271743774414.\n"
          ]
        },
        {
          "output_type": "stream",
          "name": "stdout",
          "text": [
            "Accuracy: 0.6097561120986938, Precision: 0.0, Recall: 0.0, F1 Score: 0.0\n"
          ]
        },
        {
          "output_type": "stream",
          "name": "stderr",
          "text": [
            "[I 2024-04-23 15:53:12,102] Trial 17 finished with value: 0.6088849902153015 and parameters: {'n_hidden': 61, 'lr': 0.014423479097099557, 'batch_size': 64, 'optimizer': 'SGD'}. Best is trial 14 with value: 0.6106271743774414.\n"
          ]
        },
        {
          "output_type": "stream",
          "name": "stdout",
          "text": [
            "Accuracy: 0.6088849902153015, Precision: 0.0, Recall: 0.0, F1 Score: 0.0\n"
          ]
        },
        {
          "output_type": "stream",
          "name": "stderr",
          "text": [
            "[I 2024-04-23 15:53:13,032] Trial 18 finished with value: 0.6088849902153015 and parameters: {'n_hidden': 38, 'lr': 0.0016725254699301426, 'batch_size': 64, 'optimizer': 'RMSprop'}. Best is trial 14 with value: 0.6106271743774414.\n"
          ]
        },
        {
          "output_type": "stream",
          "name": "stdout",
          "text": [
            "Accuracy: 0.6088849902153015, Precision: 0.0, Recall: 0.0, F1 Score: 0.0\n"
          ]
        },
        {
          "output_type": "stream",
          "name": "stderr",
          "text": [
            "[I 2024-04-23 15:53:14,074] Trial 19 finished with value: 0.6097561120986938 and parameters: {'n_hidden': 29, 'lr': 0.013103018950393883, 'batch_size': 64, 'optimizer': 'Adam'}. Best is trial 14 with value: 0.6106271743774414.\n"
          ]
        },
        {
          "output_type": "stream",
          "name": "stdout",
          "text": [
            "Accuracy: 0.6097561120986938, Precision: 0.0, Recall: 0.0, F1 Score: 0.0\n"
          ]
        },
        {
          "output_type": "stream",
          "name": "stderr",
          "text": [
            "[I 2024-04-23 15:53:14,870] Trial 20 finished with value: 0.6097561120986938 and parameters: {'n_hidden': 49, 'lr': 0.007290869969969043, 'batch_size': 64, 'optimizer': 'SGD'}. Best is trial 14 with value: 0.6106271743774414.\n"
          ]
        },
        {
          "output_type": "stream",
          "name": "stdout",
          "text": [
            "Accuracy: 0.6097561120986938, Precision: 0.0, Recall: 0.0, F1 Score: 0.0\n"
          ]
        },
        {
          "output_type": "stream",
          "name": "stderr",
          "text": [
            "[I 2024-04-23 15:53:16,184] Trial 21 finished with value: 0.6097561120986938 and parameters: {'n_hidden': 80, 'lr': 0.0001236657871355349, 'batch_size': 32, 'optimizer': 'SGD'}. Best is trial 14 with value: 0.6106271743774414.\n"
          ]
        },
        {
          "output_type": "stream",
          "name": "stdout",
          "text": [
            "Accuracy: 0.6097561120986938, Precision: 0.0, Recall: 0.0, F1 Score: 0.0\n"
          ]
        },
        {
          "output_type": "stream",
          "name": "stderr",
          "text": [
            "[I 2024-04-23 15:53:17,546] Trial 22 finished with value: 0.5792682766914368 and parameters: {'n_hidden': 63, 'lr': 3.0964078037145306e-05, 'batch_size': 32, 'optimizer': 'SGD'}. Best is trial 14 with value: 0.6106271743774414.\n"
          ]
        },
        {
          "output_type": "stream",
          "name": "stdout",
          "text": [
            "Accuracy: 0.5792682766914368, Precision: 0.2839506268501282, Recall: 0.0513392873108387, F1 Score: 0.08695652335882187\n"
          ]
        },
        {
          "output_type": "stream",
          "name": "stderr",
          "text": [
            "[I 2024-04-23 15:53:19,026] Trial 23 finished with value: 0.6097561120986938 and parameters: {'n_hidden': 86, 'lr': 0.00012017934753344351, 'batch_size': 32, 'optimizer': 'SGD'}. Best is trial 14 with value: 0.6106271743774414.\n"
          ]
        },
        {
          "output_type": "stream",
          "name": "stdout",
          "text": [
            "Accuracy: 0.6097561120986938, Precision: 0.0, Recall: 0.0, F1 Score: 0.0\n"
          ]
        },
        {
          "output_type": "stream",
          "name": "stderr",
          "text": [
            "[I 2024-04-23 15:53:20,244] Trial 24 finished with value: 0.6097561120986938 and parameters: {'n_hidden': 70, 'lr': 0.0010452684606653243, 'batch_size': 64, 'optimizer': 'SGD'}. Best is trial 14 with value: 0.6106271743774414.\n"
          ]
        },
        {
          "output_type": "stream",
          "name": "stdout",
          "text": [
            "Accuracy: 0.6097561120986938, Precision: 0.0, Recall: 0.0, F1 Score: 0.0\n"
          ]
        },
        {
          "output_type": "stream",
          "name": "stderr",
          "text": [
            "[I 2024-04-23 15:53:22,075] Trial 25 finished with value: 0.6088849902153015 and parameters: {'n_hidden': 54, 'lr': 0.00037467179299618703, 'batch_size': 32, 'optimizer': 'RMSprop'}. Best is trial 14 with value: 0.6106271743774414.\n"
          ]
        },
        {
          "output_type": "stream",
          "name": "stdout",
          "text": [
            "Accuracy: 0.6088849902153015, Precision: 0.4864864945411682, Recall: 0.0401785708963871, F1 Score: 0.07422680407762527\n"
          ]
        },
        {
          "output_type": "stream",
          "name": "stderr",
          "text": [
            "[I 2024-04-23 15:53:22,891] Trial 26 finished with value: 0.5844947695732117 and parameters: {'n_hidden': 66, 'lr': 8.488973465801225e-05, 'batch_size': 64, 'optimizer': 'SGD'}. Best is trial 14 with value: 0.6106271743774414.\n"
          ]
        },
        {
          "output_type": "stream",
          "name": "stdout",
          "text": [
            "Accuracy: 0.5844947695732117, Precision: 0.373913049697876, Recall: 0.0959821417927742, F1 Score: 0.15275311470031738\n"
          ]
        },
        {
          "output_type": "stream",
          "name": "stderr",
          "text": [
            "[I 2024-04-23 15:53:23,691] Trial 27 finished with value: 0.39024388790130615 and parameters: {'n_hidden': 42, 'lr': 2.2985737976792374e-05, 'batch_size': 64, 'optimizer': 'SGD'}. Best is trial 14 with value: 0.6106271743774414.\n"
          ]
        },
        {
          "output_type": "stream",
          "name": "stdout",
          "text": [
            "Accuracy: 0.39024388790130615, Precision: 0.39024388790130615, Recall: 1.0, F1 Score: 0.5614035129547119\n"
          ]
        },
        {
          "output_type": "stream",
          "name": "stderr",
          "text": [
            "[I 2024-04-23 15:53:24,410] Trial 28 finished with value: 0.6097561120986938 and parameters: {'n_hidden': 75, 'lr': 2.4362759821655025e-05, 'batch_size': 128, 'optimizer': 'Adam'}. Best is trial 14 with value: 0.6106271743774414.\n"
          ]
        },
        {
          "output_type": "stream",
          "name": "stdout",
          "text": [
            "Accuracy: 0.6097561120986938, Precision: 0.0, Recall: 0.0, F1 Score: 0.0\n"
          ]
        },
        {
          "output_type": "stream",
          "name": "stderr",
          "text": [
            "[I 2024-04-23 15:53:25,970] Trial 29 finished with value: 0.6097561120986938 and parameters: {'n_hidden': 83, 'lr': 1.9615902537893106e-05, 'batch_size': 32, 'optimizer': 'RMSprop'}. Best is trial 14 with value: 0.6106271743774414.\n"
          ]
        },
        {
          "output_type": "stream",
          "name": "stdout",
          "text": [
            "Accuracy: 0.6097561120986938, Precision: 0.0, Recall: 0.0, F1 Score: 0.0\n"
          ]
        },
        {
          "output_type": "stream",
          "name": "stderr",
          "text": [
            "[I 2024-04-23 15:53:26,786] Trial 30 finished with value: 0.6097561120986938 and parameters: {'n_hidden': 56, 'lr': 0.0011847138219714837, 'batch_size': 64, 'optimizer': 'SGD'}. Best is trial 14 with value: 0.6106271743774414.\n"
          ]
        },
        {
          "output_type": "stream",
          "name": "stdout",
          "text": [
            "Accuracy: 0.6097561120986938, Precision: 0.0, Recall: 0.0, F1 Score: 0.0\n"
          ]
        },
        {
          "output_type": "stream",
          "name": "stderr",
          "text": [
            "[I 2024-04-23 15:53:27,407] Trial 31 finished with value: 0.6097561120986938 and parameters: {'n_hidden': 48, 'lr': 0.0005004175183505411, 'batch_size': 128, 'optimizer': 'RMSprop'}. Best is trial 14 with value: 0.6106271743774414.\n"
          ]
        },
        {
          "output_type": "stream",
          "name": "stdout",
          "text": [
            "Accuracy: 0.6097561120986938, Precision: 0.0, Recall: 0.0, F1 Score: 0.0\n"
          ]
        },
        {
          "output_type": "stream",
          "name": "stderr",
          "text": [
            "[I 2024-04-23 15:53:28,003] Trial 32 finished with value: 0.6097561120986938 and parameters: {'n_hidden': 31, 'lr': 0.00017691669109716487, 'batch_size': 128, 'optimizer': 'RMSprop'}. Best is trial 14 with value: 0.6106271743774414.\n"
          ]
        },
        {
          "output_type": "stream",
          "name": "stdout",
          "text": [
            "Accuracy: 0.6097561120986938, Precision: 0.0, Recall: 0.0, F1 Score: 0.0\n"
          ]
        },
        {
          "output_type": "stream",
          "name": "stderr",
          "text": [
            "[I 2024-04-23 15:53:28,616] Trial 33 finished with value: 0.6097561120986938 and parameters: {'n_hidden': 18, 'lr': 0.0006524045273251148, 'batch_size': 128, 'optimizer': 'RMSprop'}. Best is trial 14 with value: 0.6106271743774414.\n"
          ]
        },
        {
          "output_type": "stream",
          "name": "stdout",
          "text": [
            "Accuracy: 0.6097561120986938, Precision: 0.0, Recall: 0.0, F1 Score: 0.0\n"
          ]
        },
        {
          "output_type": "stream",
          "name": "stderr",
          "text": [
            "[I 2024-04-23 15:53:29,297] Trial 34 finished with value: 0.6097561120986938 and parameters: {'n_hidden': 92, 'lr': 0.00021562924802413986, 'batch_size': 128, 'optimizer': 'RMSprop'}. Best is trial 14 with value: 0.6106271743774414.\n"
          ]
        },
        {
          "output_type": "stream",
          "name": "stdout",
          "text": [
            "Accuracy: 0.6097561120986938, Precision: 0.0, Recall: 0.0, F1 Score: 0.0\n"
          ]
        },
        {
          "output_type": "stream",
          "name": "stderr",
          "text": [
            "[I 2024-04-23 15:53:29,972] Trial 35 finished with value: 0.6236934065818787 and parameters: {'n_hidden': 53, 'lr': 0.006177441034744258, 'batch_size': 128, 'optimizer': 'Adam'}. Best is trial 35 with value: 0.6236934065818787.\n"
          ]
        },
        {
          "output_type": "stream",
          "name": "stdout",
          "text": [
            "Accuracy: 0.6236934065818787, Precision: 0.5634920597076416, Recall: 0.1584821492433548, F1 Score: 0.24738675355911255\n"
          ]
        },
        {
          "output_type": "stream",
          "name": "stderr",
          "text": [
            "[I 2024-04-23 15:53:30,633] Trial 36 finished with value: 0.6097561120986938 and parameters: {'n_hidden': 33, 'lr': 0.04350880063182718, 'batch_size': 128, 'optimizer': 'Adam'}. Best is trial 35 with value: 0.6236934065818787.\n"
          ]
        },
        {
          "output_type": "stream",
          "name": "stdout",
          "text": [
            "Accuracy: 0.6097561120986938, Precision: 0.0, Recall: 0.0, F1 Score: 0.0\n"
          ]
        },
        {
          "output_type": "stream",
          "name": "stderr",
          "text": [
            "[I 2024-04-23 15:53:31,956] Trial 37 finished with value: 0.6097561120986938 and parameters: {'n_hidden': 54, 'lr': 0.0077239613582435074, 'batch_size': 64, 'optimizer': 'Adam'}. Best is trial 35 with value: 0.6236934065818787.\n"
          ]
        },
        {
          "output_type": "stream",
          "name": "stdout",
          "text": [
            "Accuracy: 0.6097561120986938, Precision: 0.0, Recall: 0.0, F1 Score: 0.0\n"
          ]
        },
        {
          "output_type": "stream",
          "name": "stderr",
          "text": [
            "[I 2024-04-23 15:53:32,943] Trial 38 finished with value: 0.6097561120986938 and parameters: {'n_hidden': 44, 'lr': 0.00643236458768597, 'batch_size': 128, 'optimizer': 'Adam'}. Best is trial 35 with value: 0.6236934065818787.\n"
          ]
        },
        {
          "output_type": "stream",
          "name": "stdout",
          "text": [
            "Accuracy: 0.6097561120986938, Precision: 0.0, Recall: 0.0, F1 Score: 0.0\n"
          ]
        },
        {
          "output_type": "stream",
          "name": "stderr",
          "text": [
            "[I 2024-04-23 15:53:34,267] Trial 39 finished with value: 0.6097561120986938 and parameters: {'n_hidden': 98, 'lr': 0.02784031794030562, 'batch_size': 64, 'optimizer': 'Adam'}. Best is trial 35 with value: 0.6236934065818787.\n"
          ]
        },
        {
          "output_type": "stream",
          "name": "stdout",
          "text": [
            "Accuracy: 0.6097561120986938, Precision: 0.0, Recall: 0.0, F1 Score: 0.0\n"
          ]
        },
        {
          "output_type": "stream",
          "name": "stderr",
          "text": [
            "[I 2024-04-23 15:53:36,067] Trial 40 finished with value: 0.6097561120986938 and parameters: {'n_hidden': 75, 'lr': 0.0015656798018523386, 'batch_size': 32, 'optimizer': 'Adam'}. Best is trial 35 with value: 0.6236934065818787.\n"
          ]
        },
        {
          "output_type": "stream",
          "name": "stdout",
          "text": [
            "Accuracy: 0.6097561120986938, Precision: 0.5, Recall: 0.01116071455180645, F1 Score: 0.021834060549736023\n"
          ]
        },
        {
          "output_type": "stream",
          "name": "stderr",
          "text": [
            "[I 2024-04-23 15:53:36,693] Trial 41 finished with value: 0.6097561120986938 and parameters: {'n_hidden': 59, 'lr': 0.0003686981134935521, 'batch_size': 128, 'optimizer': 'RMSprop'}. Best is trial 35 with value: 0.6236934065818787.\n"
          ]
        },
        {
          "output_type": "stream",
          "name": "stdout",
          "text": [
            "Accuracy: 0.6097561120986938, Precision: 0.0, Recall: 0.0, F1 Score: 0.0\n"
          ]
        },
        {
          "output_type": "stream",
          "name": "stderr",
          "text": [
            "[I 2024-04-23 15:53:37,230] Trial 42 finished with value: 0.6097561120986938 and parameters: {'n_hidden': 21, 'lr': 0.0020272688730961796, 'batch_size': 128, 'optimizer': 'SGD'}. Best is trial 35 with value: 0.6236934065818787.\n"
          ]
        },
        {
          "output_type": "stream",
          "name": "stdout",
          "text": [
            "Accuracy: 0.6097561120986938, Precision: 0.0, Recall: 0.0, F1 Score: 0.0\n"
          ]
        },
        {
          "output_type": "stream",
          "name": "stderr",
          "text": [
            "[I 2024-04-23 15:53:37,833] Trial 43 finished with value: 0.5435540080070496 and parameters: {'n_hidden': 35, 'lr': 0.004394505030886131, 'batch_size': 128, 'optimizer': 'RMSprop'}. Best is trial 35 with value: 0.6236934065818787.\n"
          ]
        },
        {
          "output_type": "stream",
          "name": "stdout",
          "text": [
            "Accuracy: 0.5435540080070496, Precision: 0.41203704476356506, Recall: 0.3973214328289032, F1 Score: 0.40454545617103577\n"
          ]
        },
        {
          "output_type": "stream",
          "name": "stderr",
          "text": [
            "[I 2024-04-23 15:53:38,507] Trial 44 finished with value: 0.6097561120986938 and parameters: {'n_hidden': 44, 'lr': 6.217890454109386e-05, 'batch_size': 128, 'optimizer': 'Adam'}. Best is trial 35 with value: 0.6236934065818787.\n"
          ]
        },
        {
          "output_type": "stream",
          "name": "stdout",
          "text": [
            "Accuracy: 0.6097561120986938, Precision: 0.0, Recall: 0.0, F1 Score: 0.0\n"
          ]
        },
        {
          "output_type": "stream",
          "name": "stderr",
          "text": [
            "[I 2024-04-23 15:53:39,047] Trial 45 finished with value: 0.6097561120986938 and parameters: {'n_hidden': 11, 'lr': 1.3915686408819494e-05, 'batch_size': 128, 'optimizer': 'SGD'}. Best is trial 35 with value: 0.6236934065818787.\n"
          ]
        },
        {
          "output_type": "stream",
          "name": "stdout",
          "text": [
            "Accuracy: 0.6097561120986938, Precision: 0.0, Recall: 0.0, F1 Score: 0.0\n"
          ]
        },
        {
          "output_type": "stream",
          "name": "stderr",
          "text": [
            "[I 2024-04-23 15:53:40,613] Trial 46 finished with value: 0.6097561120986938 and parameters: {'n_hidden': 66, 'lr': 0.0007117177822373514, 'batch_size': 32, 'optimizer': 'RMSprop'}. Best is trial 35 with value: 0.6236934065818787.\n"
          ]
        },
        {
          "output_type": "stream",
          "name": "stdout",
          "text": [
            "Accuracy: 0.6097561120986938, Precision: 0.0, Recall: 0.0, F1 Score: 0.0\n"
          ]
        },
        {
          "output_type": "stream",
          "name": "stderr",
          "text": [
            "[I 2024-04-23 15:53:41,403] Trial 47 finished with value: 0.6097561120986938 and parameters: {'n_hidden': 49, 'lr': 0.002665099810966509, 'batch_size': 64, 'optimizer': 'SGD'}. Best is trial 35 with value: 0.6236934065818787.\n"
          ]
        },
        {
          "output_type": "stream",
          "name": "stdout",
          "text": [
            "Accuracy: 0.6097561120986938, Precision: 0.0, Recall: 0.0, F1 Score: 0.0\n"
          ]
        },
        {
          "output_type": "stream",
          "name": "stderr",
          "text": [
            "[I 2024-04-23 15:53:42,332] Trial 48 finished with value: 0.6097561120986938 and parameters: {'n_hidden': 56, 'lr': 0.0051957271059917655, 'batch_size': 64, 'optimizer': 'RMSprop'}. Best is trial 35 with value: 0.6236934065818787.\n"
          ]
        },
        {
          "output_type": "stream",
          "name": "stdout",
          "text": [
            "Accuracy: 0.6097561120986938, Precision: 0.0, Recall: 0.0, F1 Score: 0.0\n"
          ]
        },
        {
          "output_type": "stream",
          "name": "stderr",
          "text": [
            "[I 2024-04-23 15:53:43,001] Trial 49 finished with value: 0.6097561120986938 and parameters: {'n_hidden': 39, 'lr': 0.0002788263891221039, 'batch_size': 128, 'optimizer': 'Adam'}. Best is trial 35 with value: 0.6236934065818787.\n"
          ]
        },
        {
          "output_type": "stream",
          "name": "stdout",
          "text": [
            "Accuracy: 0.6097561120986938, Precision: 0.0, Recall: 0.0, F1 Score: 0.0\n"
          ]
        },
        {
          "output_type": "stream",
          "name": "stderr",
          "text": [
            "[I 2024-04-23 15:53:44,599] Trial 50 finished with value: 0.6097561120986938 and parameters: {'n_hidden': 70, 'lr': 0.011420539504285053, 'batch_size': 32, 'optimizer': 'SGD'}. Best is trial 35 with value: 0.6236934065818787.\n"
          ]
        },
        {
          "output_type": "stream",
          "name": "stdout",
          "text": [
            "Accuracy: 0.6097561120986938, Precision: 0.0, Recall: 0.0, F1 Score: 0.0\n"
          ]
        },
        {
          "output_type": "stream",
          "name": "stderr",
          "text": [
            "[I 2024-04-23 15:53:46,155] Trial 51 finished with value: 0.6097561120986938 and parameters: {'n_hidden': 90, 'lr': 0.00014432041248848792, 'batch_size': 64, 'optimizer': 'Adam'}. Best is trial 35 with value: 0.6236934065818787.\n"
          ]
        },
        {
          "output_type": "stream",
          "name": "stdout",
          "text": [
            "Accuracy: 0.6097561120986938, Precision: 0.0, Recall: 0.0, F1 Score: 0.0\n"
          ]
        },
        {
          "output_type": "stream",
          "name": "stderr",
          "text": [
            "[I 2024-04-23 15:53:47,234] Trial 52 finished with value: 0.6097561120986938 and parameters: {'n_hidden': 79, 'lr': 8.706365083958237e-05, 'batch_size': 64, 'optimizer': 'Adam'}. Best is trial 35 with value: 0.6236934065818787.\n"
          ]
        },
        {
          "output_type": "stream",
          "name": "stdout",
          "text": [
            "Accuracy: 0.6097561120986938, Precision: 0.0, Recall: 0.0, F1 Score: 0.0\n"
          ]
        },
        {
          "output_type": "stream",
          "name": "stderr",
          "text": [
            "[I 2024-04-23 15:53:48,371] Trial 53 finished with value: 0.6097561120986938 and parameters: {'n_hidden': 99, 'lr': 4.1130047619929905e-05, 'batch_size': 64, 'optimizer': 'Adam'}. Best is trial 35 with value: 0.6236934065818787.\n"
          ]
        },
        {
          "output_type": "stream",
          "name": "stdout",
          "text": [
            "Accuracy: 0.6097561120986938, Precision: 0.0, Recall: 0.0, F1 Score: 0.0\n"
          ]
        },
        {
          "output_type": "stream",
          "name": "stderr",
          "text": [
            "[I 2024-04-23 15:53:49,489] Trial 54 finished with value: 0.6036585569381714 and parameters: {'n_hidden': 94, 'lr': 0.0008048987546542104, 'batch_size': 64, 'optimizer': 'Adam'}. Best is trial 35 with value: 0.6236934065818787.\n"
          ]
        },
        {
          "output_type": "stream",
          "name": "stdout",
          "text": [
            "Accuracy: 0.6036585569381714, Precision: 0.4829268157482147, Recall: 0.2209821492433548, F1 Score: 0.3032159209251404\n"
          ]
        },
        {
          "output_type": "stream",
          "name": "stderr",
          "text": [
            "[I 2024-04-23 15:53:50,348] Trial 55 finished with value: 0.6097561120986938 and parameters: {'n_hidden': 87, 'lr': 0.0029946174082153172, 'batch_size': 64, 'optimizer': 'SGD'}. Best is trial 35 with value: 0.6236934065818787.\n"
          ]
        },
        {
          "output_type": "stream",
          "name": "stdout",
          "text": [
            "Accuracy: 0.6097561120986938, Precision: 0.0, Recall: 0.0, F1 Score: 0.0\n"
          ]
        },
        {
          "output_type": "stream",
          "name": "stderr",
          "text": [
            "[I 2024-04-23 15:53:51,864] Trial 56 finished with value: 0.6097561120986938 and parameters: {'n_hidden': 63, 'lr': 0.0002965894392130036, 'batch_size': 32, 'optimizer': 'RMSprop'}. Best is trial 35 with value: 0.6236934065818787.\n"
          ]
        },
        {
          "output_type": "stream",
          "name": "stdout",
          "text": [
            "Accuracy: 0.6097561120986938, Precision: 0.0, Recall: 0.0, F1 Score: 0.0\n"
          ]
        },
        {
          "output_type": "stream",
          "name": "stderr",
          "text": [
            "[I 2024-04-23 15:53:52,709] Trial 57 finished with value: 0.6088849902153015 and parameters: {'n_hidden': 78, 'lr': 0.0004330591951823243, 'batch_size': 64, 'optimizer': 'SGD'}. Best is trial 35 with value: 0.6236934065818787.\n"
          ]
        },
        {
          "output_type": "stream",
          "name": "stdout",
          "text": [
            "Accuracy: 0.6088849902153015, Precision: 0.0, Recall: 0.0, F1 Score: 0.0\n"
          ]
        },
        {
          "output_type": "stream",
          "name": "stderr",
          "text": [
            "[I 2024-04-23 15:53:53,737] Trial 58 finished with value: 0.6097561120986938 and parameters: {'n_hidden': 52, 'lr': 9.657160882021529e-05, 'batch_size': 64, 'optimizer': 'Adam'}. Best is trial 35 with value: 0.6236934065818787.\n"
          ]
        },
        {
          "output_type": "stream",
          "name": "stdout",
          "text": [
            "Accuracy: 0.6097561120986938, Precision: 0.0, Recall: 0.0, F1 Score: 0.0\n"
          ]
        },
        {
          "output_type": "stream",
          "name": "stderr",
          "text": [
            "[I 2024-04-23 15:53:55,281] Trial 59 finished with value: 0.6097561120986938 and parameters: {'n_hidden': 59, 'lr': 0.001233119140581536, 'batch_size': 32, 'optimizer': 'RMSprop'}. Best is trial 35 with value: 0.6236934065818787.\n"
          ]
        },
        {
          "output_type": "stream",
          "name": "stdout",
          "text": [
            "Accuracy: 0.6097561120986938, Precision: 0.0, Recall: 0.0, F1 Score: 0.0\n"
          ]
        },
        {
          "output_type": "stream",
          "name": "stderr",
          "text": [
            "[I 2024-04-23 15:53:56,146] Trial 60 finished with value: 0.6097561120986938 and parameters: {'n_hidden': 66, 'lr': 6.302462108589484e-05, 'batch_size': 64, 'optimizer': 'SGD'}. Best is trial 35 with value: 0.6236934065818787.\n"
          ]
        },
        {
          "output_type": "stream",
          "name": "stdout",
          "text": [
            "Accuracy: 0.6097561120986938, Precision: 0.0, Recall: 0.0, F1 Score: 0.0\n"
          ]
        },
        {
          "output_type": "stream",
          "name": "stderr",
          "text": [
            "[I 2024-04-23 15:53:57,323] Trial 61 finished with value: 0.6097561120986938 and parameters: {'n_hidden': 51, 'lr': 0.029561780257535926, 'batch_size': 64, 'optimizer': 'SGD'}. Best is trial 35 with value: 0.6236934065818787.\n"
          ]
        },
        {
          "output_type": "stream",
          "name": "stdout",
          "text": [
            "Accuracy: 0.6097561120986938, Precision: 0.0, Recall: 0.0, F1 Score: 0.0\n"
          ]
        },
        {
          "output_type": "stream",
          "name": "stderr",
          "text": [
            "[I 2024-04-23 15:53:58,575] Trial 62 finished with value: 0.6097561120986938 and parameters: {'n_hidden': 59, 'lr': 0.018969821943338742, 'batch_size': 64, 'optimizer': 'SGD'}. Best is trial 35 with value: 0.6236934065818787.\n"
          ]
        },
        {
          "output_type": "stream",
          "name": "stdout",
          "text": [
            "Accuracy: 0.6097561120986938, Precision: 0.0, Recall: 0.0, F1 Score: 0.0\n"
          ]
        },
        {
          "output_type": "stream",
          "name": "stderr",
          "text": [
            "[I 2024-04-23 15:53:59,429] Trial 63 finished with value: 0.6097561120986938 and parameters: {'n_hidden': 72, 'lr': 0.09129925249865423, 'batch_size': 64, 'optimizer': 'SGD'}. Best is trial 35 with value: 0.6236934065818787.\n"
          ]
        },
        {
          "output_type": "stream",
          "name": "stdout",
          "text": [
            "Accuracy: 0.6097561120986938, Precision: 0.0, Recall: 0.0, F1 Score: 0.0\n"
          ]
        },
        {
          "output_type": "stream",
          "name": "stderr",
          "text": [
            "[I 2024-04-23 15:54:00,246] Trial 64 finished with value: 0.6097561120986938 and parameters: {'n_hidden': 27, 'lr': 0.009696508276753066, 'batch_size': 64, 'optimizer': 'SGD'}. Best is trial 35 with value: 0.6236934065818787.\n"
          ]
        },
        {
          "output_type": "stream",
          "name": "stdout",
          "text": [
            "Accuracy: 0.6097561120986938, Precision: 0.0, Recall: 0.0, F1 Score: 0.0\n"
          ]
        },
        {
          "output_type": "stream",
          "name": "stderr",
          "text": [
            "[I 2024-04-23 15:54:00,916] Trial 65 finished with value: 0.6097561120986938 and parameters: {'n_hidden': 83, 'lr': 0.00019502208503840087, 'batch_size': 128, 'optimizer': 'RMSprop'}. Best is trial 35 with value: 0.6236934065818787.\n"
          ]
        },
        {
          "output_type": "stream",
          "name": "stdout",
          "text": [
            "Accuracy: 0.6097561120986938, Precision: 0.0, Recall: 0.0, F1 Score: 0.0\n"
          ]
        },
        {
          "output_type": "stream",
          "name": "stderr",
          "text": [
            "[I 2024-04-23 15:54:01,761] Trial 66 finished with value: 0.6097561120986938 and parameters: {'n_hidden': 46, 'lr': 0.019122273486945635, 'batch_size': 64, 'optimizer': 'SGD'}. Best is trial 35 with value: 0.6236934065818787.\n"
          ]
        },
        {
          "output_type": "stream",
          "name": "stdout",
          "text": [
            "Accuracy: 0.6097561120986938, Precision: 0.0, Recall: 0.0, F1 Score: 0.0\n"
          ]
        },
        {
          "output_type": "stream",
          "name": "stderr",
          "text": [
            "[I 2024-04-23 15:54:03,370] Trial 67 finished with value: 0.6097561120986938 and parameters: {'n_hidden': 16, 'lr': 0.0630751301121473, 'batch_size': 32, 'optimizer': 'RMSprop'}. Best is trial 35 with value: 0.6236934065818787.\n"
          ]
        },
        {
          "output_type": "stream",
          "name": "stdout",
          "text": [
            "Accuracy: 0.6097561120986938, Precision: 0.0, Recall: 0.0, F1 Score: 0.0\n"
          ]
        },
        {
          "output_type": "stream",
          "name": "stderr",
          "text": [
            "[I 2024-04-23 15:54:04,080] Trial 68 finished with value: 0.6097561120986938 and parameters: {'n_hidden': 63, 'lr': 0.0005780694651733171, 'batch_size': 128, 'optimizer': 'Adam'}. Best is trial 35 with value: 0.6236934065818787.\n"
          ]
        },
        {
          "output_type": "stream",
          "name": "stdout",
          "text": [
            "Accuracy: 0.6097561120986938, Precision: 0.0, Recall: 0.0, F1 Score: 0.0\n"
          ]
        },
        {
          "output_type": "stream",
          "name": "stderr",
          "text": [
            "[I 2024-04-23 15:54:04,894] Trial 69 finished with value: 0.6202090382575989 and parameters: {'n_hidden': 57, 'lr': 0.004142380374454237, 'batch_size': 64, 'optimizer': 'SGD'}. Best is trial 35 with value: 0.6236934065818787.\n"
          ]
        },
        {
          "output_type": "stream",
          "name": "stdout",
          "text": [
            "Accuracy: 0.6202090382575989, Precision: 0.5365853905677795, Recall: 0.1964285671710968, F1 Score: 0.2875817120075226\n"
          ]
        },
        {
          "output_type": "stream",
          "name": "stderr",
          "text": [
            "[I 2024-04-23 15:54:05,698] Trial 70 finished with value: 0.6097561120986938 and parameters: {'n_hidden': 42, 'lr': 0.0019559610637933304, 'batch_size': 64, 'optimizer': 'SGD'}. Best is trial 35 with value: 0.6236934065818787.\n"
          ]
        },
        {
          "output_type": "stream",
          "name": "stdout",
          "text": [
            "Accuracy: 0.6097561120986938, Precision: 0.0, Recall: 0.0, F1 Score: 0.0\n"
          ]
        },
        {
          "output_type": "stream",
          "name": "stderr",
          "text": [
            "[I 2024-04-23 15:54:06,506] Trial 71 finished with value: 0.5792682766914368 and parameters: {'n_hidden': 52, 'lr': 0.005919169477972608, 'batch_size': 64, 'optimizer': 'SGD'}. Best is trial 35 with value: 0.6236934065818787.\n"
          ]
        },
        {
          "output_type": "stream",
          "name": "stdout",
          "text": [
            "Accuracy: 0.5792682766914368, Precision: 0.45995423197746277, Recall: 0.4486607015132904, F1 Score: 0.45423728227615356\n"
          ]
        },
        {
          "output_type": "stream",
          "name": "stderr",
          "text": [
            "[I 2024-04-23 15:54:07,323] Trial 72 finished with value: 0.6097561120986938 and parameters: {'n_hidden': 57, 'lr': 0.003680493233703767, 'batch_size': 64, 'optimizer': 'SGD'}. Best is trial 35 with value: 0.6236934065818787.\n"
          ]
        },
        {
          "output_type": "stream",
          "name": "stdout",
          "text": [
            "Accuracy: 0.6097561120986938, Precision: 0.0, Recall: 0.0, F1 Score: 0.0\n"
          ]
        },
        {
          "output_type": "stream",
          "name": "stderr",
          "text": [
            "[I 2024-04-23 15:54:08,139] Trial 73 finished with value: 0.6097561120986938 and parameters: {'n_hidden': 67, 'lr': 0.008685703942297203, 'batch_size': 64, 'optimizer': 'SGD'}. Best is trial 35 with value: 0.6236934065818787.\n"
          ]
        },
        {
          "output_type": "stream",
          "name": "stdout",
          "text": [
            "Accuracy: 0.6097561120986938, Precision: 0.0, Recall: 0.0, F1 Score: 0.0\n"
          ]
        },
        {
          "output_type": "stream",
          "name": "stderr",
          "text": [
            "[I 2024-04-23 15:54:09,150] Trial 74 finished with value: 0.6097561120986938 and parameters: {'n_hidden': 54, 'lr': 0.0009398432852760172, 'batch_size': 64, 'optimizer': 'SGD'}. Best is trial 35 with value: 0.6236934065818787.\n"
          ]
        },
        {
          "output_type": "stream",
          "name": "stdout",
          "text": [
            "Accuracy: 0.6097561120986938, Precision: 0.0, Recall: 0.0, F1 Score: 0.0\n"
          ]
        },
        {
          "output_type": "stream",
          "name": "stderr",
          "text": [
            "[I 2024-04-23 15:54:10,104] Trial 75 finished with value: 0.6097561120986938 and parameters: {'n_hidden': 61, 'lr': 0.0013959964531517083, 'batch_size': 128, 'optimizer': 'RMSprop'}. Best is trial 35 with value: 0.6236934065818787.\n"
          ]
        },
        {
          "output_type": "stream",
          "name": "stdout",
          "text": [
            "Accuracy: 0.6097561120986938, Precision: 0.0, Recall: 0.0, F1 Score: 0.0\n"
          ]
        },
        {
          "output_type": "stream",
          "name": "stderr",
          "text": [
            "[I 2024-04-23 15:54:12,144] Trial 76 finished with value: 0.6097561120986938 and parameters: {'n_hidden': 35, 'lr': 1.5032319983751887e-05, 'batch_size': 32, 'optimizer': 'Adam'}. Best is trial 35 with value: 0.6236934065818787.\n"
          ]
        },
        {
          "output_type": "stream",
          "name": "stdout",
          "text": [
            "Accuracy: 0.6097561120986938, Precision: 0.0, Recall: 0.0, F1 Score: 0.0\n"
          ]
        },
        {
          "output_type": "stream",
          "name": "stderr",
          "text": [
            "[I 2024-04-23 15:54:12,942] Trial 77 finished with value: 0.6097561120986938 and parameters: {'n_hidden': 47, 'lr': 0.0023012672543973197, 'batch_size': 64, 'optimizer': 'SGD'}. Best is trial 35 with value: 0.6236934065818787.\n"
          ]
        },
        {
          "output_type": "stream",
          "name": "stdout",
          "text": [
            "Accuracy: 0.6097561120986938, Precision: 0.0, Recall: 0.0, F1 Score: 0.0\n"
          ]
        },
        {
          "output_type": "stream",
          "name": "stderr",
          "text": [
            "[I 2024-04-23 15:54:13,622] Trial 78 finished with value: 0.6097561120986938 and parameters: {'n_hidden': 95, 'lr': 0.004278111044724999, 'batch_size': 128, 'optimizer': 'RMSprop'}. Best is trial 35 with value: 0.6236934065818787.\n"
          ]
        },
        {
          "output_type": "stream",
          "name": "stdout",
          "text": [
            "Accuracy: 0.6097561120986938, Precision: 0.0, Recall: 0.0, F1 Score: 0.0\n"
          ]
        },
        {
          "output_type": "stream",
          "name": "stderr",
          "text": [
            "[I 2024-04-23 15:54:14,421] Trial 79 finished with value: 0.6097561120986938 and parameters: {'n_hidden': 22, 'lr': 1.0209453124252245e-05, 'batch_size': 64, 'optimizer': 'SGD'}. Best is trial 35 with value: 0.6236934065818787.\n"
          ]
        },
        {
          "output_type": "stream",
          "name": "stdout",
          "text": [
            "Accuracy: 0.6097561120986938, Precision: 0.0, Recall: 0.0, F1 Score: 0.0\n"
          ]
        },
        {
          "output_type": "stream",
          "name": "stderr",
          "text": [
            "[I 2024-04-23 15:54:15,122] Trial 80 finished with value: 0.6097561120986938 and parameters: {'n_hidden': 72, 'lr': 0.013459374402676555, 'batch_size': 128, 'optimizer': 'Adam'}. Best is trial 35 with value: 0.6236934065818787.\n"
          ]
        },
        {
          "output_type": "stream",
          "name": "stdout",
          "text": [
            "Accuracy: 0.6097561120986938, Precision: 0.0, Recall: 0.0, F1 Score: 0.0\n"
          ]
        },
        {
          "output_type": "stream",
          "name": "stderr",
          "text": [
            "[I 2024-04-23 15:54:16,979] Trial 81 finished with value: 0.5940766334533691 and parameters: {'n_hidden': 97, 'lr': 0.0003358887839954892, 'batch_size': 32, 'optimizer': 'Adam'}. Best is trial 35 with value: 0.6236934065818787.\n"
          ]
        },
        {
          "output_type": "stream",
          "name": "stdout",
          "text": [
            "Accuracy: 0.5940766334533691, Precision: 0.40625, Recall: 0.0870535746216774, F1 Score: 0.14338235557079315\n"
          ]
        },
        {
          "output_type": "stream",
          "name": "stderr",
          "text": [
            "[I 2024-04-23 15:54:18,818] Trial 82 finished with value: 0.6097561120986938 and parameters: {'n_hidden': 89, 'lr': 0.00023125258362683866, 'batch_size': 32, 'optimizer': 'Adam'}. Best is trial 35 with value: 0.6236934065818787.\n"
          ]
        },
        {
          "output_type": "stream",
          "name": "stdout",
          "text": [
            "Accuracy: 0.6097561120986938, Precision: 0.0, Recall: 0.0, F1 Score: 0.0\n"
          ]
        },
        {
          "output_type": "stream",
          "name": "stderr",
          "text": [
            "[I 2024-04-23 15:54:20,734] Trial 83 finished with value: 0.6141114830970764 and parameters: {'n_hidden': 100, 'lr': 0.0005202756543341236, 'batch_size': 32, 'optimizer': 'Adam'}. Best is trial 35 with value: 0.6236934065818787.\n"
          ]
        },
        {
          "output_type": "stream",
          "name": "stdout",
          "text": [
            "Accuracy: 0.6141114830970764, Precision: 0.5079872012138367, Recall: 0.3549107015132904, F1 Score: 0.41787123680114746\n"
          ]
        },
        {
          "output_type": "stream",
          "name": "stderr",
          "text": [
            "[I 2024-04-23 15:54:23,295] Trial 84 finished with value: 0.6097561120986938 and parameters: {'n_hidden': 100, 'lr': 0.0005552422331603441, 'batch_size': 32, 'optimizer': 'Adam'}. Best is trial 35 with value: 0.6236934065818787.\n"
          ]
        },
        {
          "output_type": "stream",
          "name": "stdout",
          "text": [
            "Accuracy: 0.6097561120986938, Precision: 0.0, Recall: 0.0, F1 Score: 0.0\n"
          ]
        },
        {
          "output_type": "stream",
          "name": "stderr",
          "text": [
            "[I 2024-04-23 15:54:25,194] Trial 85 finished with value: 0.6097561120986938 and parameters: {'n_hidden': 82, 'lr': 3.0024707523736206e-05, 'batch_size': 32, 'optimizer': 'Adam'}. Best is trial 35 with value: 0.6236934065818787.\n"
          ]
        },
        {
          "output_type": "stream",
          "name": "stdout",
          "text": [
            "Accuracy: 0.6097561120986938, Precision: 0.0, Recall: 0.0, F1 Score: 0.0\n"
          ]
        },
        {
          "output_type": "stream",
          "name": "stderr",
          "text": [
            "[I 2024-04-23 15:54:26,789] Trial 86 finished with value: 0.6097561120986938 and parameters: {'n_hidden': 92, 'lr': 0.0004518925895873723, 'batch_size': 32, 'optimizer': 'RMSprop'}. Best is trial 35 with value: 0.6236934065818787.\n"
          ]
        },
        {
          "output_type": "stream",
          "name": "stdout",
          "text": [
            "Accuracy: 0.6097561120986938, Precision: 0.0, Recall: 0.0, F1 Score: 0.0\n"
          ]
        },
        {
          "output_type": "stream",
          "name": "stderr",
          "text": [
            "[I 2024-04-23 15:54:27,869] Trial 87 finished with value: 0.6097561120986938 and parameters: {'n_hidden': 86, 'lr': 0.00016024726950697097, 'batch_size': 64, 'optimizer': 'Adam'}. Best is trial 35 with value: 0.6236934065818787.\n"
          ]
        },
        {
          "output_type": "stream",
          "name": "stdout",
          "text": [
            "Accuracy: 0.6097561120986938, Precision: 0.0, Recall: 0.0, F1 Score: 0.0\n"
          ]
        },
        {
          "output_type": "stream",
          "name": "stderr",
          "text": [
            "[I 2024-04-23 15:54:28,458] Trial 88 finished with value: 0.5940766334533691 and parameters: {'n_hidden': 57, 'lr': 0.00011724408719544641, 'batch_size': 128, 'optimizer': 'SGD'}. Best is trial 35 with value: 0.6236934065818787.\n"
          ]
        },
        {
          "output_type": "stream",
          "name": "stdout",
          "text": [
            "Accuracy: 0.5940766334533691, Precision: 0.3392857015132904, Recall: 0.0424107126891613, F1 Score: 0.075396828353405\n"
          ]
        },
        {
          "output_type": "stream",
          "name": "stderr",
          "text": [
            "[I 2024-04-23 15:54:29,518] Trial 89 finished with value: 0.6097561120986938 and parameters: {'n_hidden': 49, 'lr': 0.000882668994987942, 'batch_size': 64, 'optimizer': 'Adam'}. Best is trial 35 with value: 0.6236934065818787.\n"
          ]
        },
        {
          "output_type": "stream",
          "name": "stdout",
          "text": [
            "Accuracy: 0.6097561120986938, Precision: 0.0, Recall: 0.0, F1 Score: 0.0\n"
          ]
        },
        {
          "output_type": "stream",
          "name": "stderr",
          "text": [
            "[I 2024-04-23 15:54:31,098] Trial 90 finished with value: 0.6097561120986938 and parameters: {'n_hidden': 62, 'lr': 4.880281576251498e-05, 'batch_size': 32, 'optimizer': 'RMSprop'}. Best is trial 35 with value: 0.6236934065818787.\n"
          ]
        },
        {
          "output_type": "stream",
          "name": "stdout",
          "text": [
            "Accuracy: 0.6097561120986938, Precision: 0.0, Recall: 0.0, F1 Score: 0.0\n"
          ]
        },
        {
          "output_type": "stream",
          "name": "stderr",
          "text": [
            "[I 2024-04-23 15:54:33,975] Trial 91 finished with value: 0.5975610017776489 and parameters: {'n_hidden': 96, 'lr': 0.0007037917693233034, 'batch_size': 32, 'optimizer': 'Adam'}. Best is trial 35 with value: 0.6236934065818787.\n"
          ]
        },
        {
          "output_type": "stream",
          "name": "stdout",
          "text": [
            "Accuracy: 0.5975610017776489, Precision: 0.4146341383457184, Recall: 0.0758928582072258, F1 Score: 0.12830188870429993\n"
          ]
        },
        {
          "output_type": "stream",
          "name": "stderr",
          "text": [
            "[I 2024-04-23 15:54:37,267] Trial 92 finished with value: 0.5932055711746216 and parameters: {'n_hidden': 92, 'lr': 0.0010905556472767409, 'batch_size': 32, 'optimizer': 'Adam'}. Best is trial 35 with value: 0.6236934065818787.\n"
          ]
        },
        {
          "output_type": "stream",
          "name": "stdout",
          "text": [
            "Accuracy: 0.5932055711746216, Precision: 0.44632768630981445, Recall: 0.1763392835855484, F1 Score: 0.25279998779296875\n"
          ]
        },
        {
          "output_type": "stream",
          "name": "stderr",
          "text": [
            "[I 2024-04-23 15:54:39,993] Trial 93 finished with value: 0.5740417838096619 and parameters: {'n_hidden': 100, 'lr': 0.003106009019820467, 'batch_size': 32, 'optimizer': 'Adam'}. Best is trial 35 with value: 0.6236934065818787.\n"
          ]
        },
        {
          "output_type": "stream",
          "name": "stdout",
          "text": [
            "Accuracy: 0.5740417838096619, Precision: 0.41632652282714844, Recall: 0.2276785671710968, F1 Score: 0.2943722903728485\n"
          ]
        },
        {
          "output_type": "stream",
          "name": "stderr",
          "text": [
            "[I 2024-04-23 15:54:45,817] Trial 94 finished with value: 0.608013927936554 and parameters: {'n_hidden': 51, 'lr': 0.004476368042051654, 'batch_size': 32, 'optimizer': 'Adam'}. Best is trial 35 with value: 0.6236934065818787.\n"
          ]
        },
        {
          "output_type": "stream",
          "name": "stdout",
          "text": [
            "Accuracy: 0.608013927936554, Precision: 0.48148149251937866, Recall: 0.0580357126891613, F1 Score: 0.10358566045761108\n"
          ]
        },
        {
          "output_type": "stream",
          "name": "stderr",
          "text": [
            "[I 2024-04-23 15:54:47,166] Trial 95 finished with value: 0.6097561120986938 and parameters: {'n_hidden': 93, 'lr': 0.0017374446119283573, 'batch_size': 64, 'optimizer': 'SGD'}. Best is trial 35 with value: 0.6236934065818787.\n"
          ]
        },
        {
          "output_type": "stream",
          "name": "stdout",
          "text": [
            "Accuracy: 0.6097561120986938, Precision: 0.0, Recall: 0.0, F1 Score: 0.0\n"
          ]
        },
        {
          "output_type": "stream",
          "name": "stderr",
          "text": [
            "[I 2024-04-23 15:54:48,291] Trial 96 finished with value: 0.6097561120986938 and parameters: {'n_hidden': 90, 'lr': 0.0004104277300025233, 'batch_size': 128, 'optimizer': 'Adam'}. Best is trial 35 with value: 0.6236934065818787.\n"
          ]
        },
        {
          "output_type": "stream",
          "name": "stdout",
          "text": [
            "Accuracy: 0.6097561120986938, Precision: 0.0, Recall: 0.0, F1 Score: 0.0\n"
          ]
        },
        {
          "output_type": "stream",
          "name": "stderr",
          "text": [
            "[I 2024-04-23 15:54:49,359] Trial 97 finished with value: 0.6097561120986938 and parameters: {'n_hidden': 77, 'lr': 0.0069549654495752854, 'batch_size': 64, 'optimizer': 'SGD'}. Best is trial 35 with value: 0.6236934065818787.\n"
          ]
        },
        {
          "output_type": "stream",
          "name": "stdout",
          "text": [
            "Accuracy: 0.6097561120986938, Precision: 0.0, Recall: 0.0, F1 Score: 0.0\n"
          ]
        },
        {
          "output_type": "stream",
          "name": "stderr",
          "text": [
            "[I 2024-04-23 15:54:51,003] Trial 98 finished with value: 0.6088849902153015 and parameters: {'n_hidden': 97, 'lr': 0.0002520431145649149, 'batch_size': 32, 'optimizer': 'RMSprop'}. Best is trial 35 with value: 0.6236934065818787.\n"
          ]
        },
        {
          "output_type": "stream",
          "name": "stdout",
          "text": [
            "Accuracy: 0.6088849902153015, Precision: 0.0, Recall: 0.0, F1 Score: 0.0\n"
          ]
        },
        {
          "output_type": "stream",
          "name": "stderr",
          "text": [
            "[I 2024-04-23 15:54:52,049] Trial 99 finished with value: 0.6097561120986938 and parameters: {'n_hidden': 54, 'lr': 0.00032038182179717356, 'batch_size': 64, 'optimizer': 'Adam'}. Best is trial 35 with value: 0.6236934065818787.\n"
          ]
        },
        {
          "output_type": "stream",
          "name": "stdout",
          "text": [
            "Accuracy: 0.6097561120986938, Precision: 0.0, Recall: 0.0, F1 Score: 0.0\n"
          ]
        }
      ]
    },
    {
      "cell_type": "code",
      "source": [
        "# Print the results for the best trial\n",
        "trial = study.best_trial\n",
        "\n",
        "print(\"Best trial without Rolling Averages:\")\n",
        "\n",
        "\n",
        "accuracy = trial.user_attrs['accuracy']\n",
        "precision = trial.user_attrs['precision']\n",
        "recall = trial.user_attrs['recall']\n",
        "f1_score = trial.user_attrs['f1_score']\n",
        "\n",
        "print(f\"  Value (Accuracy): {trial.value}\")\n",
        "print(\"  Metrics:\")\n",
        "print(f\"    Accuracy: {accuracy}\")\n",
        "print(f\"    Precision: {precision}\")\n",
        "print(f\"    Recall: {recall}\")\n",
        "print(f\"    F1 Score: {f1_score}\")\n",
        "print(\"  Params: \")\n",
        "for key, value in trial.params.items():\n",
        "  print(f\"    {key}: {value}\")"
      ],
      "metadata": {
        "colab": {
          "base_uri": "https://localhost:8080/"
        },
        "id": "b5N-zwN2akwZ",
        "outputId": "a9965eab-3f9d-4ebe-9e75-95233a4ba7b7"
      },
      "execution_count": 72,
      "outputs": [
        {
          "output_type": "stream",
          "name": "stdout",
          "text": [
            "Best trial without Rolling Averages:\n",
            "  Value (Accuracy): 0.6236934065818787\n",
            "  Metrics:\n",
            "    Accuracy: 0.6236934065818787\n",
            "    Precision: 0.5634920597076416\n",
            "    Recall: 0.1584821492433548\n",
            "    F1 Score: 0.24738675355911255\n",
            "  Params: \n",
            "    n_hidden: 53\n",
            "    lr: 0.006177441034744258\n",
            "    batch_size: 128\n",
            "    optimizer: Adam\n"
          ]
        }
      ]
    },
    {
      "cell_type": "code",
      "source": [
        "trial.params"
      ],
      "metadata": {
        "colab": {
          "base_uri": "https://localhost:8080/"
        },
        "id": "W2JSN2rieya3",
        "outputId": "c8106281-35df-4e91-ccf1-b2798568dd15"
      },
      "execution_count": 73,
      "outputs": [
        {
          "output_type": "execute_result",
          "data": {
            "text/plain": [
              "{'n_hidden': 53,\n",
              " 'lr': 0.006177441034744258,\n",
              " 'batch_size': 128,\n",
              " 'optimizer': 'Adam'}"
            ]
          },
          "metadata": {},
          "execution_count": 73
        }
      ]
    },
    {
      "cell_type": "code",
      "source": [
        "trial.params['batch_size']"
      ],
      "metadata": {
        "colab": {
          "base_uri": "https://localhost:8080/"
        },
        "id": "YbN4Z2XinQF6",
        "outputId": "084423af-48a0-4dab-f945-570ea0c7310c"
      },
      "execution_count": 74,
      "outputs": [
        {
          "output_type": "execute_result",
          "data": {
            "text/plain": [
              "128"
            ]
          },
          "metadata": {},
          "execution_count": 74
        }
      ]
    },
    {
      "cell_type": "code",
      "source": [
        "## Rolling averages\n",
        "grouped_matches = matches.groupby(\"team\")\n",
        "group = grouped_matches.get_group(\"Manchester City\").sort_values(\"date\")"
      ],
      "metadata": {
        "id": "cFsRz-Jzau6E"
      },
      "execution_count": 75,
      "outputs": []
    },
    {
      "cell_type": "code",
      "source": [
        "def rolling_averages(group, cols, new_cols):\n",
        "    group = group.sort_values(\"date\")\n",
        "    rolling_stats = group[cols].rolling(3, closed='left').mean()\n",
        "    group[new_cols] = rolling_stats\n",
        "    group = group.dropna(subset=new_cols)\n",
        "    return group"
      ],
      "metadata": {
        "id": "UmZUlpUTdN0W"
      },
      "execution_count": 76,
      "outputs": []
    },
    {
      "cell_type": "code",
      "source": [
        "cols = [\"gf\", \"ga\", \"sh\", \"sot\", \"dist\", \"fk\", \"pk\", \"pkatt\"]\n",
        "new_cols = [f\"{c}_rolling\" for c in cols]"
      ],
      "metadata": {
        "id": "8YNZtclHdTgd"
      },
      "execution_count": 77,
      "outputs": []
    },
    {
      "cell_type": "code",
      "source": [
        "matches_rolling = matches.groupby(\"team\").apply(lambda x: rolling_averages(x, cols, new_cols))\n",
        "matches_rolling = matches_rolling.droplevel('team')\n",
        "matches_rolling.index = range(matches_rolling.shape[0])"
      ],
      "metadata": {
        "id": "ua4zc34BddGW"
      },
      "execution_count": 78,
      "outputs": []
    },
    {
      "cell_type": "code",
      "source": [
        "new_train = matches_rolling[matches_rolling[\"date\"]< '2022-01-01']\n",
        "new_test = matches_rolling[matches_rolling[\"date\"]>'2022-01-01']\n",
        "new_predictors = predictors + new_cols"
      ],
      "metadata": {
        "id": "IRzZuXJMdp79"
      },
      "execution_count": 79,
      "outputs": []
    },
    {
      "cell_type": "code",
      "source": [
        "X_train_rolling = new_train[new_predictors]\n",
        "X_test_rolling = new_test[new_predictors]\n",
        "y_test_rolling=  new_test ['target']\n",
        "y_train_rolling = new_train['target']"
      ],
      "metadata": {
        "id": "e27Jo0cFdrOT"
      },
      "execution_count": 80,
      "outputs": []
    },
    {
      "cell_type": "code",
      "source": [
        "X_train_rolling_subset = new_train[new_predictors]\n",
        "X_test_rolling_subset = new_test[new_predictors]\n",
        "\n",
        "# Displaying the DataFrame\n",
        "print(X_train_rolling_subset.head())\n",
        "print(X_test_rolling_subset.head())"
      ],
      "metadata": {
        "colab": {
          "base_uri": "https://localhost:8080/"
        },
        "id": "A7gxg3MKB2Zq",
        "outputId": "7994b31f-ef05-4795-9f5d-dbb3f13f6fbb"
      },
      "execution_count": 81,
      "outputs": [
        {
          "output_type": "stream",
          "name": "stdout",
          "text": [
            "   venue_code  opp_code  hour  day_code  gf_rolling  ga_rolling  sh_rolling  \\\n",
            "0           1         2    15         5    1.333333    2.666667   17.666667   \n",
            "1           0         7    13         6    1.000000    1.666667   14.333333   \n",
            "2           1        26    20         0    1.000000    1.333333   12.000000   \n",
            "3           1         4    12         6    1.666667    0.000000   14.333333   \n",
            "4           0        25    17         5    1.333333    0.000000   17.000000   \n",
            "\n",
            "   sot_rolling  dist_rolling  fk_rolling  pk_rolling  pkatt_rolling  \n",
            "0     5.333333     18.133333    0.000000    0.000000       0.000000  \n",
            "1     5.000000     16.766667    0.333333    0.000000       0.000000  \n",
            "2     3.666667     16.566667    0.333333    0.000000       0.000000  \n",
            "3     5.333333     17.400000    1.333333    0.333333       0.333333  \n",
            "4     5.000000     18.333333    1.666667    0.333333       0.333333  \n",
            "     venue_code  opp_code  hour  day_code  gf_rolling  ga_rolling  sh_rolling  \\\n",
            "169           1         5    14         6    3.333333    1.000000   14.333333   \n",
            "170           0        28    19         3    2.000000    0.666667   14.000000   \n",
            "171           1         3    15         5    0.666667    0.666667   13.000000   \n",
            "172           1        28    19         3    1.000000    0.333333   18.666667   \n",
            "173           0        25    14         6    1.666667    0.666667   20.666667   \n",
            "\n",
            "     sot_rolling  dist_rolling  fk_rolling  pk_rolling  pkatt_rolling  \n",
            "169     6.333333     16.666667    0.333333    0.333333       0.333333  \n",
            "170     4.000000     17.366667    1.000000    0.333333       0.333333  \n",
            "171     3.000000     17.200000    0.666667    0.000000       0.000000  \n",
            "172     4.666667     17.333333    0.666667    0.000000       0.000000  \n",
            "173     4.666667     16.266667    0.333333    0.000000       0.000000  \n"
          ]
        }
      ]
    },
    {
      "cell_type": "code",
      "source": [
        "X_train_rolling_subset.head()"
      ],
      "metadata": {
        "colab": {
          "base_uri": "https://localhost:8080/",
          "height": 206
        },
        "id": "ga5nd4umB_7N",
        "outputId": "1447e9cb-ef69-4bfb-8fcd-593c80f6f831"
      },
      "execution_count": 82,
      "outputs": [
        {
          "output_type": "execute_result",
          "data": {
            "text/plain": [
              "   venue_code  opp_code  hour  day_code  gf_rolling  ga_rolling  sh_rolling  \\\n",
              "0           1         2    15         5    1.333333    2.666667   17.666667   \n",
              "1           0         7    13         6    1.000000    1.666667   14.333333   \n",
              "2           1        26    20         0    1.000000    1.333333   12.000000   \n",
              "3           1         4    12         6    1.666667    0.000000   14.333333   \n",
              "4           0        25    17         5    1.333333    0.000000   17.000000   \n",
              "\n",
              "   sot_rolling  dist_rolling  fk_rolling  pk_rolling  pkatt_rolling  \n",
              "0     5.333333     18.133333    0.000000    0.000000       0.000000  \n",
              "1     5.000000     16.766667    0.333333    0.000000       0.000000  \n",
              "2     3.666667     16.566667    0.333333    0.000000       0.000000  \n",
              "3     5.333333     17.400000    1.333333    0.333333       0.333333  \n",
              "4     5.000000     18.333333    1.666667    0.333333       0.333333  "
            ],
            "text/html": [
              "\n",
              "  <div id=\"df-814cc282-99c9-473c-8feb-8f126c2952be\" class=\"colab-df-container\">\n",
              "    <div>\n",
              "<style scoped>\n",
              "    .dataframe tbody tr th:only-of-type {\n",
              "        vertical-align: middle;\n",
              "    }\n",
              "\n",
              "    .dataframe tbody tr th {\n",
              "        vertical-align: top;\n",
              "    }\n",
              "\n",
              "    .dataframe thead th {\n",
              "        text-align: right;\n",
              "    }\n",
              "</style>\n",
              "<table border=\"1\" class=\"dataframe\">\n",
              "  <thead>\n",
              "    <tr style=\"text-align: right;\">\n",
              "      <th></th>\n",
              "      <th>venue_code</th>\n",
              "      <th>opp_code</th>\n",
              "      <th>hour</th>\n",
              "      <th>day_code</th>\n",
              "      <th>gf_rolling</th>\n",
              "      <th>ga_rolling</th>\n",
              "      <th>sh_rolling</th>\n",
              "      <th>sot_rolling</th>\n",
              "      <th>dist_rolling</th>\n",
              "      <th>fk_rolling</th>\n",
              "      <th>pk_rolling</th>\n",
              "      <th>pkatt_rolling</th>\n",
              "    </tr>\n",
              "  </thead>\n",
              "  <tbody>\n",
              "    <tr>\n",
              "      <th>0</th>\n",
              "      <td>1</td>\n",
              "      <td>2</td>\n",
              "      <td>15</td>\n",
              "      <td>5</td>\n",
              "      <td>1.333333</td>\n",
              "      <td>2.666667</td>\n",
              "      <td>17.666667</td>\n",
              "      <td>5.333333</td>\n",
              "      <td>18.133333</td>\n",
              "      <td>0.000000</td>\n",
              "      <td>0.000000</td>\n",
              "      <td>0.000000</td>\n",
              "    </tr>\n",
              "    <tr>\n",
              "      <th>1</th>\n",
              "      <td>0</td>\n",
              "      <td>7</td>\n",
              "      <td>13</td>\n",
              "      <td>6</td>\n",
              "      <td>1.000000</td>\n",
              "      <td>1.666667</td>\n",
              "      <td>14.333333</td>\n",
              "      <td>5.000000</td>\n",
              "      <td>16.766667</td>\n",
              "      <td>0.333333</td>\n",
              "      <td>0.000000</td>\n",
              "      <td>0.000000</td>\n",
              "    </tr>\n",
              "    <tr>\n",
              "      <th>2</th>\n",
              "      <td>1</td>\n",
              "      <td>26</td>\n",
              "      <td>20</td>\n",
              "      <td>0</td>\n",
              "      <td>1.000000</td>\n",
              "      <td>1.333333</td>\n",
              "      <td>12.000000</td>\n",
              "      <td>3.666667</td>\n",
              "      <td>16.566667</td>\n",
              "      <td>0.333333</td>\n",
              "      <td>0.000000</td>\n",
              "      <td>0.000000</td>\n",
              "    </tr>\n",
              "    <tr>\n",
              "      <th>3</th>\n",
              "      <td>1</td>\n",
              "      <td>4</td>\n",
              "      <td>12</td>\n",
              "      <td>6</td>\n",
              "      <td>1.666667</td>\n",
              "      <td>0.000000</td>\n",
              "      <td>14.333333</td>\n",
              "      <td>5.333333</td>\n",
              "      <td>17.400000</td>\n",
              "      <td>1.333333</td>\n",
              "      <td>0.333333</td>\n",
              "      <td>0.333333</td>\n",
              "    </tr>\n",
              "    <tr>\n",
              "      <th>4</th>\n",
              "      <td>0</td>\n",
              "      <td>25</td>\n",
              "      <td>17</td>\n",
              "      <td>5</td>\n",
              "      <td>1.333333</td>\n",
              "      <td>0.000000</td>\n",
              "      <td>17.000000</td>\n",
              "      <td>5.000000</td>\n",
              "      <td>18.333333</td>\n",
              "      <td>1.666667</td>\n",
              "      <td>0.333333</td>\n",
              "      <td>0.333333</td>\n",
              "    </tr>\n",
              "  </tbody>\n",
              "</table>\n",
              "</div>\n",
              "    <div class=\"colab-df-buttons\">\n",
              "\n",
              "  <div class=\"colab-df-container\">\n",
              "    <button class=\"colab-df-convert\" onclick=\"convertToInteractive('df-814cc282-99c9-473c-8feb-8f126c2952be')\"\n",
              "            title=\"Convert this dataframe to an interactive table.\"\n",
              "            style=\"display:none;\">\n",
              "\n",
              "  <svg xmlns=\"http://www.w3.org/2000/svg\" height=\"24px\" viewBox=\"0 -960 960 960\">\n",
              "    <path d=\"M120-120v-720h720v720H120Zm60-500h600v-160H180v160Zm220 220h160v-160H400v160Zm0 220h160v-160H400v160ZM180-400h160v-160H180v160Zm440 0h160v-160H620v160ZM180-180h160v-160H180v160Zm440 0h160v-160H620v160Z\"/>\n",
              "  </svg>\n",
              "    </button>\n",
              "\n",
              "  <style>\n",
              "    .colab-df-container {\n",
              "      display:flex;\n",
              "      gap: 12px;\n",
              "    }\n",
              "\n",
              "    .colab-df-convert {\n",
              "      background-color: #E8F0FE;\n",
              "      border: none;\n",
              "      border-radius: 50%;\n",
              "      cursor: pointer;\n",
              "      display: none;\n",
              "      fill: #1967D2;\n",
              "      height: 32px;\n",
              "      padding: 0 0 0 0;\n",
              "      width: 32px;\n",
              "    }\n",
              "\n",
              "    .colab-df-convert:hover {\n",
              "      background-color: #E2EBFA;\n",
              "      box-shadow: 0px 1px 2px rgba(60, 64, 67, 0.3), 0px 1px 3px 1px rgba(60, 64, 67, 0.15);\n",
              "      fill: #174EA6;\n",
              "    }\n",
              "\n",
              "    .colab-df-buttons div {\n",
              "      margin-bottom: 4px;\n",
              "    }\n",
              "\n",
              "    [theme=dark] .colab-df-convert {\n",
              "      background-color: #3B4455;\n",
              "      fill: #D2E3FC;\n",
              "    }\n",
              "\n",
              "    [theme=dark] .colab-df-convert:hover {\n",
              "      background-color: #434B5C;\n",
              "      box-shadow: 0px 1px 3px 1px rgba(0, 0, 0, 0.15);\n",
              "      filter: drop-shadow(0px 1px 2px rgba(0, 0, 0, 0.3));\n",
              "      fill: #FFFFFF;\n",
              "    }\n",
              "  </style>\n",
              "\n",
              "    <script>\n",
              "      const buttonEl =\n",
              "        document.querySelector('#df-814cc282-99c9-473c-8feb-8f126c2952be button.colab-df-convert');\n",
              "      buttonEl.style.display =\n",
              "        google.colab.kernel.accessAllowed ? 'block' : 'none';\n",
              "\n",
              "      async function convertToInteractive(key) {\n",
              "        const element = document.querySelector('#df-814cc282-99c9-473c-8feb-8f126c2952be');\n",
              "        const dataTable =\n",
              "          await google.colab.kernel.invokeFunction('convertToInteractive',\n",
              "                                                    [key], {});\n",
              "        if (!dataTable) return;\n",
              "\n",
              "        const docLinkHtml = 'Like what you see? Visit the ' +\n",
              "          '<a target=\"_blank\" href=https://colab.research.google.com/notebooks/data_table.ipynb>data table notebook</a>'\n",
              "          + ' to learn more about interactive tables.';\n",
              "        element.innerHTML = '';\n",
              "        dataTable['output_type'] = 'display_data';\n",
              "        await google.colab.output.renderOutput(dataTable, element);\n",
              "        const docLink = document.createElement('div');\n",
              "        docLink.innerHTML = docLinkHtml;\n",
              "        element.appendChild(docLink);\n",
              "      }\n",
              "    </script>\n",
              "  </div>\n",
              "\n",
              "\n",
              "<div id=\"df-c4567231-560a-4932-8b73-b08d1ebf3779\">\n",
              "  <button class=\"colab-df-quickchart\" onclick=\"quickchart('df-c4567231-560a-4932-8b73-b08d1ebf3779')\"\n",
              "            title=\"Suggest charts\"\n",
              "            style=\"display:none;\">\n",
              "\n",
              "<svg xmlns=\"http://www.w3.org/2000/svg\" height=\"24px\"viewBox=\"0 0 24 24\"\n",
              "     width=\"24px\">\n",
              "    <g>\n",
              "        <path d=\"M19 3H5c-1.1 0-2 .9-2 2v14c0 1.1.9 2 2 2h14c1.1 0 2-.9 2-2V5c0-1.1-.9-2-2-2zM9 17H7v-7h2v7zm4 0h-2V7h2v10zm4 0h-2v-4h2v4z\"/>\n",
              "    </g>\n",
              "</svg>\n",
              "  </button>\n",
              "\n",
              "<style>\n",
              "  .colab-df-quickchart {\n",
              "      --bg-color: #E8F0FE;\n",
              "      --fill-color: #1967D2;\n",
              "      --hover-bg-color: #E2EBFA;\n",
              "      --hover-fill-color: #174EA6;\n",
              "      --disabled-fill-color: #AAA;\n",
              "      --disabled-bg-color: #DDD;\n",
              "  }\n",
              "\n",
              "  [theme=dark] .colab-df-quickchart {\n",
              "      --bg-color: #3B4455;\n",
              "      --fill-color: #D2E3FC;\n",
              "      --hover-bg-color: #434B5C;\n",
              "      --hover-fill-color: #FFFFFF;\n",
              "      --disabled-bg-color: #3B4455;\n",
              "      --disabled-fill-color: #666;\n",
              "  }\n",
              "\n",
              "  .colab-df-quickchart {\n",
              "    background-color: var(--bg-color);\n",
              "    border: none;\n",
              "    border-radius: 50%;\n",
              "    cursor: pointer;\n",
              "    display: none;\n",
              "    fill: var(--fill-color);\n",
              "    height: 32px;\n",
              "    padding: 0;\n",
              "    width: 32px;\n",
              "  }\n",
              "\n",
              "  .colab-df-quickchart:hover {\n",
              "    background-color: var(--hover-bg-color);\n",
              "    box-shadow: 0 1px 2px rgba(60, 64, 67, 0.3), 0 1px 3px 1px rgba(60, 64, 67, 0.15);\n",
              "    fill: var(--button-hover-fill-color);\n",
              "  }\n",
              "\n",
              "  .colab-df-quickchart-complete:disabled,\n",
              "  .colab-df-quickchart-complete:disabled:hover {\n",
              "    background-color: var(--disabled-bg-color);\n",
              "    fill: var(--disabled-fill-color);\n",
              "    box-shadow: none;\n",
              "  }\n",
              "\n",
              "  .colab-df-spinner {\n",
              "    border: 2px solid var(--fill-color);\n",
              "    border-color: transparent;\n",
              "    border-bottom-color: var(--fill-color);\n",
              "    animation:\n",
              "      spin 1s steps(1) infinite;\n",
              "  }\n",
              "\n",
              "  @keyframes spin {\n",
              "    0% {\n",
              "      border-color: transparent;\n",
              "      border-bottom-color: var(--fill-color);\n",
              "      border-left-color: var(--fill-color);\n",
              "    }\n",
              "    20% {\n",
              "      border-color: transparent;\n",
              "      border-left-color: var(--fill-color);\n",
              "      border-top-color: var(--fill-color);\n",
              "    }\n",
              "    30% {\n",
              "      border-color: transparent;\n",
              "      border-left-color: var(--fill-color);\n",
              "      border-top-color: var(--fill-color);\n",
              "      border-right-color: var(--fill-color);\n",
              "    }\n",
              "    40% {\n",
              "      border-color: transparent;\n",
              "      border-right-color: var(--fill-color);\n",
              "      border-top-color: var(--fill-color);\n",
              "    }\n",
              "    60% {\n",
              "      border-color: transparent;\n",
              "      border-right-color: var(--fill-color);\n",
              "    }\n",
              "    80% {\n",
              "      border-color: transparent;\n",
              "      border-right-color: var(--fill-color);\n",
              "      border-bottom-color: var(--fill-color);\n",
              "    }\n",
              "    90% {\n",
              "      border-color: transparent;\n",
              "      border-bottom-color: var(--fill-color);\n",
              "    }\n",
              "  }\n",
              "</style>\n",
              "\n",
              "  <script>\n",
              "    async function quickchart(key) {\n",
              "      const quickchartButtonEl =\n",
              "        document.querySelector('#' + key + ' button');\n",
              "      quickchartButtonEl.disabled = true;  // To prevent multiple clicks.\n",
              "      quickchartButtonEl.classList.add('colab-df-spinner');\n",
              "      try {\n",
              "        const charts = await google.colab.kernel.invokeFunction(\n",
              "            'suggestCharts', [key], {});\n",
              "      } catch (error) {\n",
              "        console.error('Error during call to suggestCharts:', error);\n",
              "      }\n",
              "      quickchartButtonEl.classList.remove('colab-df-spinner');\n",
              "      quickchartButtonEl.classList.add('colab-df-quickchart-complete');\n",
              "    }\n",
              "    (() => {\n",
              "      let quickchartButtonEl =\n",
              "        document.querySelector('#df-c4567231-560a-4932-8b73-b08d1ebf3779 button');\n",
              "      quickchartButtonEl.style.display =\n",
              "        google.colab.kernel.accessAllowed ? 'block' : 'none';\n",
              "    })();\n",
              "  </script>\n",
              "</div>\n",
              "\n",
              "    </div>\n",
              "  </div>\n"
            ],
            "application/vnd.google.colaboratory.intrinsic+json": {
              "type": "dataframe",
              "variable_name": "X_train_rolling_subset",
              "summary": "{\n  \"name\": \"X_train_rolling_subset\",\n  \"rows\": 3313,\n  \"fields\": [\n    {\n      \"column\": \"venue_code\",\n      \"properties\": {\n        \"dtype\": \"int8\",\n        \"num_unique_values\": 2,\n        \"samples\": [\n          0,\n          1\n        ],\n        \"semantic_type\": \"\",\n        \"description\": \"\"\n      }\n    },\n    {\n      \"column\": \"opp_code\",\n      \"properties\": {\n        \"dtype\": \"int8\",\n        \"num_unique_values\": 28,\n        \"samples\": [\n          5,\n          12\n        ],\n        \"semantic_type\": \"\",\n        \"description\": \"\"\n      }\n    },\n    {\n      \"column\": \"hour\",\n      \"properties\": {\n        \"dtype\": \"number\",\n        \"std\": 2,\n        \"min\": 12,\n        \"max\": 20,\n        \"num_unique_values\": 9,\n        \"samples\": [\n          16,\n          13\n        ],\n        \"semantic_type\": \"\",\n        \"description\": \"\"\n      }\n    },\n    {\n      \"column\": \"day_code\",\n      \"properties\": {\n        \"dtype\": \"int32\",\n        \"num_unique_values\": 7,\n        \"samples\": [\n          5,\n          6\n        ],\n        \"semantic_type\": \"\",\n        \"description\": \"\"\n      }\n    },\n    {\n      \"column\": \"gf_rolling\",\n      \"properties\": {\n        \"dtype\": \"number\",\n        \"std\": 0.8053190395679333,\n        \"min\": 0.0,\n        \"max\": 5.666666666666667,\n        \"num_unique_values\": 17,\n        \"samples\": [\n          1.3333333333333333,\n          1.0\n        ],\n        \"semantic_type\": \"\",\n        \"description\": \"\"\n      }\n    },\n    {\n      \"column\": \"ga_rolling\",\n      \"properties\": {\n        \"dtype\": \"number\",\n        \"std\": 0.7653087566680404,\n        \"min\": 0.0,\n        \"max\": 4.666666666666667,\n        \"num_unique_values\": 15,\n        \"samples\": [\n          3.0,\n          3.6666666666666665\n        ],\n        \"semantic_type\": \"\",\n        \"description\": \"\"\n      }\n    },\n    {\n      \"column\": \"sh_rolling\",\n      \"properties\": {\n        \"dtype\": \"number\",\n        \"std\": 3.577272309259888,\n        \"min\": 3.3333333333333335,\n        \"max\": 26.666666666666668,\n        \"num_unique_values\": 68,\n        \"samples\": [\n          6.333333333333333,\n          14.0\n        ],\n        \"semantic_type\": \"\",\n        \"description\": \"\"\n      }\n    },\n    {\n      \"column\": \"sot_rolling\",\n      \"properties\": {\n        \"dtype\": \"number\",\n        \"std\": 1.6040048791403725,\n        \"min\": 0.3333333333333333,\n        \"max\": 11.666666666666666,\n        \"num_unique_values\": 30,\n        \"samples\": [\n          0.3333333333333333,\n          5.666666666666667\n        ],\n        \"semantic_type\": \"\",\n        \"description\": \"\"\n      }\n    },\n    {\n      \"column\": \"dist_rolling\",\n      \"properties\": {\n        \"dtype\": \"number\",\n        \"std\": 1.91988338581135,\n        \"min\": 12.266666666666667,\n        \"max\": 26.099999999999994,\n        \"num_unique_values\": 818,\n        \"samples\": [\n          13.933333333333332,\n          14.133333333333335\n        ],\n        \"semantic_type\": \"\",\n        \"description\": \"\"\n      }\n    },\n    {\n      \"column\": \"fk_rolling\",\n      \"properties\": {\n        \"dtype\": \"number\",\n        \"std\": 0.4095514455591922,\n        \"min\": 0.0,\n        \"max\": 2.3333333333333335,\n        \"num_unique_values\": 8,\n        \"samples\": [\n          0.3333333333333333,\n          1.0\n        ],\n        \"semantic_type\": \"\",\n        \"description\": \"\"\n      }\n    },\n    {\n      \"column\": \"pk_rolling\",\n      \"properties\": {\n        \"dtype\": \"number\",\n        \"std\": 0.18766445976661858,\n        \"min\": 0.0,\n        \"max\": 1.6666666666666667,\n        \"num_unique_values\": 5,\n        \"samples\": [\n          0.3333333333333333,\n          1.6666666666666667\n        ],\n        \"semantic_type\": \"\",\n        \"description\": \"\"\n      }\n    },\n    {\n      \"column\": \"pkatt_rolling\",\n      \"properties\": {\n        \"dtype\": \"number\",\n        \"std\": 0.21144966659431869,\n        \"min\": 0.0,\n        \"max\": 1.6666666666666667,\n        \"num_unique_values\": 5,\n        \"samples\": [\n          0.3333333333333333,\n          1.6666666666666667\n        ],\n        \"semantic_type\": \"\",\n        \"description\": \"\"\n      }\n    }\n  ]\n}"
            }
          },
          "metadata": {},
          "execution_count": 82
        }
      ]
    },
    {
      "cell_type": "code",
      "source": [
        "# Initialize the network with the params\n",
        "model = NeuralNetwork(n_input= len(new_predictors), n_hidden=trial.params['n_hidden'])\n",
        "criterion = nn.BCELoss()\n",
        "['Adam', 'RMSprop', 'SGD']\n",
        "if trial.params['optimizer'] == 'RMSprop':\n",
        "  optimizer = optim.RMSprop(model.parameters(), lr=trial.params['lr'])\n",
        "elif trial.params['optimizer'] == 'Adam':\n",
        "  optimizer = optim.Adam(model.parameters(), lr=trial.params['lr'])\n",
        "else:\n",
        "  optimizer = optim.SGD(model.parameters(), lr=trial.params['lr'])"
      ],
      "metadata": {
        "id": "-EC7Ab8JgTtl"
      },
      "execution_count": 83,
      "outputs": []
    },
    {
      "cell_type": "code",
      "source": [
        "optimizer"
      ],
      "metadata": {
        "colab": {
          "base_uri": "https://localhost:8080/"
        },
        "id": "5unrbQBZojxO",
        "outputId": "e28dad3b-a1f1-4abc-fe21-aa1e6b7aa961"
      },
      "execution_count": 84,
      "outputs": [
        {
          "output_type": "execute_result",
          "data": {
            "text/plain": [
              "Adam (\n",
              "Parameter Group 0\n",
              "    amsgrad: False\n",
              "    betas: (0.9, 0.999)\n",
              "    capturable: False\n",
              "    differentiable: False\n",
              "    eps: 1e-08\n",
              "    foreach: None\n",
              "    fused: None\n",
              "    lr: 0.006177441034744258\n",
              "    maximize: False\n",
              "    weight_decay: 0\n",
              ")"
            ]
          },
          "metadata": {},
          "execution_count": 84
        }
      ]
    },
    {
      "cell_type": "code",
      "source": [
        "train_loader_rolling, test_loader_rolling = prepare_data_loaders(X_train_rolling, y_train_rolling, X_test_rolling, y_test_rolling, trial.params['batch_size'])"
      ],
      "metadata": {
        "id": "k8wzmVnlhEfV"
      },
      "execution_count": 85,
      "outputs": []
    },
    {
      "cell_type": "code",
      "source": [
        "train_model(model, train_loader_rolling, criterion, optimizer)\n",
        "accuracy_rolling, precision_rolling, recall_rolling, f1_score_rolling = evaluate_model(model, test_loader_rolling)\n",
        "print(f\" Accuracy_rolling: {accuracy_rolling}\\n Precision_rolling: {precision_rolling}\\n Recall_rolling: {recall_rolling}\\n F1 Score_rolling: {f1_score_rolling}\")"
      ],
      "metadata": {
        "colab": {
          "base_uri": "https://localhost:8080/"
        },
        "id": "JucDk5sYhWhg",
        "outputId": "431baf0f-ca90-4a36-daf3-ab4b0072a647"
      },
      "execution_count": 86,
      "outputs": [
        {
          "output_type": "stream",
          "name": "stdout",
          "text": [
            " Accuracy_rolling: 0.6445415019989014\n",
            " Precision_rolling: 0.568965494632721\n",
            " Recall_rolling: 0.3691275119781494\n",
            " F1 Score_rolling: 0.447761207818985\n"
          ]
        }
      ]
    },
    {
      "cell_type": "markdown",
      "source": [
        "# Comparing Results"
      ],
      "metadata": {
        "id": "zFbVMHbOnGBJ"
      }
    },
    {
      "cell_type": "code",
      "source": [
        "metrics = {\n",
        "    'Accuracy': accuracy.item(),\n",
        "    'F1 Score': f1_score.item(),\n",
        "    'Recall': recall.item(),\n",
        "    'Precision': precision.item()\n",
        "}\n",
        "\n",
        "metrics_rolling = {\n",
        "    'Accuracy': accuracy_rolling.item(),\n",
        "    'F1 Score': f1_score_rolling.item(),\n",
        "    'Recall': recall_rolling.item(),\n",
        "    'Precision': precision_rolling.item()\n",
        "}"
      ],
      "metadata": {
        "id": "SB96Qj52m8BU"
      },
      "execution_count": 87,
      "outputs": []
    },
    {
      "cell_type": "code",
      "source": [
        "df_metrics = pd.DataFrame({\n",
        "    'Metrics without Rolling Averages': metrics,\n",
        "    'Metrics with Rolling Averages': metrics_rolling\n",
        "})\n",
        "df_metrics"
      ],
      "metadata": {
        "colab": {
          "base_uri": "https://localhost:8080/",
          "height": 175
        },
        "id": "TQyg_OI4oNh6",
        "outputId": "3ba0d16d-8dda-46aa-f778-2fbbd04d5788"
      },
      "execution_count": 88,
      "outputs": [
        {
          "output_type": "execute_result",
          "data": {
            "text/plain": [
              "           Metrics without Rolling Averages  Metrics with Rolling Averages\n",
              "Accuracy                           0.623693                       0.644542\n",
              "F1 Score                           0.247387                       0.447761\n",
              "Recall                             0.158482                       0.369128\n",
              "Precision                          0.563492                       0.568965"
            ],
            "text/html": [
              "\n",
              "  <div id=\"df-22c65449-c4ad-483d-8ff4-1138d4820a60\" class=\"colab-df-container\">\n",
              "    <div>\n",
              "<style scoped>\n",
              "    .dataframe tbody tr th:only-of-type {\n",
              "        vertical-align: middle;\n",
              "    }\n",
              "\n",
              "    .dataframe tbody tr th {\n",
              "        vertical-align: top;\n",
              "    }\n",
              "\n",
              "    .dataframe thead th {\n",
              "        text-align: right;\n",
              "    }\n",
              "</style>\n",
              "<table border=\"1\" class=\"dataframe\">\n",
              "  <thead>\n",
              "    <tr style=\"text-align: right;\">\n",
              "      <th></th>\n",
              "      <th>Metrics without Rolling Averages</th>\n",
              "      <th>Metrics with Rolling Averages</th>\n",
              "    </tr>\n",
              "  </thead>\n",
              "  <tbody>\n",
              "    <tr>\n",
              "      <th>Accuracy</th>\n",
              "      <td>0.623693</td>\n",
              "      <td>0.644542</td>\n",
              "    </tr>\n",
              "    <tr>\n",
              "      <th>F1 Score</th>\n",
              "      <td>0.247387</td>\n",
              "      <td>0.447761</td>\n",
              "    </tr>\n",
              "    <tr>\n",
              "      <th>Recall</th>\n",
              "      <td>0.158482</td>\n",
              "      <td>0.369128</td>\n",
              "    </tr>\n",
              "    <tr>\n",
              "      <th>Precision</th>\n",
              "      <td>0.563492</td>\n",
              "      <td>0.568965</td>\n",
              "    </tr>\n",
              "  </tbody>\n",
              "</table>\n",
              "</div>\n",
              "    <div class=\"colab-df-buttons\">\n",
              "\n",
              "  <div class=\"colab-df-container\">\n",
              "    <button class=\"colab-df-convert\" onclick=\"convertToInteractive('df-22c65449-c4ad-483d-8ff4-1138d4820a60')\"\n",
              "            title=\"Convert this dataframe to an interactive table.\"\n",
              "            style=\"display:none;\">\n",
              "\n",
              "  <svg xmlns=\"http://www.w3.org/2000/svg\" height=\"24px\" viewBox=\"0 -960 960 960\">\n",
              "    <path d=\"M120-120v-720h720v720H120Zm60-500h600v-160H180v160Zm220 220h160v-160H400v160Zm0 220h160v-160H400v160ZM180-400h160v-160H180v160Zm440 0h160v-160H620v160ZM180-180h160v-160H180v160Zm440 0h160v-160H620v160Z\"/>\n",
              "  </svg>\n",
              "    </button>\n",
              "\n",
              "  <style>\n",
              "    .colab-df-container {\n",
              "      display:flex;\n",
              "      gap: 12px;\n",
              "    }\n",
              "\n",
              "    .colab-df-convert {\n",
              "      background-color: #E8F0FE;\n",
              "      border: none;\n",
              "      border-radius: 50%;\n",
              "      cursor: pointer;\n",
              "      display: none;\n",
              "      fill: #1967D2;\n",
              "      height: 32px;\n",
              "      padding: 0 0 0 0;\n",
              "      width: 32px;\n",
              "    }\n",
              "\n",
              "    .colab-df-convert:hover {\n",
              "      background-color: #E2EBFA;\n",
              "      box-shadow: 0px 1px 2px rgba(60, 64, 67, 0.3), 0px 1px 3px 1px rgba(60, 64, 67, 0.15);\n",
              "      fill: #174EA6;\n",
              "    }\n",
              "\n",
              "    .colab-df-buttons div {\n",
              "      margin-bottom: 4px;\n",
              "    }\n",
              "\n",
              "    [theme=dark] .colab-df-convert {\n",
              "      background-color: #3B4455;\n",
              "      fill: #D2E3FC;\n",
              "    }\n",
              "\n",
              "    [theme=dark] .colab-df-convert:hover {\n",
              "      background-color: #434B5C;\n",
              "      box-shadow: 0px 1px 3px 1px rgba(0, 0, 0, 0.15);\n",
              "      filter: drop-shadow(0px 1px 2px rgba(0, 0, 0, 0.3));\n",
              "      fill: #FFFFFF;\n",
              "    }\n",
              "  </style>\n",
              "\n",
              "    <script>\n",
              "      const buttonEl =\n",
              "        document.querySelector('#df-22c65449-c4ad-483d-8ff4-1138d4820a60 button.colab-df-convert');\n",
              "      buttonEl.style.display =\n",
              "        google.colab.kernel.accessAllowed ? 'block' : 'none';\n",
              "\n",
              "      async function convertToInteractive(key) {\n",
              "        const element = document.querySelector('#df-22c65449-c4ad-483d-8ff4-1138d4820a60');\n",
              "        const dataTable =\n",
              "          await google.colab.kernel.invokeFunction('convertToInteractive',\n",
              "                                                    [key], {});\n",
              "        if (!dataTable) return;\n",
              "\n",
              "        const docLinkHtml = 'Like what you see? Visit the ' +\n",
              "          '<a target=\"_blank\" href=https://colab.research.google.com/notebooks/data_table.ipynb>data table notebook</a>'\n",
              "          + ' to learn more about interactive tables.';\n",
              "        element.innerHTML = '';\n",
              "        dataTable['output_type'] = 'display_data';\n",
              "        await google.colab.output.renderOutput(dataTable, element);\n",
              "        const docLink = document.createElement('div');\n",
              "        docLink.innerHTML = docLinkHtml;\n",
              "        element.appendChild(docLink);\n",
              "      }\n",
              "    </script>\n",
              "  </div>\n",
              "\n",
              "\n",
              "<div id=\"df-e26197a1-1d37-4857-9c07-82bf47bd50a6\">\n",
              "  <button class=\"colab-df-quickchart\" onclick=\"quickchart('df-e26197a1-1d37-4857-9c07-82bf47bd50a6')\"\n",
              "            title=\"Suggest charts\"\n",
              "            style=\"display:none;\">\n",
              "\n",
              "<svg xmlns=\"http://www.w3.org/2000/svg\" height=\"24px\"viewBox=\"0 0 24 24\"\n",
              "     width=\"24px\">\n",
              "    <g>\n",
              "        <path d=\"M19 3H5c-1.1 0-2 .9-2 2v14c0 1.1.9 2 2 2h14c1.1 0 2-.9 2-2V5c0-1.1-.9-2-2-2zM9 17H7v-7h2v7zm4 0h-2V7h2v10zm4 0h-2v-4h2v4z\"/>\n",
              "    </g>\n",
              "</svg>\n",
              "  </button>\n",
              "\n",
              "<style>\n",
              "  .colab-df-quickchart {\n",
              "      --bg-color: #E8F0FE;\n",
              "      --fill-color: #1967D2;\n",
              "      --hover-bg-color: #E2EBFA;\n",
              "      --hover-fill-color: #174EA6;\n",
              "      --disabled-fill-color: #AAA;\n",
              "      --disabled-bg-color: #DDD;\n",
              "  }\n",
              "\n",
              "  [theme=dark] .colab-df-quickchart {\n",
              "      --bg-color: #3B4455;\n",
              "      --fill-color: #D2E3FC;\n",
              "      --hover-bg-color: #434B5C;\n",
              "      --hover-fill-color: #FFFFFF;\n",
              "      --disabled-bg-color: #3B4455;\n",
              "      --disabled-fill-color: #666;\n",
              "  }\n",
              "\n",
              "  .colab-df-quickchart {\n",
              "    background-color: var(--bg-color);\n",
              "    border: none;\n",
              "    border-radius: 50%;\n",
              "    cursor: pointer;\n",
              "    display: none;\n",
              "    fill: var(--fill-color);\n",
              "    height: 32px;\n",
              "    padding: 0;\n",
              "    width: 32px;\n",
              "  }\n",
              "\n",
              "  .colab-df-quickchart:hover {\n",
              "    background-color: var(--hover-bg-color);\n",
              "    box-shadow: 0 1px 2px rgba(60, 64, 67, 0.3), 0 1px 3px 1px rgba(60, 64, 67, 0.15);\n",
              "    fill: var(--button-hover-fill-color);\n",
              "  }\n",
              "\n",
              "  .colab-df-quickchart-complete:disabled,\n",
              "  .colab-df-quickchart-complete:disabled:hover {\n",
              "    background-color: var(--disabled-bg-color);\n",
              "    fill: var(--disabled-fill-color);\n",
              "    box-shadow: none;\n",
              "  }\n",
              "\n",
              "  .colab-df-spinner {\n",
              "    border: 2px solid var(--fill-color);\n",
              "    border-color: transparent;\n",
              "    border-bottom-color: var(--fill-color);\n",
              "    animation:\n",
              "      spin 1s steps(1) infinite;\n",
              "  }\n",
              "\n",
              "  @keyframes spin {\n",
              "    0% {\n",
              "      border-color: transparent;\n",
              "      border-bottom-color: var(--fill-color);\n",
              "      border-left-color: var(--fill-color);\n",
              "    }\n",
              "    20% {\n",
              "      border-color: transparent;\n",
              "      border-left-color: var(--fill-color);\n",
              "      border-top-color: var(--fill-color);\n",
              "    }\n",
              "    30% {\n",
              "      border-color: transparent;\n",
              "      border-left-color: var(--fill-color);\n",
              "      border-top-color: var(--fill-color);\n",
              "      border-right-color: var(--fill-color);\n",
              "    }\n",
              "    40% {\n",
              "      border-color: transparent;\n",
              "      border-right-color: var(--fill-color);\n",
              "      border-top-color: var(--fill-color);\n",
              "    }\n",
              "    60% {\n",
              "      border-color: transparent;\n",
              "      border-right-color: var(--fill-color);\n",
              "    }\n",
              "    80% {\n",
              "      border-color: transparent;\n",
              "      border-right-color: var(--fill-color);\n",
              "      border-bottom-color: var(--fill-color);\n",
              "    }\n",
              "    90% {\n",
              "      border-color: transparent;\n",
              "      border-bottom-color: var(--fill-color);\n",
              "    }\n",
              "  }\n",
              "</style>\n",
              "\n",
              "  <script>\n",
              "    async function quickchart(key) {\n",
              "      const quickchartButtonEl =\n",
              "        document.querySelector('#' + key + ' button');\n",
              "      quickchartButtonEl.disabled = true;  // To prevent multiple clicks.\n",
              "      quickchartButtonEl.classList.add('colab-df-spinner');\n",
              "      try {\n",
              "        const charts = await google.colab.kernel.invokeFunction(\n",
              "            'suggestCharts', [key], {});\n",
              "      } catch (error) {\n",
              "        console.error('Error during call to suggestCharts:', error);\n",
              "      }\n",
              "      quickchartButtonEl.classList.remove('colab-df-spinner');\n",
              "      quickchartButtonEl.classList.add('colab-df-quickchart-complete');\n",
              "    }\n",
              "    (() => {\n",
              "      let quickchartButtonEl =\n",
              "        document.querySelector('#df-e26197a1-1d37-4857-9c07-82bf47bd50a6 button');\n",
              "      quickchartButtonEl.style.display =\n",
              "        google.colab.kernel.accessAllowed ? 'block' : 'none';\n",
              "    })();\n",
              "  </script>\n",
              "</div>\n",
              "\n",
              "  <div id=\"id_3bed8a17-748f-4791-b7df-0e35cfc24600\">\n",
              "    <style>\n",
              "      .colab-df-generate {\n",
              "        background-color: #E8F0FE;\n",
              "        border: none;\n",
              "        border-radius: 50%;\n",
              "        cursor: pointer;\n",
              "        display: none;\n",
              "        fill: #1967D2;\n",
              "        height: 32px;\n",
              "        padding: 0 0 0 0;\n",
              "        width: 32px;\n",
              "      }\n",
              "\n",
              "      .colab-df-generate:hover {\n",
              "        background-color: #E2EBFA;\n",
              "        box-shadow: 0px 1px 2px rgba(60, 64, 67, 0.3), 0px 1px 3px 1px rgba(60, 64, 67, 0.15);\n",
              "        fill: #174EA6;\n",
              "      }\n",
              "\n",
              "      [theme=dark] .colab-df-generate {\n",
              "        background-color: #3B4455;\n",
              "        fill: #D2E3FC;\n",
              "      }\n",
              "\n",
              "      [theme=dark] .colab-df-generate:hover {\n",
              "        background-color: #434B5C;\n",
              "        box-shadow: 0px 1px 3px 1px rgba(0, 0, 0, 0.15);\n",
              "        filter: drop-shadow(0px 1px 2px rgba(0, 0, 0, 0.3));\n",
              "        fill: #FFFFFF;\n",
              "      }\n",
              "    </style>\n",
              "    <button class=\"colab-df-generate\" onclick=\"generateWithVariable('df_metrics')\"\n",
              "            title=\"Generate code using this dataframe.\"\n",
              "            style=\"display:none;\">\n",
              "\n",
              "  <svg xmlns=\"http://www.w3.org/2000/svg\" height=\"24px\"viewBox=\"0 0 24 24\"\n",
              "       width=\"24px\">\n",
              "    <path d=\"M7,19H8.4L18.45,9,17,7.55,7,17.6ZM5,21V16.75L18.45,3.32a2,2,0,0,1,2.83,0l1.4,1.43a1.91,1.91,0,0,1,.58,1.4,1.91,1.91,0,0,1-.58,1.4L9.25,21ZM18.45,9,17,7.55Zm-12,3A5.31,5.31,0,0,0,4.9,8.1,5.31,5.31,0,0,0,1,6.5,5.31,5.31,0,0,0,4.9,4.9,5.31,5.31,0,0,0,6.5,1,5.31,5.31,0,0,0,8.1,4.9,5.31,5.31,0,0,0,12,6.5,5.46,5.46,0,0,0,6.5,12Z\"/>\n",
              "  </svg>\n",
              "    </button>\n",
              "    <script>\n",
              "      (() => {\n",
              "      const buttonEl =\n",
              "        document.querySelector('#id_3bed8a17-748f-4791-b7df-0e35cfc24600 button.colab-df-generate');\n",
              "      buttonEl.style.display =\n",
              "        google.colab.kernel.accessAllowed ? 'block' : 'none';\n",
              "\n",
              "      buttonEl.onclick = () => {\n",
              "        google.colab.notebook.generateWithVariable('df_metrics');\n",
              "      }\n",
              "      })();\n",
              "    </script>\n",
              "  </div>\n",
              "\n",
              "    </div>\n",
              "  </div>\n"
            ],
            "application/vnd.google.colaboratory.intrinsic+json": {
              "type": "dataframe",
              "variable_name": "df_metrics",
              "summary": "{\n  \"name\": \"df_metrics\",\n  \"rows\": 4,\n  \"fields\": [\n    {\n      \"column\": \"Metrics without Rolling Averages\",\n      \"properties\": {\n        \"dtype\": \"number\",\n        \"std\": 0.22976655436319948,\n        \"min\": 0.1584821492433548,\n        \"max\": 0.6236934065818787,\n        \"num_unique_values\": 4,\n        \"samples\": [\n          0.24738675355911255,\n          0.5634920597076416,\n          0.6236934065818787\n        ],\n        \"semantic_type\": \"\",\n        \"description\": \"\"\n      }\n    },\n    {\n      \"column\": \"Metrics with Rolling Averages\",\n      \"properties\": {\n        \"dtype\": \"number\",\n        \"std\": 0.12284680145787356,\n        \"min\": 0.3691275119781494,\n        \"max\": 0.6445415019989014,\n        \"num_unique_values\": 4,\n        \"samples\": [\n          0.447761207818985,\n          0.568965494632721,\n          0.6445415019989014\n        ],\n        \"semantic_type\": \"\",\n        \"description\": \"\"\n      }\n    }\n  ]\n}"
            }
          },
          "metadata": {},
          "execution_count": 88
        }
      ]
    },
    {
      "cell_type": "code",
      "source": [
        "df_metrics = df_metrics.T\n",
        "df_metrics"
      ],
      "metadata": {
        "colab": {
          "base_uri": "https://localhost:8080/",
          "height": 125
        },
        "id": "-dPRg4M3oWUe",
        "outputId": "8cbb3c54-f980-4314-c1b9-d44353d6b51b"
      },
      "execution_count": 89,
      "outputs": [
        {
          "output_type": "execute_result",
          "data": {
            "text/plain": [
              "                                  Accuracy  F1 Score    Recall  Precision\n",
              "Metrics without Rolling Averages  0.623693  0.247387  0.158482   0.563492\n",
              "Metrics with Rolling Averages     0.644542  0.447761  0.369128   0.568965"
            ],
            "text/html": [
              "\n",
              "  <div id=\"df-a8711b6e-7046-4945-b3dd-ee074e12acc0\" class=\"colab-df-container\">\n",
              "    <div>\n",
              "<style scoped>\n",
              "    .dataframe tbody tr th:only-of-type {\n",
              "        vertical-align: middle;\n",
              "    }\n",
              "\n",
              "    .dataframe tbody tr th {\n",
              "        vertical-align: top;\n",
              "    }\n",
              "\n",
              "    .dataframe thead th {\n",
              "        text-align: right;\n",
              "    }\n",
              "</style>\n",
              "<table border=\"1\" class=\"dataframe\">\n",
              "  <thead>\n",
              "    <tr style=\"text-align: right;\">\n",
              "      <th></th>\n",
              "      <th>Accuracy</th>\n",
              "      <th>F1 Score</th>\n",
              "      <th>Recall</th>\n",
              "      <th>Precision</th>\n",
              "    </tr>\n",
              "  </thead>\n",
              "  <tbody>\n",
              "    <tr>\n",
              "      <th>Metrics without Rolling Averages</th>\n",
              "      <td>0.623693</td>\n",
              "      <td>0.247387</td>\n",
              "      <td>0.158482</td>\n",
              "      <td>0.563492</td>\n",
              "    </tr>\n",
              "    <tr>\n",
              "      <th>Metrics with Rolling Averages</th>\n",
              "      <td>0.644542</td>\n",
              "      <td>0.447761</td>\n",
              "      <td>0.369128</td>\n",
              "      <td>0.568965</td>\n",
              "    </tr>\n",
              "  </tbody>\n",
              "</table>\n",
              "</div>\n",
              "    <div class=\"colab-df-buttons\">\n",
              "\n",
              "  <div class=\"colab-df-container\">\n",
              "    <button class=\"colab-df-convert\" onclick=\"convertToInteractive('df-a8711b6e-7046-4945-b3dd-ee074e12acc0')\"\n",
              "            title=\"Convert this dataframe to an interactive table.\"\n",
              "            style=\"display:none;\">\n",
              "\n",
              "  <svg xmlns=\"http://www.w3.org/2000/svg\" height=\"24px\" viewBox=\"0 -960 960 960\">\n",
              "    <path d=\"M120-120v-720h720v720H120Zm60-500h600v-160H180v160Zm220 220h160v-160H400v160Zm0 220h160v-160H400v160ZM180-400h160v-160H180v160Zm440 0h160v-160H620v160ZM180-180h160v-160H180v160Zm440 0h160v-160H620v160Z\"/>\n",
              "  </svg>\n",
              "    </button>\n",
              "\n",
              "  <style>\n",
              "    .colab-df-container {\n",
              "      display:flex;\n",
              "      gap: 12px;\n",
              "    }\n",
              "\n",
              "    .colab-df-convert {\n",
              "      background-color: #E8F0FE;\n",
              "      border: none;\n",
              "      border-radius: 50%;\n",
              "      cursor: pointer;\n",
              "      display: none;\n",
              "      fill: #1967D2;\n",
              "      height: 32px;\n",
              "      padding: 0 0 0 0;\n",
              "      width: 32px;\n",
              "    }\n",
              "\n",
              "    .colab-df-convert:hover {\n",
              "      background-color: #E2EBFA;\n",
              "      box-shadow: 0px 1px 2px rgba(60, 64, 67, 0.3), 0px 1px 3px 1px rgba(60, 64, 67, 0.15);\n",
              "      fill: #174EA6;\n",
              "    }\n",
              "\n",
              "    .colab-df-buttons div {\n",
              "      margin-bottom: 4px;\n",
              "    }\n",
              "\n",
              "    [theme=dark] .colab-df-convert {\n",
              "      background-color: #3B4455;\n",
              "      fill: #D2E3FC;\n",
              "    }\n",
              "\n",
              "    [theme=dark] .colab-df-convert:hover {\n",
              "      background-color: #434B5C;\n",
              "      box-shadow: 0px 1px 3px 1px rgba(0, 0, 0, 0.15);\n",
              "      filter: drop-shadow(0px 1px 2px rgba(0, 0, 0, 0.3));\n",
              "      fill: #FFFFFF;\n",
              "    }\n",
              "  </style>\n",
              "\n",
              "    <script>\n",
              "      const buttonEl =\n",
              "        document.querySelector('#df-a8711b6e-7046-4945-b3dd-ee074e12acc0 button.colab-df-convert');\n",
              "      buttonEl.style.display =\n",
              "        google.colab.kernel.accessAllowed ? 'block' : 'none';\n",
              "\n",
              "      async function convertToInteractive(key) {\n",
              "        const element = document.querySelector('#df-a8711b6e-7046-4945-b3dd-ee074e12acc0');\n",
              "        const dataTable =\n",
              "          await google.colab.kernel.invokeFunction('convertToInteractive',\n",
              "                                                    [key], {});\n",
              "        if (!dataTable) return;\n",
              "\n",
              "        const docLinkHtml = 'Like what you see? Visit the ' +\n",
              "          '<a target=\"_blank\" href=https://colab.research.google.com/notebooks/data_table.ipynb>data table notebook</a>'\n",
              "          + ' to learn more about interactive tables.';\n",
              "        element.innerHTML = '';\n",
              "        dataTable['output_type'] = 'display_data';\n",
              "        await google.colab.output.renderOutput(dataTable, element);\n",
              "        const docLink = document.createElement('div');\n",
              "        docLink.innerHTML = docLinkHtml;\n",
              "        element.appendChild(docLink);\n",
              "      }\n",
              "    </script>\n",
              "  </div>\n",
              "\n",
              "\n",
              "<div id=\"df-c513e753-663e-4937-95db-c1a958e74c42\">\n",
              "  <button class=\"colab-df-quickchart\" onclick=\"quickchart('df-c513e753-663e-4937-95db-c1a958e74c42')\"\n",
              "            title=\"Suggest charts\"\n",
              "            style=\"display:none;\">\n",
              "\n",
              "<svg xmlns=\"http://www.w3.org/2000/svg\" height=\"24px\"viewBox=\"0 0 24 24\"\n",
              "     width=\"24px\">\n",
              "    <g>\n",
              "        <path d=\"M19 3H5c-1.1 0-2 .9-2 2v14c0 1.1.9 2 2 2h14c1.1 0 2-.9 2-2V5c0-1.1-.9-2-2-2zM9 17H7v-7h2v7zm4 0h-2V7h2v10zm4 0h-2v-4h2v4z\"/>\n",
              "    </g>\n",
              "</svg>\n",
              "  </button>\n",
              "\n",
              "<style>\n",
              "  .colab-df-quickchart {\n",
              "      --bg-color: #E8F0FE;\n",
              "      --fill-color: #1967D2;\n",
              "      --hover-bg-color: #E2EBFA;\n",
              "      --hover-fill-color: #174EA6;\n",
              "      --disabled-fill-color: #AAA;\n",
              "      --disabled-bg-color: #DDD;\n",
              "  }\n",
              "\n",
              "  [theme=dark] .colab-df-quickchart {\n",
              "      --bg-color: #3B4455;\n",
              "      --fill-color: #D2E3FC;\n",
              "      --hover-bg-color: #434B5C;\n",
              "      --hover-fill-color: #FFFFFF;\n",
              "      --disabled-bg-color: #3B4455;\n",
              "      --disabled-fill-color: #666;\n",
              "  }\n",
              "\n",
              "  .colab-df-quickchart {\n",
              "    background-color: var(--bg-color);\n",
              "    border: none;\n",
              "    border-radius: 50%;\n",
              "    cursor: pointer;\n",
              "    display: none;\n",
              "    fill: var(--fill-color);\n",
              "    height: 32px;\n",
              "    padding: 0;\n",
              "    width: 32px;\n",
              "  }\n",
              "\n",
              "  .colab-df-quickchart:hover {\n",
              "    background-color: var(--hover-bg-color);\n",
              "    box-shadow: 0 1px 2px rgba(60, 64, 67, 0.3), 0 1px 3px 1px rgba(60, 64, 67, 0.15);\n",
              "    fill: var(--button-hover-fill-color);\n",
              "  }\n",
              "\n",
              "  .colab-df-quickchart-complete:disabled,\n",
              "  .colab-df-quickchart-complete:disabled:hover {\n",
              "    background-color: var(--disabled-bg-color);\n",
              "    fill: var(--disabled-fill-color);\n",
              "    box-shadow: none;\n",
              "  }\n",
              "\n",
              "  .colab-df-spinner {\n",
              "    border: 2px solid var(--fill-color);\n",
              "    border-color: transparent;\n",
              "    border-bottom-color: var(--fill-color);\n",
              "    animation:\n",
              "      spin 1s steps(1) infinite;\n",
              "  }\n",
              "\n",
              "  @keyframes spin {\n",
              "    0% {\n",
              "      border-color: transparent;\n",
              "      border-bottom-color: var(--fill-color);\n",
              "      border-left-color: var(--fill-color);\n",
              "    }\n",
              "    20% {\n",
              "      border-color: transparent;\n",
              "      border-left-color: var(--fill-color);\n",
              "      border-top-color: var(--fill-color);\n",
              "    }\n",
              "    30% {\n",
              "      border-color: transparent;\n",
              "      border-left-color: var(--fill-color);\n",
              "      border-top-color: var(--fill-color);\n",
              "      border-right-color: var(--fill-color);\n",
              "    }\n",
              "    40% {\n",
              "      border-color: transparent;\n",
              "      border-right-color: var(--fill-color);\n",
              "      border-top-color: var(--fill-color);\n",
              "    }\n",
              "    60% {\n",
              "      border-color: transparent;\n",
              "      border-right-color: var(--fill-color);\n",
              "    }\n",
              "    80% {\n",
              "      border-color: transparent;\n",
              "      border-right-color: var(--fill-color);\n",
              "      border-bottom-color: var(--fill-color);\n",
              "    }\n",
              "    90% {\n",
              "      border-color: transparent;\n",
              "      border-bottom-color: var(--fill-color);\n",
              "    }\n",
              "  }\n",
              "</style>\n",
              "\n",
              "  <script>\n",
              "    async function quickchart(key) {\n",
              "      const quickchartButtonEl =\n",
              "        document.querySelector('#' + key + ' button');\n",
              "      quickchartButtonEl.disabled = true;  // To prevent multiple clicks.\n",
              "      quickchartButtonEl.classList.add('colab-df-spinner');\n",
              "      try {\n",
              "        const charts = await google.colab.kernel.invokeFunction(\n",
              "            'suggestCharts', [key], {});\n",
              "      } catch (error) {\n",
              "        console.error('Error during call to suggestCharts:', error);\n",
              "      }\n",
              "      quickchartButtonEl.classList.remove('colab-df-spinner');\n",
              "      quickchartButtonEl.classList.add('colab-df-quickchart-complete');\n",
              "    }\n",
              "    (() => {\n",
              "      let quickchartButtonEl =\n",
              "        document.querySelector('#df-c513e753-663e-4937-95db-c1a958e74c42 button');\n",
              "      quickchartButtonEl.style.display =\n",
              "        google.colab.kernel.accessAllowed ? 'block' : 'none';\n",
              "    })();\n",
              "  </script>\n",
              "</div>\n",
              "\n",
              "  <div id=\"id_c89f4839-f1fc-48de-91b5-4670492fbfd3\">\n",
              "    <style>\n",
              "      .colab-df-generate {\n",
              "        background-color: #E8F0FE;\n",
              "        border: none;\n",
              "        border-radius: 50%;\n",
              "        cursor: pointer;\n",
              "        display: none;\n",
              "        fill: #1967D2;\n",
              "        height: 32px;\n",
              "        padding: 0 0 0 0;\n",
              "        width: 32px;\n",
              "      }\n",
              "\n",
              "      .colab-df-generate:hover {\n",
              "        background-color: #E2EBFA;\n",
              "        box-shadow: 0px 1px 2px rgba(60, 64, 67, 0.3), 0px 1px 3px 1px rgba(60, 64, 67, 0.15);\n",
              "        fill: #174EA6;\n",
              "      }\n",
              "\n",
              "      [theme=dark] .colab-df-generate {\n",
              "        background-color: #3B4455;\n",
              "        fill: #D2E3FC;\n",
              "      }\n",
              "\n",
              "      [theme=dark] .colab-df-generate:hover {\n",
              "        background-color: #434B5C;\n",
              "        box-shadow: 0px 1px 3px 1px rgba(0, 0, 0, 0.15);\n",
              "        filter: drop-shadow(0px 1px 2px rgba(0, 0, 0, 0.3));\n",
              "        fill: #FFFFFF;\n",
              "      }\n",
              "    </style>\n",
              "    <button class=\"colab-df-generate\" onclick=\"generateWithVariable('df_metrics')\"\n",
              "            title=\"Generate code using this dataframe.\"\n",
              "            style=\"display:none;\">\n",
              "\n",
              "  <svg xmlns=\"http://www.w3.org/2000/svg\" height=\"24px\"viewBox=\"0 0 24 24\"\n",
              "       width=\"24px\">\n",
              "    <path d=\"M7,19H8.4L18.45,9,17,7.55,7,17.6ZM5,21V16.75L18.45,3.32a2,2,0,0,1,2.83,0l1.4,1.43a1.91,1.91,0,0,1,.58,1.4,1.91,1.91,0,0,1-.58,1.4L9.25,21ZM18.45,9,17,7.55Zm-12,3A5.31,5.31,0,0,0,4.9,8.1,5.31,5.31,0,0,0,1,6.5,5.31,5.31,0,0,0,4.9,4.9,5.31,5.31,0,0,0,6.5,1,5.31,5.31,0,0,0,8.1,4.9,5.31,5.31,0,0,0,12,6.5,5.46,5.46,0,0,0,6.5,12Z\"/>\n",
              "  </svg>\n",
              "    </button>\n",
              "    <script>\n",
              "      (() => {\n",
              "      const buttonEl =\n",
              "        document.querySelector('#id_c89f4839-f1fc-48de-91b5-4670492fbfd3 button.colab-df-generate');\n",
              "      buttonEl.style.display =\n",
              "        google.colab.kernel.accessAllowed ? 'block' : 'none';\n",
              "\n",
              "      buttonEl.onclick = () => {\n",
              "        google.colab.notebook.generateWithVariable('df_metrics');\n",
              "      }\n",
              "      })();\n",
              "    </script>\n",
              "  </div>\n",
              "\n",
              "    </div>\n",
              "  </div>\n"
            ],
            "application/vnd.google.colaboratory.intrinsic+json": {
              "type": "dataframe",
              "variable_name": "df_metrics",
              "summary": "{\n  \"name\": \"df_metrics\",\n  \"rows\": 2,\n  \"fields\": [\n    {\n      \"column\": \"Accuracy\",\n      \"properties\": {\n        \"dtype\": \"number\",\n        \"std\": 0.014741829644200939,\n        \"min\": 0.6236934065818787,\n        \"max\": 0.6445415019989014,\n        \"num_unique_values\": 2,\n        \"samples\": [\n          0.6445415019989014,\n          0.6236934065818787\n        ],\n        \"semantic_type\": \"\",\n        \"description\": \"\"\n      }\n    },\n    {\n      \"column\": \"F1 Score\",\n      \"properties\": {\n        \"dtype\": \"number\",\n        \"std\": 0.1416861353837095,\n        \"min\": 0.24738675355911255,\n        \"max\": 0.447761207818985,\n        \"num_unique_values\": 2,\n        \"samples\": [\n          0.447761207818985,\n          0.24738675355911255\n        ],\n        \"semantic_type\": \"\",\n        \"description\": \"\"\n      }\n    },\n    {\n      \"column\": \"Recall\",\n      \"properties\": {\n        \"dtype\": \"number\",\n        \"std\": 0.14894876441527335,\n        \"min\": 0.1584821492433548,\n        \"max\": 0.3691275119781494,\n        \"num_unique_values\": 2,\n        \"samples\": [\n          0.3691275119781494,\n          0.1584821492433548\n        ],\n        \"semantic_type\": \"\",\n        \"description\": \"\"\n      }\n    },\n    {\n      \"column\": \"Precision\",\n      \"properties\": {\n        \"dtype\": \"number\",\n        \"std\": 0.003870302951906888,\n        \"min\": 0.5634920597076416,\n        \"max\": 0.568965494632721,\n        \"num_unique_values\": 2,\n        \"samples\": [\n          0.568965494632721,\n          0.5634920597076416\n        ],\n        \"semantic_type\": \"\",\n        \"description\": \"\"\n      }\n    }\n  ]\n}"
            }
          },
          "metadata": {},
          "execution_count": 89
        }
      ]
    },
    {
      "cell_type": "code",
      "source": [
        "df_metrics.round(2)\n",
        "df_metrics"
      ],
      "metadata": {
        "colab": {
          "base_uri": "https://localhost:8080/",
          "height": 125
        },
        "id": "N8pIwfTJodix",
        "outputId": "8e42a700-a2e9-4682-ae6b-7b43ee125ff2"
      },
      "execution_count": 90,
      "outputs": [
        {
          "output_type": "execute_result",
          "data": {
            "text/plain": [
              "                                  Accuracy  F1 Score    Recall  Precision\n",
              "Metrics without Rolling Averages  0.623693  0.247387  0.158482   0.563492\n",
              "Metrics with Rolling Averages     0.644542  0.447761  0.369128   0.568965"
            ],
            "text/html": [
              "\n",
              "  <div id=\"df-e7fa9fcf-b7d2-43b6-a2c5-7cde99e8f3da\" class=\"colab-df-container\">\n",
              "    <div>\n",
              "<style scoped>\n",
              "    .dataframe tbody tr th:only-of-type {\n",
              "        vertical-align: middle;\n",
              "    }\n",
              "\n",
              "    .dataframe tbody tr th {\n",
              "        vertical-align: top;\n",
              "    }\n",
              "\n",
              "    .dataframe thead th {\n",
              "        text-align: right;\n",
              "    }\n",
              "</style>\n",
              "<table border=\"1\" class=\"dataframe\">\n",
              "  <thead>\n",
              "    <tr style=\"text-align: right;\">\n",
              "      <th></th>\n",
              "      <th>Accuracy</th>\n",
              "      <th>F1 Score</th>\n",
              "      <th>Recall</th>\n",
              "      <th>Precision</th>\n",
              "    </tr>\n",
              "  </thead>\n",
              "  <tbody>\n",
              "    <tr>\n",
              "      <th>Metrics without Rolling Averages</th>\n",
              "      <td>0.623693</td>\n",
              "      <td>0.247387</td>\n",
              "      <td>0.158482</td>\n",
              "      <td>0.563492</td>\n",
              "    </tr>\n",
              "    <tr>\n",
              "      <th>Metrics with Rolling Averages</th>\n",
              "      <td>0.644542</td>\n",
              "      <td>0.447761</td>\n",
              "      <td>0.369128</td>\n",
              "      <td>0.568965</td>\n",
              "    </tr>\n",
              "  </tbody>\n",
              "</table>\n",
              "</div>\n",
              "    <div class=\"colab-df-buttons\">\n",
              "\n",
              "  <div class=\"colab-df-container\">\n",
              "    <button class=\"colab-df-convert\" onclick=\"convertToInteractive('df-e7fa9fcf-b7d2-43b6-a2c5-7cde99e8f3da')\"\n",
              "            title=\"Convert this dataframe to an interactive table.\"\n",
              "            style=\"display:none;\">\n",
              "\n",
              "  <svg xmlns=\"http://www.w3.org/2000/svg\" height=\"24px\" viewBox=\"0 -960 960 960\">\n",
              "    <path d=\"M120-120v-720h720v720H120Zm60-500h600v-160H180v160Zm220 220h160v-160H400v160Zm0 220h160v-160H400v160ZM180-400h160v-160H180v160Zm440 0h160v-160H620v160ZM180-180h160v-160H180v160Zm440 0h160v-160H620v160Z\"/>\n",
              "  </svg>\n",
              "    </button>\n",
              "\n",
              "  <style>\n",
              "    .colab-df-container {\n",
              "      display:flex;\n",
              "      gap: 12px;\n",
              "    }\n",
              "\n",
              "    .colab-df-convert {\n",
              "      background-color: #E8F0FE;\n",
              "      border: none;\n",
              "      border-radius: 50%;\n",
              "      cursor: pointer;\n",
              "      display: none;\n",
              "      fill: #1967D2;\n",
              "      height: 32px;\n",
              "      padding: 0 0 0 0;\n",
              "      width: 32px;\n",
              "    }\n",
              "\n",
              "    .colab-df-convert:hover {\n",
              "      background-color: #E2EBFA;\n",
              "      box-shadow: 0px 1px 2px rgba(60, 64, 67, 0.3), 0px 1px 3px 1px rgba(60, 64, 67, 0.15);\n",
              "      fill: #174EA6;\n",
              "    }\n",
              "\n",
              "    .colab-df-buttons div {\n",
              "      margin-bottom: 4px;\n",
              "    }\n",
              "\n",
              "    [theme=dark] .colab-df-convert {\n",
              "      background-color: #3B4455;\n",
              "      fill: #D2E3FC;\n",
              "    }\n",
              "\n",
              "    [theme=dark] .colab-df-convert:hover {\n",
              "      background-color: #434B5C;\n",
              "      box-shadow: 0px 1px 3px 1px rgba(0, 0, 0, 0.15);\n",
              "      filter: drop-shadow(0px 1px 2px rgba(0, 0, 0, 0.3));\n",
              "      fill: #FFFFFF;\n",
              "    }\n",
              "  </style>\n",
              "\n",
              "    <script>\n",
              "      const buttonEl =\n",
              "        document.querySelector('#df-e7fa9fcf-b7d2-43b6-a2c5-7cde99e8f3da button.colab-df-convert');\n",
              "      buttonEl.style.display =\n",
              "        google.colab.kernel.accessAllowed ? 'block' : 'none';\n",
              "\n",
              "      async function convertToInteractive(key) {\n",
              "        const element = document.querySelector('#df-e7fa9fcf-b7d2-43b6-a2c5-7cde99e8f3da');\n",
              "        const dataTable =\n",
              "          await google.colab.kernel.invokeFunction('convertToInteractive',\n",
              "                                                    [key], {});\n",
              "        if (!dataTable) return;\n",
              "\n",
              "        const docLinkHtml = 'Like what you see? Visit the ' +\n",
              "          '<a target=\"_blank\" href=https://colab.research.google.com/notebooks/data_table.ipynb>data table notebook</a>'\n",
              "          + ' to learn more about interactive tables.';\n",
              "        element.innerHTML = '';\n",
              "        dataTable['output_type'] = 'display_data';\n",
              "        await google.colab.output.renderOutput(dataTable, element);\n",
              "        const docLink = document.createElement('div');\n",
              "        docLink.innerHTML = docLinkHtml;\n",
              "        element.appendChild(docLink);\n",
              "      }\n",
              "    </script>\n",
              "  </div>\n",
              "\n",
              "\n",
              "<div id=\"df-55e3271f-79bd-4e0e-99e2-253fac06ba7e\">\n",
              "  <button class=\"colab-df-quickchart\" onclick=\"quickchart('df-55e3271f-79bd-4e0e-99e2-253fac06ba7e')\"\n",
              "            title=\"Suggest charts\"\n",
              "            style=\"display:none;\">\n",
              "\n",
              "<svg xmlns=\"http://www.w3.org/2000/svg\" height=\"24px\"viewBox=\"0 0 24 24\"\n",
              "     width=\"24px\">\n",
              "    <g>\n",
              "        <path d=\"M19 3H5c-1.1 0-2 .9-2 2v14c0 1.1.9 2 2 2h14c1.1 0 2-.9 2-2V5c0-1.1-.9-2-2-2zM9 17H7v-7h2v7zm4 0h-2V7h2v10zm4 0h-2v-4h2v4z\"/>\n",
              "    </g>\n",
              "</svg>\n",
              "  </button>\n",
              "\n",
              "<style>\n",
              "  .colab-df-quickchart {\n",
              "      --bg-color: #E8F0FE;\n",
              "      --fill-color: #1967D2;\n",
              "      --hover-bg-color: #E2EBFA;\n",
              "      --hover-fill-color: #174EA6;\n",
              "      --disabled-fill-color: #AAA;\n",
              "      --disabled-bg-color: #DDD;\n",
              "  }\n",
              "\n",
              "  [theme=dark] .colab-df-quickchart {\n",
              "      --bg-color: #3B4455;\n",
              "      --fill-color: #D2E3FC;\n",
              "      --hover-bg-color: #434B5C;\n",
              "      --hover-fill-color: #FFFFFF;\n",
              "      --disabled-bg-color: #3B4455;\n",
              "      --disabled-fill-color: #666;\n",
              "  }\n",
              "\n",
              "  .colab-df-quickchart {\n",
              "    background-color: var(--bg-color);\n",
              "    border: none;\n",
              "    border-radius: 50%;\n",
              "    cursor: pointer;\n",
              "    display: none;\n",
              "    fill: var(--fill-color);\n",
              "    height: 32px;\n",
              "    padding: 0;\n",
              "    width: 32px;\n",
              "  }\n",
              "\n",
              "  .colab-df-quickchart:hover {\n",
              "    background-color: var(--hover-bg-color);\n",
              "    box-shadow: 0 1px 2px rgba(60, 64, 67, 0.3), 0 1px 3px 1px rgba(60, 64, 67, 0.15);\n",
              "    fill: var(--button-hover-fill-color);\n",
              "  }\n",
              "\n",
              "  .colab-df-quickchart-complete:disabled,\n",
              "  .colab-df-quickchart-complete:disabled:hover {\n",
              "    background-color: var(--disabled-bg-color);\n",
              "    fill: var(--disabled-fill-color);\n",
              "    box-shadow: none;\n",
              "  }\n",
              "\n",
              "  .colab-df-spinner {\n",
              "    border: 2px solid var(--fill-color);\n",
              "    border-color: transparent;\n",
              "    border-bottom-color: var(--fill-color);\n",
              "    animation:\n",
              "      spin 1s steps(1) infinite;\n",
              "  }\n",
              "\n",
              "  @keyframes spin {\n",
              "    0% {\n",
              "      border-color: transparent;\n",
              "      border-bottom-color: var(--fill-color);\n",
              "      border-left-color: var(--fill-color);\n",
              "    }\n",
              "    20% {\n",
              "      border-color: transparent;\n",
              "      border-left-color: var(--fill-color);\n",
              "      border-top-color: var(--fill-color);\n",
              "    }\n",
              "    30% {\n",
              "      border-color: transparent;\n",
              "      border-left-color: var(--fill-color);\n",
              "      border-top-color: var(--fill-color);\n",
              "      border-right-color: var(--fill-color);\n",
              "    }\n",
              "    40% {\n",
              "      border-color: transparent;\n",
              "      border-right-color: var(--fill-color);\n",
              "      border-top-color: var(--fill-color);\n",
              "    }\n",
              "    60% {\n",
              "      border-color: transparent;\n",
              "      border-right-color: var(--fill-color);\n",
              "    }\n",
              "    80% {\n",
              "      border-color: transparent;\n",
              "      border-right-color: var(--fill-color);\n",
              "      border-bottom-color: var(--fill-color);\n",
              "    }\n",
              "    90% {\n",
              "      border-color: transparent;\n",
              "      border-bottom-color: var(--fill-color);\n",
              "    }\n",
              "  }\n",
              "</style>\n",
              "\n",
              "  <script>\n",
              "    async function quickchart(key) {\n",
              "      const quickchartButtonEl =\n",
              "        document.querySelector('#' + key + ' button');\n",
              "      quickchartButtonEl.disabled = true;  // To prevent multiple clicks.\n",
              "      quickchartButtonEl.classList.add('colab-df-spinner');\n",
              "      try {\n",
              "        const charts = await google.colab.kernel.invokeFunction(\n",
              "            'suggestCharts', [key], {});\n",
              "      } catch (error) {\n",
              "        console.error('Error during call to suggestCharts:', error);\n",
              "      }\n",
              "      quickchartButtonEl.classList.remove('colab-df-spinner');\n",
              "      quickchartButtonEl.classList.add('colab-df-quickchart-complete');\n",
              "    }\n",
              "    (() => {\n",
              "      let quickchartButtonEl =\n",
              "        document.querySelector('#df-55e3271f-79bd-4e0e-99e2-253fac06ba7e button');\n",
              "      quickchartButtonEl.style.display =\n",
              "        google.colab.kernel.accessAllowed ? 'block' : 'none';\n",
              "    })();\n",
              "  </script>\n",
              "</div>\n",
              "\n",
              "  <div id=\"id_0dde8125-f53c-45a8-9e1d-026e364842a2\">\n",
              "    <style>\n",
              "      .colab-df-generate {\n",
              "        background-color: #E8F0FE;\n",
              "        border: none;\n",
              "        border-radius: 50%;\n",
              "        cursor: pointer;\n",
              "        display: none;\n",
              "        fill: #1967D2;\n",
              "        height: 32px;\n",
              "        padding: 0 0 0 0;\n",
              "        width: 32px;\n",
              "      }\n",
              "\n",
              "      .colab-df-generate:hover {\n",
              "        background-color: #E2EBFA;\n",
              "        box-shadow: 0px 1px 2px rgba(60, 64, 67, 0.3), 0px 1px 3px 1px rgba(60, 64, 67, 0.15);\n",
              "        fill: #174EA6;\n",
              "      }\n",
              "\n",
              "      [theme=dark] .colab-df-generate {\n",
              "        background-color: #3B4455;\n",
              "        fill: #D2E3FC;\n",
              "      }\n",
              "\n",
              "      [theme=dark] .colab-df-generate:hover {\n",
              "        background-color: #434B5C;\n",
              "        box-shadow: 0px 1px 3px 1px rgba(0, 0, 0, 0.15);\n",
              "        filter: drop-shadow(0px 1px 2px rgba(0, 0, 0, 0.3));\n",
              "        fill: #FFFFFF;\n",
              "      }\n",
              "    </style>\n",
              "    <button class=\"colab-df-generate\" onclick=\"generateWithVariable('df_metrics')\"\n",
              "            title=\"Generate code using this dataframe.\"\n",
              "            style=\"display:none;\">\n",
              "\n",
              "  <svg xmlns=\"http://www.w3.org/2000/svg\" height=\"24px\"viewBox=\"0 0 24 24\"\n",
              "       width=\"24px\">\n",
              "    <path d=\"M7,19H8.4L18.45,9,17,7.55,7,17.6ZM5,21V16.75L18.45,3.32a2,2,0,0,1,2.83,0l1.4,1.43a1.91,1.91,0,0,1,.58,1.4,1.91,1.91,0,0,1-.58,1.4L9.25,21ZM18.45,9,17,7.55Zm-12,3A5.31,5.31,0,0,0,4.9,8.1,5.31,5.31,0,0,0,1,6.5,5.31,5.31,0,0,0,4.9,4.9,5.31,5.31,0,0,0,6.5,1,5.31,5.31,0,0,0,8.1,4.9,5.31,5.31,0,0,0,12,6.5,5.46,5.46,0,0,0,6.5,12Z\"/>\n",
              "  </svg>\n",
              "    </button>\n",
              "    <script>\n",
              "      (() => {\n",
              "      const buttonEl =\n",
              "        document.querySelector('#id_0dde8125-f53c-45a8-9e1d-026e364842a2 button.colab-df-generate');\n",
              "      buttonEl.style.display =\n",
              "        google.colab.kernel.accessAllowed ? 'block' : 'none';\n",
              "\n",
              "      buttonEl.onclick = () => {\n",
              "        google.colab.notebook.generateWithVariable('df_metrics');\n",
              "      }\n",
              "      })();\n",
              "    </script>\n",
              "  </div>\n",
              "\n",
              "    </div>\n",
              "  </div>\n"
            ],
            "application/vnd.google.colaboratory.intrinsic+json": {
              "type": "dataframe",
              "variable_name": "df_metrics",
              "summary": "{\n  \"name\": \"df_metrics\",\n  \"rows\": 2,\n  \"fields\": [\n    {\n      \"column\": \"Accuracy\",\n      \"properties\": {\n        \"dtype\": \"number\",\n        \"std\": 0.014741829644200939,\n        \"min\": 0.6236934065818787,\n        \"max\": 0.6445415019989014,\n        \"num_unique_values\": 2,\n        \"samples\": [\n          0.6445415019989014,\n          0.6236934065818787\n        ],\n        \"semantic_type\": \"\",\n        \"description\": \"\"\n      }\n    },\n    {\n      \"column\": \"F1 Score\",\n      \"properties\": {\n        \"dtype\": \"number\",\n        \"std\": 0.1416861353837095,\n        \"min\": 0.24738675355911255,\n        \"max\": 0.447761207818985,\n        \"num_unique_values\": 2,\n        \"samples\": [\n          0.447761207818985,\n          0.24738675355911255\n        ],\n        \"semantic_type\": \"\",\n        \"description\": \"\"\n      }\n    },\n    {\n      \"column\": \"Recall\",\n      \"properties\": {\n        \"dtype\": \"number\",\n        \"std\": 0.14894876441527335,\n        \"min\": 0.1584821492433548,\n        \"max\": 0.3691275119781494,\n        \"num_unique_values\": 2,\n        \"samples\": [\n          0.3691275119781494,\n          0.1584821492433548\n        ],\n        \"semantic_type\": \"\",\n        \"description\": \"\"\n      }\n    },\n    {\n      \"column\": \"Precision\",\n      \"properties\": {\n        \"dtype\": \"number\",\n        \"std\": 0.003870302951906888,\n        \"min\": 0.5634920597076416,\n        \"max\": 0.568965494632721,\n        \"num_unique_values\": 2,\n        \"samples\": [\n          0.568965494632721,\n          0.5634920597076416\n        ],\n        \"semantic_type\": \"\",\n        \"description\": \"\"\n      }\n    }\n  ]\n}"
            }
          },
          "metadata": {},
          "execution_count": 90
        }
      ]
    },
    {
      "cell_type": "code",
      "source": [
        "df_metrics.round(2)"
      ],
      "metadata": {
        "colab": {
          "base_uri": "https://localhost:8080/",
          "height": 112
        },
        "id": "uU5PjNwQogPt",
        "outputId": "a709ef71-eb98-4552-d172-30404f6f4856"
      },
      "execution_count": 91,
      "outputs": [
        {
          "output_type": "execute_result",
          "data": {
            "text/plain": [
              "                                  Accuracy  F1 Score  Recall  Precision\n",
              "Metrics without Rolling Averages      0.62      0.25    0.16       0.56\n",
              "Metrics with Rolling Averages         0.64      0.45    0.37       0.57"
            ],
            "text/html": [
              "\n",
              "  <div id=\"df-b13c388a-c1e2-4e69-99eb-13499441a1c8\" class=\"colab-df-container\">\n",
              "    <div>\n",
              "<style scoped>\n",
              "    .dataframe tbody tr th:only-of-type {\n",
              "        vertical-align: middle;\n",
              "    }\n",
              "\n",
              "    .dataframe tbody tr th {\n",
              "        vertical-align: top;\n",
              "    }\n",
              "\n",
              "    .dataframe thead th {\n",
              "        text-align: right;\n",
              "    }\n",
              "</style>\n",
              "<table border=\"1\" class=\"dataframe\">\n",
              "  <thead>\n",
              "    <tr style=\"text-align: right;\">\n",
              "      <th></th>\n",
              "      <th>Accuracy</th>\n",
              "      <th>F1 Score</th>\n",
              "      <th>Recall</th>\n",
              "      <th>Precision</th>\n",
              "    </tr>\n",
              "  </thead>\n",
              "  <tbody>\n",
              "    <tr>\n",
              "      <th>Metrics without Rolling Averages</th>\n",
              "      <td>0.62</td>\n",
              "      <td>0.25</td>\n",
              "      <td>0.16</td>\n",
              "      <td>0.56</td>\n",
              "    </tr>\n",
              "    <tr>\n",
              "      <th>Metrics with Rolling Averages</th>\n",
              "      <td>0.64</td>\n",
              "      <td>0.45</td>\n",
              "      <td>0.37</td>\n",
              "      <td>0.57</td>\n",
              "    </tr>\n",
              "  </tbody>\n",
              "</table>\n",
              "</div>\n",
              "    <div class=\"colab-df-buttons\">\n",
              "\n",
              "  <div class=\"colab-df-container\">\n",
              "    <button class=\"colab-df-convert\" onclick=\"convertToInteractive('df-b13c388a-c1e2-4e69-99eb-13499441a1c8')\"\n",
              "            title=\"Convert this dataframe to an interactive table.\"\n",
              "            style=\"display:none;\">\n",
              "\n",
              "  <svg xmlns=\"http://www.w3.org/2000/svg\" height=\"24px\" viewBox=\"0 -960 960 960\">\n",
              "    <path d=\"M120-120v-720h720v720H120Zm60-500h600v-160H180v160Zm220 220h160v-160H400v160Zm0 220h160v-160H400v160ZM180-400h160v-160H180v160Zm440 0h160v-160H620v160ZM180-180h160v-160H180v160Zm440 0h160v-160H620v160Z\"/>\n",
              "  </svg>\n",
              "    </button>\n",
              "\n",
              "  <style>\n",
              "    .colab-df-container {\n",
              "      display:flex;\n",
              "      gap: 12px;\n",
              "    }\n",
              "\n",
              "    .colab-df-convert {\n",
              "      background-color: #E8F0FE;\n",
              "      border: none;\n",
              "      border-radius: 50%;\n",
              "      cursor: pointer;\n",
              "      display: none;\n",
              "      fill: #1967D2;\n",
              "      height: 32px;\n",
              "      padding: 0 0 0 0;\n",
              "      width: 32px;\n",
              "    }\n",
              "\n",
              "    .colab-df-convert:hover {\n",
              "      background-color: #E2EBFA;\n",
              "      box-shadow: 0px 1px 2px rgba(60, 64, 67, 0.3), 0px 1px 3px 1px rgba(60, 64, 67, 0.15);\n",
              "      fill: #174EA6;\n",
              "    }\n",
              "\n",
              "    .colab-df-buttons div {\n",
              "      margin-bottom: 4px;\n",
              "    }\n",
              "\n",
              "    [theme=dark] .colab-df-convert {\n",
              "      background-color: #3B4455;\n",
              "      fill: #D2E3FC;\n",
              "    }\n",
              "\n",
              "    [theme=dark] .colab-df-convert:hover {\n",
              "      background-color: #434B5C;\n",
              "      box-shadow: 0px 1px 3px 1px rgba(0, 0, 0, 0.15);\n",
              "      filter: drop-shadow(0px 1px 2px rgba(0, 0, 0, 0.3));\n",
              "      fill: #FFFFFF;\n",
              "    }\n",
              "  </style>\n",
              "\n",
              "    <script>\n",
              "      const buttonEl =\n",
              "        document.querySelector('#df-b13c388a-c1e2-4e69-99eb-13499441a1c8 button.colab-df-convert');\n",
              "      buttonEl.style.display =\n",
              "        google.colab.kernel.accessAllowed ? 'block' : 'none';\n",
              "\n",
              "      async function convertToInteractive(key) {\n",
              "        const element = document.querySelector('#df-b13c388a-c1e2-4e69-99eb-13499441a1c8');\n",
              "        const dataTable =\n",
              "          await google.colab.kernel.invokeFunction('convertToInteractive',\n",
              "                                                    [key], {});\n",
              "        if (!dataTable) return;\n",
              "\n",
              "        const docLinkHtml = 'Like what you see? Visit the ' +\n",
              "          '<a target=\"_blank\" href=https://colab.research.google.com/notebooks/data_table.ipynb>data table notebook</a>'\n",
              "          + ' to learn more about interactive tables.';\n",
              "        element.innerHTML = '';\n",
              "        dataTable['output_type'] = 'display_data';\n",
              "        await google.colab.output.renderOutput(dataTable, element);\n",
              "        const docLink = document.createElement('div');\n",
              "        docLink.innerHTML = docLinkHtml;\n",
              "        element.appendChild(docLink);\n",
              "      }\n",
              "    </script>\n",
              "  </div>\n",
              "\n",
              "\n",
              "<div id=\"df-0ec993b1-4d69-40c6-ba90-aedb0dfd4245\">\n",
              "  <button class=\"colab-df-quickchart\" onclick=\"quickchart('df-0ec993b1-4d69-40c6-ba90-aedb0dfd4245')\"\n",
              "            title=\"Suggest charts\"\n",
              "            style=\"display:none;\">\n",
              "\n",
              "<svg xmlns=\"http://www.w3.org/2000/svg\" height=\"24px\"viewBox=\"0 0 24 24\"\n",
              "     width=\"24px\">\n",
              "    <g>\n",
              "        <path d=\"M19 3H5c-1.1 0-2 .9-2 2v14c0 1.1.9 2 2 2h14c1.1 0 2-.9 2-2V5c0-1.1-.9-2-2-2zM9 17H7v-7h2v7zm4 0h-2V7h2v10zm4 0h-2v-4h2v4z\"/>\n",
              "    </g>\n",
              "</svg>\n",
              "  </button>\n",
              "\n",
              "<style>\n",
              "  .colab-df-quickchart {\n",
              "      --bg-color: #E8F0FE;\n",
              "      --fill-color: #1967D2;\n",
              "      --hover-bg-color: #E2EBFA;\n",
              "      --hover-fill-color: #174EA6;\n",
              "      --disabled-fill-color: #AAA;\n",
              "      --disabled-bg-color: #DDD;\n",
              "  }\n",
              "\n",
              "  [theme=dark] .colab-df-quickchart {\n",
              "      --bg-color: #3B4455;\n",
              "      --fill-color: #D2E3FC;\n",
              "      --hover-bg-color: #434B5C;\n",
              "      --hover-fill-color: #FFFFFF;\n",
              "      --disabled-bg-color: #3B4455;\n",
              "      --disabled-fill-color: #666;\n",
              "  }\n",
              "\n",
              "  .colab-df-quickchart {\n",
              "    background-color: var(--bg-color);\n",
              "    border: none;\n",
              "    border-radius: 50%;\n",
              "    cursor: pointer;\n",
              "    display: none;\n",
              "    fill: var(--fill-color);\n",
              "    height: 32px;\n",
              "    padding: 0;\n",
              "    width: 32px;\n",
              "  }\n",
              "\n",
              "  .colab-df-quickchart:hover {\n",
              "    background-color: var(--hover-bg-color);\n",
              "    box-shadow: 0 1px 2px rgba(60, 64, 67, 0.3), 0 1px 3px 1px rgba(60, 64, 67, 0.15);\n",
              "    fill: var(--button-hover-fill-color);\n",
              "  }\n",
              "\n",
              "  .colab-df-quickchart-complete:disabled,\n",
              "  .colab-df-quickchart-complete:disabled:hover {\n",
              "    background-color: var(--disabled-bg-color);\n",
              "    fill: var(--disabled-fill-color);\n",
              "    box-shadow: none;\n",
              "  }\n",
              "\n",
              "  .colab-df-spinner {\n",
              "    border: 2px solid var(--fill-color);\n",
              "    border-color: transparent;\n",
              "    border-bottom-color: var(--fill-color);\n",
              "    animation:\n",
              "      spin 1s steps(1) infinite;\n",
              "  }\n",
              "\n",
              "  @keyframes spin {\n",
              "    0% {\n",
              "      border-color: transparent;\n",
              "      border-bottom-color: var(--fill-color);\n",
              "      border-left-color: var(--fill-color);\n",
              "    }\n",
              "    20% {\n",
              "      border-color: transparent;\n",
              "      border-left-color: var(--fill-color);\n",
              "      border-top-color: var(--fill-color);\n",
              "    }\n",
              "    30% {\n",
              "      border-color: transparent;\n",
              "      border-left-color: var(--fill-color);\n",
              "      border-top-color: var(--fill-color);\n",
              "      border-right-color: var(--fill-color);\n",
              "    }\n",
              "    40% {\n",
              "      border-color: transparent;\n",
              "      border-right-color: var(--fill-color);\n",
              "      border-top-color: var(--fill-color);\n",
              "    }\n",
              "    60% {\n",
              "      border-color: transparent;\n",
              "      border-right-color: var(--fill-color);\n",
              "    }\n",
              "    80% {\n",
              "      border-color: transparent;\n",
              "      border-right-color: var(--fill-color);\n",
              "      border-bottom-color: var(--fill-color);\n",
              "    }\n",
              "    90% {\n",
              "      border-color: transparent;\n",
              "      border-bottom-color: var(--fill-color);\n",
              "    }\n",
              "  }\n",
              "</style>\n",
              "\n",
              "  <script>\n",
              "    async function quickchart(key) {\n",
              "      const quickchartButtonEl =\n",
              "        document.querySelector('#' + key + ' button');\n",
              "      quickchartButtonEl.disabled = true;  // To prevent multiple clicks.\n",
              "      quickchartButtonEl.classList.add('colab-df-spinner');\n",
              "      try {\n",
              "        const charts = await google.colab.kernel.invokeFunction(\n",
              "            'suggestCharts', [key], {});\n",
              "      } catch (error) {\n",
              "        console.error('Error during call to suggestCharts:', error);\n",
              "      }\n",
              "      quickchartButtonEl.classList.remove('colab-df-spinner');\n",
              "      quickchartButtonEl.classList.add('colab-df-quickchart-complete');\n",
              "    }\n",
              "    (() => {\n",
              "      let quickchartButtonEl =\n",
              "        document.querySelector('#df-0ec993b1-4d69-40c6-ba90-aedb0dfd4245 button');\n",
              "      quickchartButtonEl.style.display =\n",
              "        google.colab.kernel.accessAllowed ? 'block' : 'none';\n",
              "    })();\n",
              "  </script>\n",
              "</div>\n",
              "\n",
              "    </div>\n",
              "  </div>\n"
            ],
            "application/vnd.google.colaboratory.intrinsic+json": {
              "type": "dataframe",
              "summary": "{\n  \"name\": \"df_metrics\",\n  \"rows\": 2,\n  \"fields\": [\n    {\n      \"column\": \"Accuracy\",\n      \"properties\": {\n        \"dtype\": \"number\",\n        \"std\": 0.014142135623730963,\n        \"min\": 0.62,\n        \"max\": 0.64,\n        \"num_unique_values\": 2,\n        \"samples\": [\n          0.64,\n          0.62\n        ],\n        \"semantic_type\": \"\",\n        \"description\": \"\"\n      }\n    },\n    {\n      \"column\": \"F1 Score\",\n      \"properties\": {\n        \"dtype\": \"number\",\n        \"std\": 0.14142135623730953,\n        \"min\": 0.25,\n        \"max\": 0.45,\n        \"num_unique_values\": 2,\n        \"samples\": [\n          0.45,\n          0.25\n        ],\n        \"semantic_type\": \"\",\n        \"description\": \"\"\n      }\n    },\n    {\n      \"column\": \"Recall\",\n      \"properties\": {\n        \"dtype\": \"number\",\n        \"std\": 0.14849242404917498,\n        \"min\": 0.16,\n        \"max\": 0.37,\n        \"num_unique_values\": 2,\n        \"samples\": [\n          0.37,\n          0.16\n        ],\n        \"semantic_type\": \"\",\n        \"description\": \"\"\n      }\n    },\n    {\n      \"column\": \"Precision\",\n      \"properties\": {\n        \"dtype\": \"number\",\n        \"std\": 0.007071067811865403,\n        \"min\": 0.56,\n        \"max\": 0.57,\n        \"num_unique_values\": 2,\n        \"samples\": [\n          0.57,\n          0.56\n        ],\n        \"semantic_type\": \"\",\n        \"description\": \"\"\n      }\n    }\n  ]\n}"
            }
          },
          "metadata": {},
          "execution_count": 91
        }
      ]
    }
  ]
}