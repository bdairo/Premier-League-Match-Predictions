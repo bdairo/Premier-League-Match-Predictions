{
 "cells": [
  {
   "cell_type": "code",
   "execution_count": 32,
   "id": "fcfecb75",
   "metadata": {},
   "outputs": [],
   "source": [
    "import pandas as pd\n",
    "from sklearn.ensemble import RandomForestClassifier\n",
    "from sklearn.model_selection import GridSearchCV\n",
    "from sklearn.metrics import accuracy_score, recall_score, precision_score, f1_score"
   ]
  },
  {
   "cell_type": "code",
   "execution_count": 3,
   "id": "6fe28582",
   "metadata": {},
   "outputs": [],
   "source": [
    "matches = pd.read_csv(\"matches.csv\", index_col=0)"
   ]
  },
  {
   "cell_type": "code",
   "execution_count": 4,
   "id": "73d1d0bb",
   "metadata": {},
   "outputs": [
    {
     "data": {
      "text/html": [
       "<div>\n",
       "<style scoped>\n",
       "    .dataframe tbody tr th:only-of-type {\n",
       "        vertical-align: middle;\n",
       "    }\n",
       "\n",
       "    .dataframe tbody tr th {\n",
       "        vertical-align: top;\n",
       "    }\n",
       "\n",
       "    .dataframe thead th {\n",
       "        text-align: right;\n",
       "    }\n",
       "</style>\n",
       "<table border=\"1\" class=\"dataframe\">\n",
       "  <thead>\n",
       "    <tr style=\"text-align: right;\">\n",
       "      <th></th>\n",
       "      <th>date</th>\n",
       "      <th>time</th>\n",
       "      <th>comp</th>\n",
       "      <th>round</th>\n",
       "      <th>day</th>\n",
       "      <th>venue</th>\n",
       "      <th>result</th>\n",
       "      <th>gf</th>\n",
       "      <th>ga</th>\n",
       "      <th>opponent</th>\n",
       "      <th>...</th>\n",
       "      <th>match report</th>\n",
       "      <th>notes</th>\n",
       "      <th>sh</th>\n",
       "      <th>sot</th>\n",
       "      <th>dist</th>\n",
       "      <th>fk</th>\n",
       "      <th>pk</th>\n",
       "      <th>pkatt</th>\n",
       "      <th>season</th>\n",
       "      <th>team</th>\n",
       "    </tr>\n",
       "  </thead>\n",
       "  <tbody>\n",
       "    <tr>\n",
       "      <th>1</th>\n",
       "      <td>2022-08-07</td>\n",
       "      <td>16:30</td>\n",
       "      <td>Premier League</td>\n",
       "      <td>Matchweek 1</td>\n",
       "      <td>Sun</td>\n",
       "      <td>Away</td>\n",
       "      <td>W</td>\n",
       "      <td>2</td>\n",
       "      <td>0</td>\n",
       "      <td>West Ham</td>\n",
       "      <td>...</td>\n",
       "      <td>Match Report</td>\n",
       "      <td>NaN</td>\n",
       "      <td>13.0</td>\n",
       "      <td>1.0</td>\n",
       "      <td>18.7</td>\n",
       "      <td>1.0</td>\n",
       "      <td>1</td>\n",
       "      <td>1</td>\n",
       "      <td>2022</td>\n",
       "      <td>Manchester City</td>\n",
       "    </tr>\n",
       "    <tr>\n",
       "      <th>2</th>\n",
       "      <td>2022-08-13</td>\n",
       "      <td>15:00</td>\n",
       "      <td>Premier League</td>\n",
       "      <td>Matchweek 2</td>\n",
       "      <td>Sat</td>\n",
       "      <td>Home</td>\n",
       "      <td>W</td>\n",
       "      <td>4</td>\n",
       "      <td>0</td>\n",
       "      <td>Bournemouth</td>\n",
       "      <td>...</td>\n",
       "      <td>Match Report</td>\n",
       "      <td>NaN</td>\n",
       "      <td>19.0</td>\n",
       "      <td>7.0</td>\n",
       "      <td>17.5</td>\n",
       "      <td>0.0</td>\n",
       "      <td>0</td>\n",
       "      <td>0</td>\n",
       "      <td>2022</td>\n",
       "      <td>Manchester City</td>\n",
       "    </tr>\n",
       "    <tr>\n",
       "      <th>3</th>\n",
       "      <td>2022-08-21</td>\n",
       "      <td>16:30</td>\n",
       "      <td>Premier League</td>\n",
       "      <td>Matchweek 3</td>\n",
       "      <td>Sun</td>\n",
       "      <td>Away</td>\n",
       "      <td>D</td>\n",
       "      <td>3</td>\n",
       "      <td>3</td>\n",
       "      <td>Newcastle Utd</td>\n",
       "      <td>...</td>\n",
       "      <td>Match Report</td>\n",
       "      <td>NaN</td>\n",
       "      <td>21.0</td>\n",
       "      <td>10.0</td>\n",
       "      <td>16.2</td>\n",
       "      <td>1.0</td>\n",
       "      <td>0</td>\n",
       "      <td>0</td>\n",
       "      <td>2022</td>\n",
       "      <td>Manchester City</td>\n",
       "    </tr>\n",
       "    <tr>\n",
       "      <th>4</th>\n",
       "      <td>2022-08-27</td>\n",
       "      <td>15:00</td>\n",
       "      <td>Premier League</td>\n",
       "      <td>Matchweek 4</td>\n",
       "      <td>Sat</td>\n",
       "      <td>Home</td>\n",
       "      <td>W</td>\n",
       "      <td>4</td>\n",
       "      <td>2</td>\n",
       "      <td>Crystal Palace</td>\n",
       "      <td>...</td>\n",
       "      <td>Match Report</td>\n",
       "      <td>NaN</td>\n",
       "      <td>18.0</td>\n",
       "      <td>5.0</td>\n",
       "      <td>14.1</td>\n",
       "      <td>0.0</td>\n",
       "      <td>0</td>\n",
       "      <td>0</td>\n",
       "      <td>2022</td>\n",
       "      <td>Manchester City</td>\n",
       "    </tr>\n",
       "    <tr>\n",
       "      <th>5</th>\n",
       "      <td>2022-08-31</td>\n",
       "      <td>19:30</td>\n",
       "      <td>Premier League</td>\n",
       "      <td>Matchweek 5</td>\n",
       "      <td>Wed</td>\n",
       "      <td>Home</td>\n",
       "      <td>W</td>\n",
       "      <td>6</td>\n",
       "      <td>0</td>\n",
       "      <td>Nott'ham Forest</td>\n",
       "      <td>...</td>\n",
       "      <td>Match Report</td>\n",
       "      <td>NaN</td>\n",
       "      <td>17.0</td>\n",
       "      <td>9.0</td>\n",
       "      <td>14.8</td>\n",
       "      <td>0.0</td>\n",
       "      <td>0</td>\n",
       "      <td>0</td>\n",
       "      <td>2022</td>\n",
       "      <td>Manchester City</td>\n",
       "    </tr>\n",
       "  </tbody>\n",
       "</table>\n",
       "<p>5 rows × 27 columns</p>\n",
       "</div>"
      ],
      "text/plain": [
       "         date   time            comp        round  day venue result  gf  ga  \\\n",
       "1  2022-08-07  16:30  Premier League  Matchweek 1  Sun  Away      W   2   0   \n",
       "2  2022-08-13  15:00  Premier League  Matchweek 2  Sat  Home      W   4   0   \n",
       "3  2022-08-21  16:30  Premier League  Matchweek 3  Sun  Away      D   3   3   \n",
       "4  2022-08-27  15:00  Premier League  Matchweek 4  Sat  Home      W   4   2   \n",
       "5  2022-08-31  19:30  Premier League  Matchweek 5  Wed  Home      W   6   0   \n",
       "\n",
       "          opponent  ...  match report  notes    sh   sot  dist   fk pk pkatt  \\\n",
       "1         West Ham  ...  Match Report    NaN  13.0   1.0  18.7  1.0  1     1   \n",
       "2      Bournemouth  ...  Match Report    NaN  19.0   7.0  17.5  0.0  0     0   \n",
       "3    Newcastle Utd  ...  Match Report    NaN  21.0  10.0  16.2  1.0  0     0   \n",
       "4   Crystal Palace  ...  Match Report    NaN  18.0   5.0  14.1  0.0  0     0   \n",
       "5  Nott'ham Forest  ...  Match Report    NaN  17.0   9.0  14.8  0.0  0     0   \n",
       "\n",
       "   season             team  \n",
       "1    2022  Manchester City  \n",
       "2    2022  Manchester City  \n",
       "3    2022  Manchester City  \n",
       "4    2022  Manchester City  \n",
       "5    2022  Manchester City  \n",
       "\n",
       "[5 rows x 27 columns]"
      ]
     },
     "execution_count": 4,
     "metadata": {},
     "output_type": "execute_result"
    }
   ],
   "source": [
    "matches.head()"
   ]
  },
  {
   "cell_type": "code",
   "execution_count": 5,
   "id": "8be888f9-0581-4b4c-b464-f9c7cc0ebd49",
   "metadata": {},
   "outputs": [],
   "source": [
    "matches[\"date\"] = pd.to_datetime(matches[\"date\"])\n",
    "matches[\"venue_code\"] = matches[\"venue\"].astype(\"category\").cat.codes\n",
    "matches[\"opp_code\"] = matches[\"opponent\"].astype(\"category\").cat.codes\n",
    "matches[\"hour\"] = matches[\"time\"].str.replace(\":.+\", \"\", regex=True).astype(\"int\")\n",
    "matches[\"day_code\"]=matches[\"date\"].dt.dayofweek\n",
    "matches[\"target\"] = (matches[\"result\"] == \"W\")"
   ]
  },
  {
   "cell_type": "code",
   "execution_count": 6,
   "id": "037ceddf-f3b1-4563-a6f6-4c9f398ae4f8",
   "metadata": {},
   "outputs": [],
   "source": [
    "train = matches[matches[\"date\"]< '2022-01-01']\n",
    "test = matches[matches[\"date\"]>'2022-01-01']\n",
    "predictors = [\"venue_code\", \"opp_code\", \"hour\", \"day_code\"]"
   ]
  },
  {
   "cell_type": "markdown",
   "id": "da086c42-ae19-4718-a081-66bd2f6317d9",
   "metadata": {},
   "source": [
    "## Training and getting predictions for Random Forest with hyper parameter tuning"
   ]
  },
  {
   "cell_type": "code",
   "execution_count": 17,
   "id": "e9b3967e-e348-4a14-ab76-ab065096ca5a",
   "metadata": {},
   "outputs": [],
   "source": [
    "param_grid = {\n",
    "    'n_estimators': [10, 50, 100, 200],\n",
    "    'max_features': [None, 'log2'], \n",
    "    'max_depth': [None, 10, 20, 30, 40],\n",
    "    'min_samples_split': [2, 5, 10],\n",
    "    'min_samples_leaf': [1, 2, 4]\n",
    "}"
   ]
  },
  {
   "cell_type": "code",
   "execution_count": 18,
   "id": "8cd60590-e903-4377-8045-3ace4b576913",
   "metadata": {},
   "outputs": [],
   "source": [
    "rf = RandomForestClassifier(random_state=42)"
   ]
  },
  {
   "cell_type": "code",
   "execution_count": 19,
   "id": "81153ff5-e1ee-4d33-9e6a-327449660ddb",
   "metadata": {},
   "outputs": [],
   "source": [
    "# Grid search with cross-validation\n",
    "grid_search = GridSearchCV(estimator=rf, param_grid=param_grid, cv=5, scoring='accuracy', verbose=0, n_jobs=-1)"
   ]
  },
  {
   "cell_type": "code",
   "execution_count": 22,
   "id": "8bb5fdcb-fde3-4157-bb97-103c0fb8fc49",
   "metadata": {},
   "outputs": [
    {
     "name": "stdout",
     "output_type": "stream",
     "text": [
      "Fitting grid search...\n",
      "Done!\n"
     ]
    }
   ],
   "source": [
    "import warnings\n",
    "warnings.filterwarnings(\"ignore\")\n",
    "print('Fitting grid search...')\n",
    "grid_search.fit(train[predictors], train[\"target\"])\n",
    "print('Done!')\n"
   ]
  },
  {
   "cell_type": "code",
   "execution_count": 10,
   "id": "9719041f",
   "metadata": {},
   "outputs": [],
   "source": [
    "# rf =RandomForestClassifier(n_estimators=50, min_samples_split=10, random_state=1)"
   ]
  },
  {
   "cell_type": "code",
   "execution_count": 23,
   "id": "d6697bb5-9b14-4874-a95f-1d287dcbcc86",
   "metadata": {},
   "outputs": [
    {
     "data": {
      "text/plain": [
       "{'max_depth': None,\n",
       " 'max_features': None,\n",
       " 'min_samples_leaf': 4,\n",
       " 'min_samples_split': 10,\n",
       " 'n_estimators': 50}"
      ]
     },
     "execution_count": 23,
     "metadata": {},
     "output_type": "execute_result"
    }
   ],
   "source": [
    "grid_search.best_params_"
   ]
  },
  {
   "cell_type": "code",
   "execution_count": 29,
   "id": "5ce657e3-7a09-4373-be1c-70a8cf531b1a",
   "metadata": {},
   "outputs": [],
   "source": [
    "best_model = grid_search.best_estimator_"
   ]
  },
  {
   "cell_type": "code",
   "execution_count": 33,
   "id": "41643b10-18b9-4ea7-bef6-6823e2ba2d39",
   "metadata": {},
   "outputs": [],
   "source": [
    "predictions = best_model.predict(test[predictors])"
   ]
  },
  {
   "cell_type": "code",
   "execution_count": 34,
   "id": "c245bd93-6df3-4f88-81a8-5564d0ea2e9d",
   "metadata": {},
   "outputs": [
    {
     "data": {
      "text/plain": [
       "0.6054006968641115"
      ]
     },
     "execution_count": 34,
     "metadata": {},
     "output_type": "execute_result"
    }
   ],
   "source": [
    "accuracy_metric = accuracy_score(test[\"target\"], predictions)\n",
    "accuracy_metric"
   ]
  },
  {
   "cell_type": "code",
   "execution_count": 85,
   "id": "2e58e1bb-a63d-4d79-92f7-bdabed7693c2",
   "metadata": {},
   "outputs": [],
   "source": [
    "metrics = {\n",
    "    'Accuracy': accuracy_score(test[\"target\"], predictions) * 100,\n",
    "    'F1 Score': f1_score(test[\"target\"], predictions, average='macro') * 100,\n",
    "    'Recall':  recall_score(test[\"target\"], predictions, average='macro') * 100,\n",
    "    'Precision': precision_score(test[\"target\"], predictions, average = 'macro') * 100\n",
    "}"
   ]
  },
  {
   "cell_type": "code",
   "execution_count": 86,
   "id": "70f8f35e-5fbf-40a5-8a8a-ae195031ee95",
   "metadata": {},
   "outputs": [
    {
     "data": {
      "text/plain": [
       "{'Accuracy': 60.540069686411144,\n",
       " 'F1 Score': 51.793456144562896,\n",
       " 'Recall': 53.78125,\n",
       " 'Precision': 55.99776436848468}"
      ]
     },
     "execution_count": 86,
     "metadata": {},
     "output_type": "execute_result"
    }
   ],
   "source": [
    "metrics"
   ]
  },
  {
   "cell_type": "markdown",
   "id": "1636c75e-21f1-4c28-aaad-7a1990d9eb34",
   "metadata": {},
   "source": [
    "# Training  and getting predictions with a larger dataset and rolling averages"
   ]
  },
  {
   "cell_type": "code",
   "execution_count": 87,
   "id": "beb81d91-5162-45b9-81d3-3344bf39e381",
   "metadata": {},
   "outputs": [],
   "source": [
    "matches = pd.read_csv('matches_6_years.csv', index_col = 0)"
   ]
  },
  {
   "cell_type": "code",
   "execution_count": 88,
   "id": "727aeefc-d19b-4700-81b5-a2af28eef752",
   "metadata": {},
   "outputs": [
    {
     "data": {
      "text/plain": [
       "(4560, 27)"
      ]
     },
     "execution_count": 88,
     "metadata": {},
     "output_type": "execute_result"
    }
   ],
   "source": [
    "matches.shape"
   ]
  },
  {
   "cell_type": "code",
   "execution_count": 89,
   "id": "099074c4-509a-4e0d-8209-91f7e6b5e2ca",
   "metadata": {},
   "outputs": [],
   "source": [
    "def rolling_averages(group, cols, new_cols):\n",
    "    group = group.sort_values(\"date\")\n",
    "    rolling_stats = group[cols].rolling(3, closed ='left').mean()\n",
    "    group[new_cols] = rolling_stats\n",
    "    group = group.dropna(subset=new_cols)\n",
    "    return group"
   ]
  },
  {
   "cell_type": "code",
   "execution_count": 90,
   "id": "b1fc8eaf-26dc-4f80-95c1-e04ac828cdef",
   "metadata": {},
   "outputs": [],
   "source": [
    "def process_data(matches):\n",
    "  matches['date']=pd.to_datetime(matches['date'])\n",
    "  matches['venue_code'] = matches['venue'].astype('category').cat.codes\n",
    "  matches['opp_code'] = matches['opponent'].astype('category').cat.codes\n",
    "  matches['hour'] = matches['time'].str.replace(':.+','',regex=True).astype('int')\n",
    "  matches['day_code']= matches['date'].dt.dayofweek\n",
    "  matches['target']=(matches['result'] == 'W')"
   ]
  },
  {
   "cell_type": "code",
   "execution_count": 91,
   "id": "d8061980-4966-423f-a5f3-5bf13e4c4501",
   "metadata": {},
   "outputs": [],
   "source": [
    "process_data(matches)"
   ]
  },
  {
   "cell_type": "code",
   "execution_count": 92,
   "id": "4a630a6b-df58-41a5-bb8a-0cd2b968b2dd",
   "metadata": {},
   "outputs": [
    {
     "data": {
      "text/html": [
       "<div>\n",
       "<style scoped>\n",
       "    .dataframe tbody tr th:only-of-type {\n",
       "        vertical-align: middle;\n",
       "    }\n",
       "\n",
       "    .dataframe tbody tr th {\n",
       "        vertical-align: top;\n",
       "    }\n",
       "\n",
       "    .dataframe thead th {\n",
       "        text-align: right;\n",
       "    }\n",
       "</style>\n",
       "<table border=\"1\" class=\"dataframe\">\n",
       "  <thead>\n",
       "    <tr style=\"text-align: right;\">\n",
       "      <th></th>\n",
       "      <th>date</th>\n",
       "      <th>time</th>\n",
       "      <th>comp</th>\n",
       "      <th>round</th>\n",
       "      <th>day</th>\n",
       "      <th>venue</th>\n",
       "      <th>result</th>\n",
       "      <th>gf</th>\n",
       "      <th>ga</th>\n",
       "      <th>opponent</th>\n",
       "      <th>...</th>\n",
       "      <th>fk</th>\n",
       "      <th>pk</th>\n",
       "      <th>pkatt</th>\n",
       "      <th>season</th>\n",
       "      <th>team</th>\n",
       "      <th>venue_code</th>\n",
       "      <th>opp_code</th>\n",
       "      <th>hour</th>\n",
       "      <th>day_code</th>\n",
       "      <th>target</th>\n",
       "    </tr>\n",
       "  </thead>\n",
       "  <tbody>\n",
       "    <tr>\n",
       "      <th>1</th>\n",
       "      <td>2022-08-07</td>\n",
       "      <td>16:30</td>\n",
       "      <td>Premier League</td>\n",
       "      <td>Matchweek 1</td>\n",
       "      <td>Sun</td>\n",
       "      <td>Away</td>\n",
       "      <td>W</td>\n",
       "      <td>2</td>\n",
       "      <td>0</td>\n",
       "      <td>West Ham</td>\n",
       "      <td>...</td>\n",
       "      <td>1.0</td>\n",
       "      <td>1</td>\n",
       "      <td>1</td>\n",
       "      <td>2022-2023</td>\n",
       "      <td>Manchester City</td>\n",
       "      <td>0</td>\n",
       "      <td>27</td>\n",
       "      <td>16</td>\n",
       "      <td>6</td>\n",
       "      <td>True</td>\n",
       "    </tr>\n",
       "    <tr>\n",
       "      <th>2</th>\n",
       "      <td>2022-08-13</td>\n",
       "      <td>15:00</td>\n",
       "      <td>Premier League</td>\n",
       "      <td>Matchweek 2</td>\n",
       "      <td>Sat</td>\n",
       "      <td>Home</td>\n",
       "      <td>W</td>\n",
       "      <td>4</td>\n",
       "      <td>0</td>\n",
       "      <td>Bournemouth</td>\n",
       "      <td>...</td>\n",
       "      <td>0.0</td>\n",
       "      <td>0</td>\n",
       "      <td>0</td>\n",
       "      <td>2022-2023</td>\n",
       "      <td>Manchester City</td>\n",
       "      <td>1</td>\n",
       "      <td>2</td>\n",
       "      <td>15</td>\n",
       "      <td>5</td>\n",
       "      <td>True</td>\n",
       "    </tr>\n",
       "    <tr>\n",
       "      <th>3</th>\n",
       "      <td>2022-08-21</td>\n",
       "      <td>16:30</td>\n",
       "      <td>Premier League</td>\n",
       "      <td>Matchweek 3</td>\n",
       "      <td>Sun</td>\n",
       "      <td>Away</td>\n",
       "      <td>D</td>\n",
       "      <td>3</td>\n",
       "      <td>3</td>\n",
       "      <td>Newcastle Utd</td>\n",
       "      <td>...</td>\n",
       "      <td>1.0</td>\n",
       "      <td>0</td>\n",
       "      <td>0</td>\n",
       "      <td>2022-2023</td>\n",
       "      <td>Manchester City</td>\n",
       "      <td>0</td>\n",
       "      <td>17</td>\n",
       "      <td>16</td>\n",
       "      <td>6</td>\n",
       "      <td>False</td>\n",
       "    </tr>\n",
       "    <tr>\n",
       "      <th>4</th>\n",
       "      <td>2022-08-27</td>\n",
       "      <td>15:00</td>\n",
       "      <td>Premier League</td>\n",
       "      <td>Matchweek 4</td>\n",
       "      <td>Sat</td>\n",
       "      <td>Home</td>\n",
       "      <td>W</td>\n",
       "      <td>4</td>\n",
       "      <td>2</td>\n",
       "      <td>Crystal Palace</td>\n",
       "      <td>...</td>\n",
       "      <td>0.0</td>\n",
       "      <td>0</td>\n",
       "      <td>0</td>\n",
       "      <td>2022-2023</td>\n",
       "      <td>Manchester City</td>\n",
       "      <td>1</td>\n",
       "      <td>8</td>\n",
       "      <td>15</td>\n",
       "      <td>5</td>\n",
       "      <td>True</td>\n",
       "    </tr>\n",
       "    <tr>\n",
       "      <th>5</th>\n",
       "      <td>2022-08-31</td>\n",
       "      <td>19:30</td>\n",
       "      <td>Premier League</td>\n",
       "      <td>Matchweek 5</td>\n",
       "      <td>Wed</td>\n",
       "      <td>Home</td>\n",
       "      <td>W</td>\n",
       "      <td>6</td>\n",
       "      <td>0</td>\n",
       "      <td>Nott'ham Forest</td>\n",
       "      <td>...</td>\n",
       "      <td>0.0</td>\n",
       "      <td>0</td>\n",
       "      <td>0</td>\n",
       "      <td>2022-2023</td>\n",
       "      <td>Manchester City</td>\n",
       "      <td>1</td>\n",
       "      <td>19</td>\n",
       "      <td>19</td>\n",
       "      <td>2</td>\n",
       "      <td>True</td>\n",
       "    </tr>\n",
       "    <tr>\n",
       "      <th>...</th>\n",
       "      <td>...</td>\n",
       "      <td>...</td>\n",
       "      <td>...</td>\n",
       "      <td>...</td>\n",
       "      <td>...</td>\n",
       "      <td>...</td>\n",
       "      <td>...</td>\n",
       "      <td>...</td>\n",
       "      <td>...</td>\n",
       "      <td>...</td>\n",
       "      <td>...</td>\n",
       "      <td>...</td>\n",
       "      <td>...</td>\n",
       "      <td>...</td>\n",
       "      <td>...</td>\n",
       "      <td>...</td>\n",
       "      <td>...</td>\n",
       "      <td>...</td>\n",
       "      <td>...</td>\n",
       "      <td>...</td>\n",
       "      <td>...</td>\n",
       "    </tr>\n",
       "    <tr>\n",
       "      <th>52</th>\n",
       "      <td>2018-04-22</td>\n",
       "      <td>16:30</td>\n",
       "      <td>Premier League</td>\n",
       "      <td>Matchweek 35</td>\n",
       "      <td>Sun</td>\n",
       "      <td>Home</td>\n",
       "      <td>W</td>\n",
       "      <td>5</td>\n",
       "      <td>0</td>\n",
       "      <td>Swansea City</td>\n",
       "      <td>...</td>\n",
       "      <td>1.0</td>\n",
       "      <td>0</td>\n",
       "      <td>1</td>\n",
       "      <td>2017-2018</td>\n",
       "      <td>Manchester City</td>\n",
       "      <td>1</td>\n",
       "      <td>23</td>\n",
       "      <td>16</td>\n",
       "      <td>6</td>\n",
       "      <td>True</td>\n",
       "    </tr>\n",
       "    <tr>\n",
       "      <th>53</th>\n",
       "      <td>2018-04-29</td>\n",
       "      <td>14:15</td>\n",
       "      <td>Premier League</td>\n",
       "      <td>Matchweek 36</td>\n",
       "      <td>Sun</td>\n",
       "      <td>Away</td>\n",
       "      <td>W</td>\n",
       "      <td>4</td>\n",
       "      <td>1</td>\n",
       "      <td>West Ham</td>\n",
       "      <td>...</td>\n",
       "      <td>1.0</td>\n",
       "      <td>0</td>\n",
       "      <td>0</td>\n",
       "      <td>2017-2018</td>\n",
       "      <td>Manchester City</td>\n",
       "      <td>0</td>\n",
       "      <td>27</td>\n",
       "      <td>14</td>\n",
       "      <td>6</td>\n",
       "      <td>True</td>\n",
       "    </tr>\n",
       "    <tr>\n",
       "      <th>54</th>\n",
       "      <td>2018-05-06</td>\n",
       "      <td>13:30</td>\n",
       "      <td>Premier League</td>\n",
       "      <td>Matchweek 37</td>\n",
       "      <td>Sun</td>\n",
       "      <td>Home</td>\n",
       "      <td>D</td>\n",
       "      <td>0</td>\n",
       "      <td>0</td>\n",
       "      <td>Huddersfield</td>\n",
       "      <td>...</td>\n",
       "      <td>0.0</td>\n",
       "      <td>0</td>\n",
       "      <td>0</td>\n",
       "      <td>2017-2018</td>\n",
       "      <td>Manchester City</td>\n",
       "      <td>1</td>\n",
       "      <td>11</td>\n",
       "      <td>13</td>\n",
       "      <td>6</td>\n",
       "      <td>False</td>\n",
       "    </tr>\n",
       "    <tr>\n",
       "      <th>55</th>\n",
       "      <td>2018-05-09</td>\n",
       "      <td>20:00</td>\n",
       "      <td>Premier League</td>\n",
       "      <td>Matchweek 31</td>\n",
       "      <td>Wed</td>\n",
       "      <td>Home</td>\n",
       "      <td>W</td>\n",
       "      <td>3</td>\n",
       "      <td>1</td>\n",
       "      <td>Brighton</td>\n",
       "      <td>...</td>\n",
       "      <td>1.0</td>\n",
       "      <td>0</td>\n",
       "      <td>0</td>\n",
       "      <td>2017-2018</td>\n",
       "      <td>Manchester City</td>\n",
       "      <td>1</td>\n",
       "      <td>4</td>\n",
       "      <td>20</td>\n",
       "      <td>2</td>\n",
       "      <td>True</td>\n",
       "    </tr>\n",
       "    <tr>\n",
       "      <th>56</th>\n",
       "      <td>2018-05-13</td>\n",
       "      <td>15:00</td>\n",
       "      <td>Premier League</td>\n",
       "      <td>Matchweek 38</td>\n",
       "      <td>Sun</td>\n",
       "      <td>Away</td>\n",
       "      <td>W</td>\n",
       "      <td>1</td>\n",
       "      <td>0</td>\n",
       "      <td>Southampton</td>\n",
       "      <td>...</td>\n",
       "      <td>1.0</td>\n",
       "      <td>0</td>\n",
       "      <td>0</td>\n",
       "      <td>2017-2018</td>\n",
       "      <td>Manchester City</td>\n",
       "      <td>0</td>\n",
       "      <td>21</td>\n",
       "      <td>15</td>\n",
       "      <td>6</td>\n",
       "      <td>True</td>\n",
       "    </tr>\n",
       "  </tbody>\n",
       "</table>\n",
       "<p>228 rows × 32 columns</p>\n",
       "</div>"
      ],
      "text/plain": [
       "         date   time            comp         round  day venue result  gf  ga  \\\n",
       "1  2022-08-07  16:30  Premier League   Matchweek 1  Sun  Away      W   2   0   \n",
       "2  2022-08-13  15:00  Premier League   Matchweek 2  Sat  Home      W   4   0   \n",
       "3  2022-08-21  16:30  Premier League   Matchweek 3  Sun  Away      D   3   3   \n",
       "4  2022-08-27  15:00  Premier League   Matchweek 4  Sat  Home      W   4   2   \n",
       "5  2022-08-31  19:30  Premier League   Matchweek 5  Wed  Home      W   6   0   \n",
       "..        ...    ...             ...           ...  ...   ...    ...  ..  ..   \n",
       "52 2018-04-22  16:30  Premier League  Matchweek 35  Sun  Home      W   5   0   \n",
       "53 2018-04-29  14:15  Premier League  Matchweek 36  Sun  Away      W   4   1   \n",
       "54 2018-05-06  13:30  Premier League  Matchweek 37  Sun  Home      D   0   0   \n",
       "55 2018-05-09  20:00  Premier League  Matchweek 31  Wed  Home      W   3   1   \n",
       "56 2018-05-13  15:00  Premier League  Matchweek 38  Sun  Away      W   1   0   \n",
       "\n",
       "           opponent  ...   fk  pk  pkatt     season             team  \\\n",
       "1          West Ham  ...  1.0   1      1  2022-2023  Manchester City   \n",
       "2       Bournemouth  ...  0.0   0      0  2022-2023  Manchester City   \n",
       "3     Newcastle Utd  ...  1.0   0      0  2022-2023  Manchester City   \n",
       "4    Crystal Palace  ...  0.0   0      0  2022-2023  Manchester City   \n",
       "5   Nott'ham Forest  ...  0.0   0      0  2022-2023  Manchester City   \n",
       "..              ...  ...  ...  ..    ...        ...              ...   \n",
       "52     Swansea City  ...  1.0   0      1  2017-2018  Manchester City   \n",
       "53         West Ham  ...  1.0   0      0  2017-2018  Manchester City   \n",
       "54     Huddersfield  ...  0.0   0      0  2017-2018  Manchester City   \n",
       "55         Brighton  ...  1.0   0      0  2017-2018  Manchester City   \n",
       "56      Southampton  ...  1.0   0      0  2017-2018  Manchester City   \n",
       "\n",
       "   venue_code opp_code hour  day_code  target  \n",
       "1           0       27   16         6    True  \n",
       "2           1        2   15         5    True  \n",
       "3           0       17   16         6   False  \n",
       "4           1        8   15         5    True  \n",
       "5           1       19   19         2    True  \n",
       "..        ...      ...  ...       ...     ...  \n",
       "52          1       23   16         6    True  \n",
       "53          0       27   14         6    True  \n",
       "54          1       11   13         6   False  \n",
       "55          1        4   20         2    True  \n",
       "56          0       21   15         6    True  \n",
       "\n",
       "[228 rows x 32 columns]"
      ]
     },
     "execution_count": 92,
     "metadata": {},
     "output_type": "execute_result"
    }
   ],
   "source": [
    "grouped_matches = matches.groupby('team')\n",
    "group= grouped_matches.get_group('Manchester City')\n",
    "group"
   ]
  },
  {
   "cell_type": "code",
   "execution_count": 93,
   "id": "7784c87b-0eab-4c7e-8678-73267e5aa92e",
   "metadata": {},
   "outputs": [],
   "source": [
    "cols = [\"gf\", \"ga\", \"sh\", \"sot\", \"dist\", \"fk\", \"pk\", \"pkatt\"]\n",
    "new_cols = [f\"{c}_rolling\" for c in cols]"
   ]
  },
  {
   "cell_type": "code",
   "execution_count": 94,
   "id": "7a204bc0-220f-4d1c-a596-71b1881bc80a",
   "metadata": {},
   "outputs": [],
   "source": [
    "# Creating new features using the rolling averages\n",
    "matches_rolling = matches.groupby(\"team\").apply(lambda x: rolling_averages(x, cols, new_cols))\n",
    "\n",
    "matches_rolling = matches_rolling.droplevel(\"team\")\n",
    "matches_rolling.index = range(matches_rolling.shape[0])\n",
    "\n",
    "matches_rolling.index = range(matches_rolling.shape[0])\n",
    "\n",
    "rolling_train = matches_rolling[matches_rolling[\"date\"]< '2022-01-01']\n",
    "rolling_test = matches_rolling[matches_rolling[\"date\"]>'2022-01-01']\n",
    "rolling_predictors = predictors + new_cols"
   ]
  },
  {
   "cell_type": "code",
   "execution_count": 95,
   "id": "8a1354af-5a6f-42fd-821f-66a2f6902ea8",
   "metadata": {},
   "outputs": [
    {
     "data": {
      "text/html": [
       "<style>#sk-container-id-9 {color: black;background-color: white;}#sk-container-id-9 pre{padding: 0;}#sk-container-id-9 div.sk-toggleable {background-color: white;}#sk-container-id-9 label.sk-toggleable__label {cursor: pointer;display: block;width: 100%;margin-bottom: 0;padding: 0.3em;box-sizing: border-box;text-align: center;}#sk-container-id-9 label.sk-toggleable__label-arrow:before {content: \"▸\";float: left;margin-right: 0.25em;color: #696969;}#sk-container-id-9 label.sk-toggleable__label-arrow:hover:before {color: black;}#sk-container-id-9 div.sk-estimator:hover label.sk-toggleable__label-arrow:before {color: black;}#sk-container-id-9 div.sk-toggleable__content {max-height: 0;max-width: 0;overflow: hidden;text-align: left;background-color: #f0f8ff;}#sk-container-id-9 div.sk-toggleable__content pre {margin: 0.2em;color: black;border-radius: 0.25em;background-color: #f0f8ff;}#sk-container-id-9 input.sk-toggleable__control:checked~div.sk-toggleable__content {max-height: 200px;max-width: 100%;overflow: auto;}#sk-container-id-9 input.sk-toggleable__control:checked~label.sk-toggleable__label-arrow:before {content: \"▾\";}#sk-container-id-9 div.sk-estimator input.sk-toggleable__control:checked~label.sk-toggleable__label {background-color: #d4ebff;}#sk-container-id-9 div.sk-label input.sk-toggleable__control:checked~label.sk-toggleable__label {background-color: #d4ebff;}#sk-container-id-9 input.sk-hidden--visually {border: 0;clip: rect(1px 1px 1px 1px);clip: rect(1px, 1px, 1px, 1px);height: 1px;margin: -1px;overflow: hidden;padding: 0;position: absolute;width: 1px;}#sk-container-id-9 div.sk-estimator {font-family: monospace;background-color: #f0f8ff;border: 1px dotted black;border-radius: 0.25em;box-sizing: border-box;margin-bottom: 0.5em;}#sk-container-id-9 div.sk-estimator:hover {background-color: #d4ebff;}#sk-container-id-9 div.sk-parallel-item::after {content: \"\";width: 100%;border-bottom: 1px solid gray;flex-grow: 1;}#sk-container-id-9 div.sk-label:hover label.sk-toggleable__label {background-color: #d4ebff;}#sk-container-id-9 div.sk-serial::before {content: \"\";position: absolute;border-left: 1px solid gray;box-sizing: border-box;top: 0;bottom: 0;left: 50%;z-index: 0;}#sk-container-id-9 div.sk-serial {display: flex;flex-direction: column;align-items: center;background-color: white;padding-right: 0.2em;padding-left: 0.2em;position: relative;}#sk-container-id-9 div.sk-item {position: relative;z-index: 1;}#sk-container-id-9 div.sk-parallel {display: flex;align-items: stretch;justify-content: center;background-color: white;position: relative;}#sk-container-id-9 div.sk-item::before, #sk-container-id-9 div.sk-parallel-item::before {content: \"\";position: absolute;border-left: 1px solid gray;box-sizing: border-box;top: 0;bottom: 0;left: 50%;z-index: -1;}#sk-container-id-9 div.sk-parallel-item {display: flex;flex-direction: column;z-index: 1;position: relative;background-color: white;}#sk-container-id-9 div.sk-parallel-item:first-child::after {align-self: flex-end;width: 50%;}#sk-container-id-9 div.sk-parallel-item:last-child::after {align-self: flex-start;width: 50%;}#sk-container-id-9 div.sk-parallel-item:only-child::after {width: 0;}#sk-container-id-9 div.sk-dashed-wrapped {border: 1px dashed gray;margin: 0 0.4em 0.5em 0.4em;box-sizing: border-box;padding-bottom: 0.4em;background-color: white;}#sk-container-id-9 div.sk-label label {font-family: monospace;font-weight: bold;display: inline-block;line-height: 1.2em;}#sk-container-id-9 div.sk-label-container {text-align: center;}#sk-container-id-9 div.sk-container {/* jupyter's `normalize.less` sets `[hidden] { display: none; }` but bootstrap.min.css set `[hidden] { display: none !important; }` so we also need the `!important` here to be able to override the default hidden behavior on the sphinx rendered scikit-learn.org. See: https://github.com/scikit-learn/scikit-learn/issues/21755 */display: inline-block !important;position: relative;}#sk-container-id-9 div.sk-text-repr-fallback {display: none;}</style><div id=\"sk-container-id-9\" class=\"sk-top-container\"><div class=\"sk-text-repr-fallback\"><pre>RandomForestClassifier(max_features=None, min_samples_leaf=4,\n",
       "                       min_samples_split=10, n_estimators=50, random_state=42)</pre><b>In a Jupyter environment, please rerun this cell to show the HTML representation or trust the notebook. <br />On GitHub, the HTML representation is unable to render, please try loading this page with nbviewer.org.</b></div><div class=\"sk-container\" hidden><div class=\"sk-item\"><div class=\"sk-estimator sk-toggleable\"><input class=\"sk-toggleable__control sk-hidden--visually\" id=\"sk-estimator-id-17\" type=\"checkbox\" checked><label for=\"sk-estimator-id-17\" class=\"sk-toggleable__label sk-toggleable__label-arrow\">RandomForestClassifier</label><div class=\"sk-toggleable__content\"><pre>RandomForestClassifier(max_features=None, min_samples_leaf=4,\n",
       "                       min_samples_split=10, n_estimators=50, random_state=42)</pre></div></div></div></div></div>"
      ],
      "text/plain": [
       "RandomForestClassifier(max_features=None, min_samples_leaf=4,\n",
       "                       min_samples_split=10, n_estimators=50, random_state=42)"
      ]
     },
     "execution_count": 95,
     "metadata": {},
     "output_type": "execute_result"
    }
   ],
   "source": [
    "# Retraining the best model on expanded datasdet\n",
    "best_model.fit(rolling_train[rolling_predictors], rolling_train[\"target\"])"
   ]
  },
  {
   "cell_type": "code",
   "execution_count": 96,
   "id": "0ceacf75-7888-4bb5-ad67-272b3e5c7844",
   "metadata": {},
   "outputs": [],
   "source": [
    "predictions_rolling = best_model.predict(rolling_test[rolling_predictors])"
   ]
  },
  {
   "cell_type": "code",
   "execution_count": 97,
   "id": "36a04bdd-683b-4340-9b6f-0850b5338417",
   "metadata": {},
   "outputs": [
    {
     "data": {
      "text/plain": [
       "0.6314410480349345"
      ]
     },
     "execution_count": 97,
     "metadata": {},
     "output_type": "execute_result"
    }
   ],
   "source": [
    "accuracy_rolling = accuracy_score(rolling_test[\"target\"], predictions_rolling)\n",
    "accuracy_rolling"
   ]
  },
  {
   "cell_type": "code",
   "execution_count": 98,
   "id": "4ff841bd-0f54-4fa9-98ca-47b8b7768707",
   "metadata": {},
   "outputs": [
    {
     "data": {
      "text/plain": [
       "0.6028302759721483"
      ]
     },
     "execution_count": 98,
     "metadata": {},
     "output_type": "execute_result"
    }
   ],
   "source": [
    "precison_rolling = precision_score(rolling_test[\"target\"], predictions_rolling, average = 'macro')\n",
    "precison_rolling"
   ]
  },
  {
   "cell_type": "code",
   "execution_count": 99,
   "id": "0624b807-716f-4475-919a-ca8544a6b0b0",
   "metadata": {},
   "outputs": [
    {
     "data": {
      "text/plain": [
       "0.5839074243749871"
      ]
     },
     "execution_count": 99,
     "metadata": {},
     "output_type": "execute_result"
    }
   ],
   "source": [
    "f1_rolling = f1_score(rolling_test[\"target\"], predictions_rolling, average='macro')\n",
    "f1_rolling\n"
   ]
  },
  {
   "cell_type": "code",
   "execution_count": 100,
   "id": "16a3300d-1f9f-41a9-b91e-c71d58e95172",
   "metadata": {},
   "outputs": [
    {
     "data": {
      "text/plain": [
       "0.5854839330012884"
      ]
     },
     "execution_count": 100,
     "metadata": {},
     "output_type": "execute_result"
    }
   ],
   "source": [
    "recall_rolling = recall_score(rolling_test[\"target\"], predictions_rolling, average='macro')\n",
    "recall_rolling"
   ]
  },
  {
   "cell_type": "code",
   "execution_count": 101,
   "id": "9ef47d0a-0218-4210-9ad0-0366fed22fa6",
   "metadata": {},
   "outputs": [],
   "source": [
    "metrics_rolling = {\n",
    "    'Accuracy': accuracy_score(rolling_test[\"target\"], predictions_rolling) * 100,\n",
    "    'F1 Score': f1_score(rolling_test[\"target\"], predictions_rolling, average='macro') * 100,\n",
    "    'Recall':  recall_score(rolling_test[\"target\"], predictions_rolling, average='macro') * 100,\n",
    "    'Precision': precision_score(rolling_test[\"target\"], predictions_rolling, average = 'macro')* 100\n",
    "}"
   ]
  },
  {
   "cell_type": "code",
   "execution_count": 102,
   "id": "3dbfbb7b-c38b-4955-89f9-6c604b408ad7",
   "metadata": {},
   "outputs": [
    {
     "data": {
      "text/plain": [
       "{'Accuracy': 63.14410480349345,\n",
       " 'F1 Score': 58.39074243749871,\n",
       " 'Recall': 58.54839330012884,\n",
       " 'Precision': 60.28302759721483}"
      ]
     },
     "execution_count": 102,
     "metadata": {},
     "output_type": "execute_result"
    }
   ],
   "source": [
    "metrics_rolling"
   ]
  },
  {
   "cell_type": "markdown",
   "id": "ce9a81ab-eed9-41e6-ad25-8eaa1f946510",
   "metadata": {},
   "source": [
    "## Comparing Results"
   ]
  },
  {
   "cell_type": "code",
   "execution_count": 118,
   "id": "ed5ce756-2acd-4c30-b7ae-9ee561dbcc3d",
   "metadata": {},
   "outputs": [
    {
     "data": {
      "text/html": [
       "<div>\n",
       "<style scoped>\n",
       "    .dataframe tbody tr th:only-of-type {\n",
       "        vertical-align: middle;\n",
       "    }\n",
       "\n",
       "    .dataframe tbody tr th {\n",
       "        vertical-align: top;\n",
       "    }\n",
       "\n",
       "    .dataframe thead th {\n",
       "        text-align: right;\n",
       "    }\n",
       "</style>\n",
       "<table border=\"1\" class=\"dataframe\">\n",
       "  <thead>\n",
       "    <tr style=\"text-align: right;\">\n",
       "      <th></th>\n",
       "      <th>Metrics without Rolling Averages</th>\n",
       "      <th>Metrics with Rolling Averages</th>\n",
       "    </tr>\n",
       "  </thead>\n",
       "  <tbody>\n",
       "    <tr>\n",
       "      <th>Accuracy</th>\n",
       "      <td>60.540070</td>\n",
       "      <td>63.144105</td>\n",
       "    </tr>\n",
       "    <tr>\n",
       "      <th>F1 Score</th>\n",
       "      <td>51.793456</td>\n",
       "      <td>58.390742</td>\n",
       "    </tr>\n",
       "    <tr>\n",
       "      <th>Recall</th>\n",
       "      <td>53.781250</td>\n",
       "      <td>58.548393</td>\n",
       "    </tr>\n",
       "    <tr>\n",
       "      <th>Precision</th>\n",
       "      <td>55.997764</td>\n",
       "      <td>60.283028</td>\n",
       "    </tr>\n",
       "  </tbody>\n",
       "</table>\n",
       "</div>"
      ],
      "text/plain": [
       "           Metrics without Rolling Averages  Metrics with Rolling Averages\n",
       "Accuracy                          60.540070                      63.144105\n",
       "F1 Score                          51.793456                      58.390742\n",
       "Recall                            53.781250                      58.548393\n",
       "Precision                         55.997764                      60.283028"
      ]
     },
     "execution_count": 118,
     "metadata": {},
     "output_type": "execute_result"
    }
   ],
   "source": [
    "df_metrics = pd.DataFrame({\n",
    "    'Metrics without Rolling Averages': metrics,\n",
    "    'Metrics with Rolling Averages': metrics_rolling\n",
    "})\n",
    "df_metrics"
   ]
  },
  {
   "cell_type": "code",
   "execution_count": 119,
   "id": "f5d9aec0-06e5-420c-9cf5-40462922b34d",
   "metadata": {},
   "outputs": [
    {
     "data": {
      "text/html": [
       "<div>\n",
       "<style scoped>\n",
       "    .dataframe tbody tr th:only-of-type {\n",
       "        vertical-align: middle;\n",
       "    }\n",
       "\n",
       "    .dataframe tbody tr th {\n",
       "        vertical-align: top;\n",
       "    }\n",
       "\n",
       "    .dataframe thead th {\n",
       "        text-align: right;\n",
       "    }\n",
       "</style>\n",
       "<table border=\"1\" class=\"dataframe\">\n",
       "  <thead>\n",
       "    <tr style=\"text-align: right;\">\n",
       "      <th></th>\n",
       "      <th>Accuracy</th>\n",
       "      <th>F1 Score</th>\n",
       "      <th>Recall</th>\n",
       "      <th>Precision</th>\n",
       "    </tr>\n",
       "  </thead>\n",
       "  <tbody>\n",
       "    <tr>\n",
       "      <th>Metrics without Rolling Averages</th>\n",
       "      <td>60.540070</td>\n",
       "      <td>51.793456</td>\n",
       "      <td>53.781250</td>\n",
       "      <td>55.997764</td>\n",
       "    </tr>\n",
       "    <tr>\n",
       "      <th>Metrics with Rolling Averages</th>\n",
       "      <td>63.144105</td>\n",
       "      <td>58.390742</td>\n",
       "      <td>58.548393</td>\n",
       "      <td>60.283028</td>\n",
       "    </tr>\n",
       "  </tbody>\n",
       "</table>\n",
       "</div>"
      ],
      "text/plain": [
       "                                   Accuracy   F1 Score     Recall  Precision\n",
       "Metrics without Rolling Averages  60.540070  51.793456  53.781250  55.997764\n",
       "Metrics with Rolling Averages     63.144105  58.390742  58.548393  60.283028"
      ]
     },
     "execution_count": 119,
     "metadata": {},
     "output_type": "execute_result"
    }
   ],
   "source": [
    "df_metrics = df_metrics.T\n",
    "df_metrics"
   ]
  },
  {
   "cell_type": "code",
   "execution_count": 121,
   "id": "e8df8a56-ad8c-47b2-ac13-64cf76f1475a",
   "metadata": {},
   "outputs": [
    {
     "data": {
      "text/html": [
       "<div>\n",
       "<style scoped>\n",
       "    .dataframe tbody tr th:only-of-type {\n",
       "        vertical-align: middle;\n",
       "    }\n",
       "\n",
       "    .dataframe tbody tr th {\n",
       "        vertical-align: top;\n",
       "    }\n",
       "\n",
       "    .dataframe thead th {\n",
       "        text-align: right;\n",
       "    }\n",
       "</style>\n",
       "<table border=\"1\" class=\"dataframe\">\n",
       "  <thead>\n",
       "    <tr style=\"text-align: right;\">\n",
       "      <th></th>\n",
       "      <th>Accuracy</th>\n",
       "      <th>F1 Score</th>\n",
       "      <th>Recall</th>\n",
       "      <th>Precision</th>\n",
       "    </tr>\n",
       "  </thead>\n",
       "  <tbody>\n",
       "    <tr>\n",
       "      <th>Metrics without Rolling Averages</th>\n",
       "      <td>60.54</td>\n",
       "      <td>51.79</td>\n",
       "      <td>53.78</td>\n",
       "      <td>56.00</td>\n",
       "    </tr>\n",
       "    <tr>\n",
       "      <th>Metrics with Rolling Averages</th>\n",
       "      <td>63.14</td>\n",
       "      <td>58.39</td>\n",
       "      <td>58.55</td>\n",
       "      <td>60.28</td>\n",
       "    </tr>\n",
       "  </tbody>\n",
       "</table>\n",
       "</div>"
      ],
      "text/plain": [
       "                                  Accuracy  F1 Score  Recall  Precision\n",
       "Metrics without Rolling Averages     60.54     51.79   53.78      56.00\n",
       "Metrics with Rolling Averages        63.14     58.39   58.55      60.28"
      ]
     },
     "execution_count": 121,
     "metadata": {},
     "output_type": "execute_result"
    }
   ],
   "source": [
    "df_metrics.round(2)"
   ]
  },
  {
   "cell_type": "code",
   "execution_count": null,
   "id": "ea7a79cd-1a5e-4fff-b1f6-b2bd402c8c3c",
   "metadata": {},
   "outputs": [],
   "source": []
  }
 ],
 "metadata": {
  "kernelspec": {
   "display_name": "Python 3 (ipykernel)",
   "language": "python",
   "name": "python3"
  },
  "language_info": {
   "codemirror_mode": {
    "name": "ipython",
    "version": 3
   },
   "file_extension": ".py",
   "mimetype": "text/x-python",
   "name": "python",
   "nbconvert_exporter": "python",
   "pygments_lexer": "ipython3",
   "version": "3.11.7"
  }
 },
 "nbformat": 4,
 "nbformat_minor": 5
}
