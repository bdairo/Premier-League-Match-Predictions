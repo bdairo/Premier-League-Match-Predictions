{
  "cells": [
    {
      "cell_type": "code",
      "execution_count": 39,
      "id": "c2bb3e3e-f14c-4120-9cef-e2a6a3760ab7",
      "metadata": {
        "id": "c2bb3e3e-f14c-4120-9cef-e2a6a3760ab7"
      },
      "outputs": [],
      "source": [
        "import pandas as pd\n",
        "import numpy as np\n",
        "from sklearn.svm import SVC\n",
        "from sklearn.model_selection import GridSearchCV\n",
        "from sklearn.model_selection import RandomizedSearchCV\n",
        "import matplotlib.pyplot as plt\n",
        "from sklearn.metrics import accuracy_score, precision_score, recall_score, f1_score"
      ]
    },
    {
      "cell_type": "code",
      "execution_count": 40,
      "id": "3a4e8899-8fd6-4e6d-9d4c-8d0211e46b02",
      "metadata": {
        "id": "3a4e8899-8fd6-4e6d-9d4c-8d0211e46b02"
      },
      "outputs": [],
      "source": [
        "matches = pd.read_csv('matches.csv', index_col = 0)"
      ]
    },
    {
      "cell_type": "code",
      "source": [
        "def process_data(matches):\n",
        "  matches['date']=pd.to_datetime(matches['date'])\n",
        "  matches['venue_code'] = matches['venue'].astype('category').cat.codes\n",
        "  matches['opp_code'] = matches['opponent'].astype('category').cat.codes\n",
        "  matches['hour'] = matches['time'].str.replace(':.+','',regex=True).astype('int')\n",
        "  matches['day_code']= matches['date'].dt.dayofweek\n",
        "  matches['target']=(matches['result'] == 'W')\n"
      ],
      "metadata": {
        "id": "OEZ1ncwWqLOV"
      },
      "id": "OEZ1ncwWqLOV",
      "execution_count": 41,
      "outputs": []
    },
    {
      "cell_type": "code",
      "source": [
        "process_data(matches)"
      ],
      "metadata": {
        "id": "23ZfItEkqnhc"
      },
      "id": "23ZfItEkqnhc",
      "execution_count": 42,
      "outputs": []
    },
    {
      "cell_type": "code",
      "source": [
        "matches.shape"
      ],
      "metadata": {
        "colab": {
          "base_uri": "https://localhost:8080/"
        },
        "id": "ueEwmwLNtgl6",
        "outputId": "195e079e-f0b7-41ff-8da1-bbf0793550a4"
      },
      "id": "ueEwmwLNtgl6",
      "execution_count": 43,
      "outputs": [
        {
          "output_type": "execute_result",
          "data": {
            "text/plain": [
              "(1520, 32)"
            ]
          },
          "metadata": {},
          "execution_count": 43
        }
      ]
    },
    {
      "cell_type": "code",
      "source": [
        "matches.columns"
      ],
      "metadata": {
        "colab": {
          "base_uri": "https://localhost:8080/"
        },
        "id": "0E4baf2ywJLh",
        "outputId": "6a3cdd66-9755-4c1a-d745-a58a8acb7564"
      },
      "id": "0E4baf2ywJLh",
      "execution_count": 44,
      "outputs": [
        {
          "output_type": "execute_result",
          "data": {
            "text/plain": [
              "Index(['date', 'time', 'comp', 'round', 'day', 'venue', 'result', 'gf', 'ga',\n",
              "       'opponent', 'xg', 'xga', 'poss', 'attendance', 'captain', 'formation',\n",
              "       'referee', 'match report', 'notes', 'sh', 'sot', 'dist', 'fk', 'pk',\n",
              "       'pkatt', 'season', 'team', 'venue_code', 'opp_code', 'hour', 'day_code',\n",
              "       'target'],\n",
              "      dtype='object')"
            ]
          },
          "metadata": {},
          "execution_count": 44
        }
      ]
    },
    {
      "cell_type": "markdown",
      "source": [],
      "metadata": {
        "id": "l-MVrWaa9y3u"
      },
      "id": "l-MVrWaa9y3u"
    },
    {
      "cell_type": "markdown",
      "id": "767ec31d-7be9-47ea-8734-01eea4f3ea1f",
      "metadata": {
        "id": "767ec31d-7be9-47ea-8734-01eea4f3ea1f"
      },
      "source": []
    },
    {
      "cell_type": "code",
      "execution_count": 45,
      "id": "82462969-b064-4c59-b59f-641dcb714b15",
      "metadata": {
        "id": "82462969-b064-4c59-b59f-641dcb714b15"
      },
      "outputs": [],
      "source": [
        "test = matches[matches['date'] > '2022-01-01']\n",
        "train = matches[matches['date'] < '2022-01-01']"
      ]
    },
    {
      "cell_type": "code",
      "execution_count": 46,
      "id": "c8e43088-fa1c-44b4-848f-0c75f2514593",
      "metadata": {
        "id": "c8e43088-fa1c-44b4-848f-0c75f2514593"
      },
      "outputs": [],
      "source": [
        "predictors = ['venue_code', 'opp_code', 'hour', 'day_code']"
      ]
    },
    {
      "cell_type": "code",
      "source": [
        "# Initial Test of kernels\n",
        "def evaluate_svm_kernels(train, test, predictors, poly_degrees=None):\n",
        "    \"\"\"\n",
        "    Evaluates SVM models with different kernels and degrees for the polynomial kernel,\n",
        "    returning the accuracy, precision, recall, and F1 scores.\n",
        "\n",
        "    Parameters:\n",
        "    - train_data: Training dataset\n",
        "    - test_data: Test dataset\n",
        "    - predictors: List of column names to use as predictors\n",
        "    - poly_degrees: List of degrees to evaluate with the polynomial kernel\n",
        "\n",
        "    Returns:\n",
        "    A dictionary where keys are kernel names (or 'poly_degree_x' for polynomial kernels)\n",
        "    and values are dictionaries with 'accuracy', 'precision', 'recall', and 'f1_score' scores.\n",
        "    \"\"\"\n",
        "\n",
        "    results = {}\n",
        "\n",
        "    if poly_degrees is None:\n",
        "        poly_degrees = [1, 3, 5, 6, 8]  # Default degrees for polynomial kernel if not specified\n",
        "\n",
        "    kernels = ['linear', 'rbf', 'poly', 'sigmoid']\n",
        "\n",
        "    class_weights = 'balanced'  # Balanced class weights to handle class imbalance\n",
        "\n",
        "    for kernel in kernels:\n",
        "        if kernel == 'poly':\n",
        "            for degree in poly_degrees:\n",
        "                svm_model = SVC(kernel=kernel, degree=degree, class_weight=class_weights)\n",
        "                svm_model.fit(train[predictors], train['target'])\n",
        "\n",
        "                predictions = svm_model.predict(test[predictors])\n",
        "\n",
        "                accuracy = accuracy_score(test['target'], predictions)\n",
        "                precision = precision_score(test['target'], predictions, zero_division=0)\n",
        "                recall = recall_score(test['target'], predictions)\n",
        "                f1 = f1_score(test['target'], predictions)\n",
        "\n",
        "                results[f'poly_degree_{degree}'] = {'accuracy': accuracy*100, 'precision': precision*100,\n",
        "                                                     'recall': recall*100, 'f1_score': f1*100}\n",
        "        else:\n",
        "            svm_model = SVC(kernel=kernel, class_weight=class_weights)\n",
        "            svm_model.fit(train[predictors], train['target'])\n",
        "\n",
        "            predictions = svm_model.predict(test[predictors])\n",
        "\n",
        "            accuracy = accuracy_score(test['target'], predictions)\n",
        "            precision = precision_score(test['target'], predictions, zero_division=0)\n",
        "            recall = recall_score(test['target'], predictions)\n",
        "            f1 = f1_score(test['target'], predictions)\n",
        "\n",
        "            results[kernel] = {'accuracy': accuracy*100, 'precision': precision*100,\n",
        "                               'recall': recall*100, 'f1_score': f1*100}\n",
        "\n",
        "    return results"
      ],
      "metadata": {
        "id": "g-PUeK7YPzxp"
      },
      "id": "g-PUeK7YPzxp",
      "execution_count": 47,
      "outputs": []
    },
    {
      "cell_type": "code",
      "execution_count": 48,
      "id": "8cd4c0b7-1e04-48d8-9b4f-a93d39628120",
      "metadata": {
        "id": "8cd4c0b7-1e04-48d8-9b4f-a93d39628120"
      },
      "outputs": [],
      "source": [
        "kernel_evaluation = evaluate_svm_kernels(train, test, predictors)"
      ]
    },
    {
      "cell_type": "code",
      "execution_count": 49,
      "id": "1d3fa979-02eb-4509-a2ab-371deb09b1fb",
      "metadata": {
        "id": "1d3fa979-02eb-4509-a2ab-371deb09b1fb",
        "outputId": "1876b9e1-7cce-42a3-ff12-f8b9259325f1",
        "colab": {
          "base_uri": "https://localhost:8080/"
        }
      },
      "outputs": [
        {
          "output_type": "execute_result",
          "data": {
            "text/plain": [
              "{'linear': {'accuracy': 58.01393728222997,\n",
              "  'precision': 47.038327526132406,\n",
              "  'recall': 60.26785714285714,\n",
              "  'f1_score': 52.83757338551859},\n",
              " 'rbf': {'accuracy': 58.88501742160279,\n",
              "  'precision': 46.36363636363636,\n",
              "  'recall': 34.151785714285715,\n",
              "  'f1_score': 39.33161953727507},\n",
              " 'poly_degree_1': {'accuracy': 53.9198606271777,\n",
              "  'precision': 42.01183431952663,\n",
              "  'recall': 47.544642857142854,\n",
              "  'f1_score': 44.60732984293194},\n",
              " 'poly_degree_3': {'accuracy': 60.62717770034843,\n",
              "  'precision': 49.26470588235294,\n",
              "  'recall': 29.910714285714285,\n",
              "  'f1_score': 37.22222222222223},\n",
              " 'poly_degree_5': {'accuracy': 58.62369337979094,\n",
              "  'precision': 46.633416458852864,\n",
              "  'recall': 41.74107142857143,\n",
              "  'f1_score': 44.05182567726737},\n",
              " 'poly_degree_6': {'accuracy': 57.40418118466899,\n",
              "  'precision': 45.5531453362256,\n",
              "  'recall': 46.875,\n",
              "  'f1_score': 46.20462046204621},\n",
              " 'poly_degree_8': {'accuracy': 58.536585365853654,\n",
              "  'precision': 46.236559139784944,\n",
              "  'recall': 38.392857142857146,\n",
              "  'f1_score': 41.951219512195124},\n",
              " 'sigmoid': {'accuracy': 54.70383275261324,\n",
              "  'precision': 38.23529411764706,\n",
              "  'recall': 26.11607142857143,\n",
              "  'f1_score': 31.03448275862069}}"
            ]
          },
          "metadata": {},
          "execution_count": 49
        }
      ],
      "source": [
        "kernel_evaluation"
      ]
    },
    {
      "cell_type": "code",
      "source": [
        "# HYPER PARAMETER TUNING with less Data\n",
        "# Set random seed\n",
        "\n",
        "def random_search(data, predictors, random_seed=42):\n",
        "    train = data[data[\"date\"] < '2022-01-01']\n",
        "\n",
        "    param_grid = {\n",
        "        'C': [0.1, 1, 100, 1000],\n",
        "        'kernel': ['rbf', 'poly', 'sigmoid', 'linear'],\n",
        "        'degree': [1, 2, 3, 4, 5, 6],\n",
        "    }\n",
        "\n",
        "    random_search = RandomizedSearchCV(estimator=SVC(), param_distributions=param_grid, n_iter=5, random_state=random_seed, cv=5)\n",
        "    random_search.fit(train[predictors], train['target'])\n",
        "\n",
        "    return random_search.cv_results_"
      ],
      "metadata": {
        "id": "fBchO2yfhZj7"
      },
      "id": "fBchO2yfhZj7",
      "execution_count": 50,
      "outputs": []
    },
    {
      "cell_type": "code",
      "source": [
        "random_search_results = random_search(matches, predictors)"
      ],
      "metadata": {
        "id": "LzogfdnNim9j"
      },
      "id": "LzogfdnNim9j",
      "execution_count": 51,
      "outputs": []
    },
    {
      "cell_type": "code",
      "execution_count": 52,
      "id": "2fe62d67-1e43-457e-b692-048127ab1c14",
      "metadata": {
        "id": "2fe62d67-1e43-457e-b692-048127ab1c14"
      },
      "outputs": [],
      "source": [
        "random_search_cv_results_df = pd.DataFrame(random_search_results)"
      ]
    },
    {
      "cell_type": "code",
      "execution_count": 53,
      "id": "b6ea9539-fa26-4445-a448-970fc7debc9b",
      "metadata": {
        "id": "b6ea9539-fa26-4445-a448-970fc7debc9b",
        "outputId": "f355a0ea-8b28-4afd-a013-d47814e3e19e",
        "colab": {
          "base_uri": "https://localhost:8080/",
          "height": 206
        }
      },
      "outputs": [
        {
          "output_type": "execute_result",
          "data": {
            "text/plain": [
              "  param_C param_kernel  mean_test_score\n",
              "0    1000          rbf         0.628545\n",
              "1    1000         poly         0.633876\n",
              "2    1000         poly         0.633876\n",
              "3    1000      sigmoid         0.508071\n",
              "4       1         poly         0.633876"
            ],
            "text/html": [
              "\n",
              "  <div id=\"df-9ae6d46c-ef6c-4a31-9f59-7638c939ae3b\" class=\"colab-df-container\">\n",
              "    <div>\n",
              "<style scoped>\n",
              "    .dataframe tbody tr th:only-of-type {\n",
              "        vertical-align: middle;\n",
              "    }\n",
              "\n",
              "    .dataframe tbody tr th {\n",
              "        vertical-align: top;\n",
              "    }\n",
              "\n",
              "    .dataframe thead th {\n",
              "        text-align: right;\n",
              "    }\n",
              "</style>\n",
              "<table border=\"1\" class=\"dataframe\">\n",
              "  <thead>\n",
              "    <tr style=\"text-align: right;\">\n",
              "      <th></th>\n",
              "      <th>param_C</th>\n",
              "      <th>param_kernel</th>\n",
              "      <th>mean_test_score</th>\n",
              "    </tr>\n",
              "  </thead>\n",
              "  <tbody>\n",
              "    <tr>\n",
              "      <th>0</th>\n",
              "      <td>1000</td>\n",
              "      <td>rbf</td>\n",
              "      <td>0.628545</td>\n",
              "    </tr>\n",
              "    <tr>\n",
              "      <th>1</th>\n",
              "      <td>1000</td>\n",
              "      <td>poly</td>\n",
              "      <td>0.633876</td>\n",
              "    </tr>\n",
              "    <tr>\n",
              "      <th>2</th>\n",
              "      <td>1000</td>\n",
              "      <td>poly</td>\n",
              "      <td>0.633876</td>\n",
              "    </tr>\n",
              "    <tr>\n",
              "      <th>3</th>\n",
              "      <td>1000</td>\n",
              "      <td>sigmoid</td>\n",
              "      <td>0.508071</td>\n",
              "    </tr>\n",
              "    <tr>\n",
              "      <th>4</th>\n",
              "      <td>1</td>\n",
              "      <td>poly</td>\n",
              "      <td>0.633876</td>\n",
              "    </tr>\n",
              "  </tbody>\n",
              "</table>\n",
              "</div>\n",
              "    <div class=\"colab-df-buttons\">\n",
              "\n",
              "  <div class=\"colab-df-container\">\n",
              "    <button class=\"colab-df-convert\" onclick=\"convertToInteractive('df-9ae6d46c-ef6c-4a31-9f59-7638c939ae3b')\"\n",
              "            title=\"Convert this dataframe to an interactive table.\"\n",
              "            style=\"display:none;\">\n",
              "\n",
              "  <svg xmlns=\"http://www.w3.org/2000/svg\" height=\"24px\" viewBox=\"0 -960 960 960\">\n",
              "    <path d=\"M120-120v-720h720v720H120Zm60-500h600v-160H180v160Zm220 220h160v-160H400v160Zm0 220h160v-160H400v160ZM180-400h160v-160H180v160Zm440 0h160v-160H620v160ZM180-180h160v-160H180v160Zm440 0h160v-160H620v160Z\"/>\n",
              "  </svg>\n",
              "    </button>\n",
              "\n",
              "  <style>\n",
              "    .colab-df-container {\n",
              "      display:flex;\n",
              "      gap: 12px;\n",
              "    }\n",
              "\n",
              "    .colab-df-convert {\n",
              "      background-color: #E8F0FE;\n",
              "      border: none;\n",
              "      border-radius: 50%;\n",
              "      cursor: pointer;\n",
              "      display: none;\n",
              "      fill: #1967D2;\n",
              "      height: 32px;\n",
              "      padding: 0 0 0 0;\n",
              "      width: 32px;\n",
              "    }\n",
              "\n",
              "    .colab-df-convert:hover {\n",
              "      background-color: #E2EBFA;\n",
              "      box-shadow: 0px 1px 2px rgba(60, 64, 67, 0.3), 0px 1px 3px 1px rgba(60, 64, 67, 0.15);\n",
              "      fill: #174EA6;\n",
              "    }\n",
              "\n",
              "    .colab-df-buttons div {\n",
              "      margin-bottom: 4px;\n",
              "    }\n",
              "\n",
              "    [theme=dark] .colab-df-convert {\n",
              "      background-color: #3B4455;\n",
              "      fill: #D2E3FC;\n",
              "    }\n",
              "\n",
              "    [theme=dark] .colab-df-convert:hover {\n",
              "      background-color: #434B5C;\n",
              "      box-shadow: 0px 1px 3px 1px rgba(0, 0, 0, 0.15);\n",
              "      filter: drop-shadow(0px 1px 2px rgba(0, 0, 0, 0.3));\n",
              "      fill: #FFFFFF;\n",
              "    }\n",
              "  </style>\n",
              "\n",
              "    <script>\n",
              "      const buttonEl =\n",
              "        document.querySelector('#df-9ae6d46c-ef6c-4a31-9f59-7638c939ae3b button.colab-df-convert');\n",
              "      buttonEl.style.display =\n",
              "        google.colab.kernel.accessAllowed ? 'block' : 'none';\n",
              "\n",
              "      async function convertToInteractive(key) {\n",
              "        const element = document.querySelector('#df-9ae6d46c-ef6c-4a31-9f59-7638c939ae3b');\n",
              "        const dataTable =\n",
              "          await google.colab.kernel.invokeFunction('convertToInteractive',\n",
              "                                                    [key], {});\n",
              "        if (!dataTable) return;\n",
              "\n",
              "        const docLinkHtml = 'Like what you see? Visit the ' +\n",
              "          '<a target=\"_blank\" href=https://colab.research.google.com/notebooks/data_table.ipynb>data table notebook</a>'\n",
              "          + ' to learn more about interactive tables.';\n",
              "        element.innerHTML = '';\n",
              "        dataTable['output_type'] = 'display_data';\n",
              "        await google.colab.output.renderOutput(dataTable, element);\n",
              "        const docLink = document.createElement('div');\n",
              "        docLink.innerHTML = docLinkHtml;\n",
              "        element.appendChild(docLink);\n",
              "      }\n",
              "    </script>\n",
              "  </div>\n",
              "\n",
              "\n",
              "<div id=\"df-d99aaa47-5d6b-40f2-acf5-88818d305b20\">\n",
              "  <button class=\"colab-df-quickchart\" onclick=\"quickchart('df-d99aaa47-5d6b-40f2-acf5-88818d305b20')\"\n",
              "            title=\"Suggest charts\"\n",
              "            style=\"display:none;\">\n",
              "\n",
              "<svg xmlns=\"http://www.w3.org/2000/svg\" height=\"24px\"viewBox=\"0 0 24 24\"\n",
              "     width=\"24px\">\n",
              "    <g>\n",
              "        <path d=\"M19 3H5c-1.1 0-2 .9-2 2v14c0 1.1.9 2 2 2h14c1.1 0 2-.9 2-2V5c0-1.1-.9-2-2-2zM9 17H7v-7h2v7zm4 0h-2V7h2v10zm4 0h-2v-4h2v4z\"/>\n",
              "    </g>\n",
              "</svg>\n",
              "  </button>\n",
              "\n",
              "<style>\n",
              "  .colab-df-quickchart {\n",
              "      --bg-color: #E8F0FE;\n",
              "      --fill-color: #1967D2;\n",
              "      --hover-bg-color: #E2EBFA;\n",
              "      --hover-fill-color: #174EA6;\n",
              "      --disabled-fill-color: #AAA;\n",
              "      --disabled-bg-color: #DDD;\n",
              "  }\n",
              "\n",
              "  [theme=dark] .colab-df-quickchart {\n",
              "      --bg-color: #3B4455;\n",
              "      --fill-color: #D2E3FC;\n",
              "      --hover-bg-color: #434B5C;\n",
              "      --hover-fill-color: #FFFFFF;\n",
              "      --disabled-bg-color: #3B4455;\n",
              "      --disabled-fill-color: #666;\n",
              "  }\n",
              "\n",
              "  .colab-df-quickchart {\n",
              "    background-color: var(--bg-color);\n",
              "    border: none;\n",
              "    border-radius: 50%;\n",
              "    cursor: pointer;\n",
              "    display: none;\n",
              "    fill: var(--fill-color);\n",
              "    height: 32px;\n",
              "    padding: 0;\n",
              "    width: 32px;\n",
              "  }\n",
              "\n",
              "  .colab-df-quickchart:hover {\n",
              "    background-color: var(--hover-bg-color);\n",
              "    box-shadow: 0 1px 2px rgba(60, 64, 67, 0.3), 0 1px 3px 1px rgba(60, 64, 67, 0.15);\n",
              "    fill: var(--button-hover-fill-color);\n",
              "  }\n",
              "\n",
              "  .colab-df-quickchart-complete:disabled,\n",
              "  .colab-df-quickchart-complete:disabled:hover {\n",
              "    background-color: var(--disabled-bg-color);\n",
              "    fill: var(--disabled-fill-color);\n",
              "    box-shadow: none;\n",
              "  }\n",
              "\n",
              "  .colab-df-spinner {\n",
              "    border: 2px solid var(--fill-color);\n",
              "    border-color: transparent;\n",
              "    border-bottom-color: var(--fill-color);\n",
              "    animation:\n",
              "      spin 1s steps(1) infinite;\n",
              "  }\n",
              "\n",
              "  @keyframes spin {\n",
              "    0% {\n",
              "      border-color: transparent;\n",
              "      border-bottom-color: var(--fill-color);\n",
              "      border-left-color: var(--fill-color);\n",
              "    }\n",
              "    20% {\n",
              "      border-color: transparent;\n",
              "      border-left-color: var(--fill-color);\n",
              "      border-top-color: var(--fill-color);\n",
              "    }\n",
              "    30% {\n",
              "      border-color: transparent;\n",
              "      border-left-color: var(--fill-color);\n",
              "      border-top-color: var(--fill-color);\n",
              "      border-right-color: var(--fill-color);\n",
              "    }\n",
              "    40% {\n",
              "      border-color: transparent;\n",
              "      border-right-color: var(--fill-color);\n",
              "      border-top-color: var(--fill-color);\n",
              "    }\n",
              "    60% {\n",
              "      border-color: transparent;\n",
              "      border-right-color: var(--fill-color);\n",
              "    }\n",
              "    80% {\n",
              "      border-color: transparent;\n",
              "      border-right-color: var(--fill-color);\n",
              "      border-bottom-color: var(--fill-color);\n",
              "    }\n",
              "    90% {\n",
              "      border-color: transparent;\n",
              "      border-bottom-color: var(--fill-color);\n",
              "    }\n",
              "  }\n",
              "</style>\n",
              "\n",
              "  <script>\n",
              "    async function quickchart(key) {\n",
              "      const quickchartButtonEl =\n",
              "        document.querySelector('#' + key + ' button');\n",
              "      quickchartButtonEl.disabled = true;  // To prevent multiple clicks.\n",
              "      quickchartButtonEl.classList.add('colab-df-spinner');\n",
              "      try {\n",
              "        const charts = await google.colab.kernel.invokeFunction(\n",
              "            'suggestCharts', [key], {});\n",
              "      } catch (error) {\n",
              "        console.error('Error during call to suggestCharts:', error);\n",
              "      }\n",
              "      quickchartButtonEl.classList.remove('colab-df-spinner');\n",
              "      quickchartButtonEl.classList.add('colab-df-quickchart-complete');\n",
              "    }\n",
              "    (() => {\n",
              "      let quickchartButtonEl =\n",
              "        document.querySelector('#df-d99aaa47-5d6b-40f2-acf5-88818d305b20 button');\n",
              "      quickchartButtonEl.style.display =\n",
              "        google.colab.kernel.accessAllowed ? 'block' : 'none';\n",
              "    })();\n",
              "  </script>\n",
              "</div>\n",
              "\n",
              "    </div>\n",
              "  </div>\n"
            ],
            "application/vnd.google.colaboratory.intrinsic+json": {
              "type": "dataframe",
              "summary": "{\n  \"name\": \"random_search_cv_results_df[['param_C', 'param_kernel', 'mean_test_score']]\",\n  \"rows\": 5,\n  \"fields\": [\n    {\n      \"column\": \"param_C\",\n      \"properties\": {\n        \"dtype\": \"date\",\n        \"min\": 1,\n        \"max\": 1000,\n        \"num_unique_values\": 2,\n        \"samples\": [\n          1,\n          1000\n        ],\n        \"semantic_type\": \"\",\n        \"description\": \"\"\n      }\n    },\n    {\n      \"column\": \"param_kernel\",\n      \"properties\": {\n        \"dtype\": \"string\",\n        \"num_unique_values\": 3,\n        \"samples\": [\n          \"rbf\",\n          \"poly\"\n        ],\n        \"semantic_type\": \"\",\n        \"description\": \"\"\n      }\n    },\n    {\n      \"column\": \"mean_test_score\",\n      \"properties\": {\n        \"dtype\": \"number\",\n        \"std\": 0.05571360636951943,\n        \"min\": 0.5080710847834136,\n        \"max\": 0.63387634209552,\n        \"num_unique_values\": 3,\n        \"samples\": [\n          0.6285449833395038,\n          0.63387634209552\n        ],\n        \"semantic_type\": \"\",\n        \"description\": \"\"\n      }\n    }\n  ]\n}"
            }
          },
          "metadata": {},
          "execution_count": 53
        }
      ],
      "source": [
        "random_search_cv_results_df[['param_C', 'param_kernel', 'mean_test_score']]"
      ]
    },
    {
      "cell_type": "code",
      "execution_count": 54,
      "id": "03d4de0c-8ac7-4c2a-9b69-06e6dfe5c564",
      "metadata": {
        "id": "03d4de0c-8ac7-4c2a-9b69-06e6dfe5c564"
      },
      "outputs": [],
      "source": [
        "def top_n_kernels(cv_results, N=5):\n",
        "    # Convert the cv_results (if not already a DataFrame) to a DataFrame\n",
        "    if not isinstance(cv_results, pd.DataFrame):\n",
        "        results_df = pd.DataFrame(cv_results)\n",
        "    else:\n",
        "        results_df = cv_results\n",
        "\n",
        "    # Set 'degree' to 1 for all non-'poly' kernels\n",
        "    results_df.loc[results_df['params'].apply(lambda x: x['kernel'] != 'poly'), 'params'] = \\\n",
        "        results_df['params'].apply(lambda x: {**x, 'degree': 1})\n",
        "\n",
        "    # Sort by mean_test_score and remove duplicates based on 'params'\n",
        "    sorted_results_df = results_df.sort_values(by='mean_test_score', ascending=False).drop_duplicates(subset='params')\n",
        "\n",
        "    top_params = sorted_results_df.head(N)[['params', 'mean_test_score']].to_dict('records')\n",
        "\n",
        "    return top_params\n"
      ]
    },
    {
      "cell_type": "code",
      "execution_count": 55,
      "id": "6b2ddb83-7211-48de-b71b-576ca9e2653b",
      "metadata": {
        "scrolled": true,
        "id": "6b2ddb83-7211-48de-b71b-576ca9e2653b"
      },
      "outputs": [],
      "source": [
        "# using the results from random search hyperparameter tuning to get the top kernels\n",
        "top_kernels = top_n_kernels(random_search_cv_results_df)"
      ]
    },
    {
      "cell_type": "code",
      "execution_count": 56,
      "id": "f1bfa90a-4bd6-45ad-a002-ed9a58991280",
      "metadata": {
        "id": "f1bfa90a-4bd6-45ad-a002-ed9a58991280",
        "outputId": "34eabd3a-0d91-4f13-ec42-4c68d10a5982",
        "colab": {
          "base_uri": "https://localhost:8080/"
        }
      },
      "outputs": [
        {
          "output_type": "execute_result",
          "data": {
            "text/plain": [
              "[{'params': {'kernel': 'poly', 'degree': 2, 'C': 1000},\n",
              "  'mean_test_score': 0.63387634209552},\n",
              " {'params': {'kernel': 'poly', 'degree': 1, 'C': 1000},\n",
              "  'mean_test_score': 0.63387634209552},\n",
              " {'params': {'kernel': 'poly', 'degree': 3, 'C': 1},\n",
              "  'mean_test_score': 0.63387634209552},\n",
              " {'params': {'kernel': 'rbf', 'degree': 1, 'C': 1000},\n",
              "  'mean_test_score': 0.6285449833395038},\n",
              " {'params': {'kernel': 'sigmoid', 'degree': 1, 'C': 1000},\n",
              "  'mean_test_score': 0.5080710847834136}]"
            ]
          },
          "metadata": {},
          "execution_count": 56
        }
      ],
      "source": [
        "top_kernels"
      ]
    },
    {
      "cell_type": "code",
      "execution_count": 57,
      "id": "f1de1811-5c66-4bf9-87be-8cfcf1d06758",
      "metadata": {
        "id": "f1de1811-5c66-4bf9-87be-8cfcf1d06758"
      },
      "outputs": [],
      "source": [
        "# Evaluate the top kernels and their corresponding hyperparameters\n",
        "def evaluate_top_kernels(train, test, predictors, top_params):\n",
        "    results = {}\n",
        "\n",
        "    for param_set in top_params:\n",
        "        kernel = param_set['params']['kernel']\n",
        "        C = param_set['params'].get('C', 1)  # Default to 1 if C is not specified\n",
        "        degree = param_set['params'].get('degree', 3)  # Default to 3 if degree is not specified\n",
        "\n",
        "        svm_model = SVC(kernel=kernel, C=C, degree=degree, class_weight= 'balanced')\n",
        "        svm_model.fit(train[predictors], train['target'])\n",
        "\n",
        "        predictions = svm_model.predict(test[predictors])\n",
        "\n",
        "        accuracy = accuracy_score(test['target'], predictions)\n",
        "        precision = precision_score(test['target'], predictions, zero_division=0)\n",
        "        recall = recall_score(test['target'], predictions, zero_division=0)\n",
        "        f1 = f1_score(test['target'], predictions, zero_division=0)\n",
        "\n",
        "        if kernel == 'poly':\n",
        "            kernel_name = f'poly_degree_{degree}'\n",
        "        else:\n",
        "            kernel_name = kernel\n",
        "\n",
        "        results[kernel_name] = {\n",
        "            'accuracy': f'{accuracy * 100:.2f}%',\n",
        "            'precision': f'{precision * 100:.2f}%',\n",
        "            'recall': f'{recall * 100:.2f}%',\n",
        "            'F1': f'{f1 * 100:.2f}%'\n",
        "        }\n",
        "\n",
        "    return results"
      ]
    },
    {
      "cell_type": "code",
      "source": [
        "kernel_evaluations_without_rolling_averages = evaluate_top_kernels(train, test, predictors, top_kernels)"
      ],
      "metadata": {
        "id": "N7e-uwZlwgrQ"
      },
      "id": "N7e-uwZlwgrQ",
      "execution_count": 88,
      "outputs": []
    },
    {
      "cell_type": "code",
      "source": [
        "kernel_evaluations_without_rolling_averages"
      ],
      "metadata": {
        "colab": {
          "base_uri": "https://localhost:8080/"
        },
        "id": "kZ81uvjOwzaF",
        "outputId": "9b2fe4e2-13a0-4c31-a3aa-0f50bd6d9d1c"
      },
      "id": "kZ81uvjOwzaF",
      "execution_count": 89,
      "outputs": [
        {
          "output_type": "execute_result",
          "data": {
            "text/plain": [
              "{'poly_degree_2': {'accuracy': '56.53%',\n",
              "  'precision': '46.09%',\n",
              "  'recall': '67.19%',\n",
              "  'F1': '54.68%'},\n",
              " 'poly_degree_1': {'accuracy': '58.01%',\n",
              "  'precision': '47.04%',\n",
              "  'recall': '60.27%',\n",
              "  'F1': '52.84%'},\n",
              " 'poly_degree_3': {'accuracy': '60.63%',\n",
              "  'precision': '49.26%',\n",
              "  'recall': '29.91%',\n",
              "  'F1': '37.22%'},\n",
              " 'rbf': {'accuracy': '58.97%',\n",
              "  'precision': '47.16%',\n",
              "  'recall': '42.63%',\n",
              "  'F1': '44.78%'},\n",
              " 'sigmoid': {'accuracy': '49.22%',\n",
              "  'precision': '38.05%',\n",
              "  'recall': '47.99%',\n",
              "  'F1': '42.45%'}}"
            ]
          },
          "metadata": {},
          "execution_count": 89
        }
      ]
    },
    {
      "cell_type": "code",
      "source": [
        "# We try to get better results by using a larger dataset and rolling averages\n",
        "# Get the full dataset and evaluate kernels on the data\n",
        "matches = pd.read_csv('matches_6_years.csv', index_col = 0)\n",
        "process_data(matches)"
      ],
      "metadata": {
        "id": "ouZc44syqEH9"
      },
      "id": "ouZc44syqEH9",
      "execution_count": 90,
      "outputs": []
    },
    {
      "cell_type": "code",
      "source": [
        "matches.shape"
      ],
      "metadata": {
        "colab": {
          "base_uri": "https://localhost:8080/"
        },
        "id": "QKOBKv0Btcq6",
        "outputId": "62ccc2ca-b459-4585-aa05-3bf2d484e5eb"
      },
      "id": "QKOBKv0Btcq6",
      "execution_count": 64,
      "outputs": [
        {
          "output_type": "execute_result",
          "data": {
            "text/plain": [
              "(4560, 32)"
            ]
          },
          "metadata": {},
          "execution_count": 64
        }
      ]
    },
    {
      "cell_type": "code",
      "source": [
        "process_data(matches)"
      ],
      "metadata": {
        "id": "Q8n0kxBPvRli"
      },
      "id": "Q8n0kxBPvRli",
      "execution_count": 68,
      "outputs": []
    },
    {
      "cell_type": "code",
      "execution_count": 75,
      "id": "75324b89-05e7-4b34-97ff-292566e123be",
      "metadata": {
        "id": "75324b89-05e7-4b34-97ff-292566e123be"
      },
      "outputs": [],
      "source": [
        "grouped_matches = matches.groupby('team')\n",
        "group= grouped_matches.get_group('Manchester City')"
      ]
    },
    {
      "cell_type": "code",
      "execution_count": 25,
      "id": "6a17269c-753f-47d0-b46e-002f1eab919f",
      "metadata": {
        "id": "6a17269c-753f-47d0-b46e-002f1eab919f"
      },
      "outputs": [],
      "source": [
        "def rolling_averages(group, cols, new_cols):\n",
        "    group = group.sort_values(\"date\")\n",
        "    rolling_stats = group[cols].rolling(3, closed ='left').mean()\n",
        "    group[new_cols] = rolling_stats\n",
        "    group = group.dropna(subset=new_cols)\n",
        "    return group"
      ]
    },
    {
      "cell_type": "code",
      "source": [
        "cols = [\"gf\", \"ga\", \"sh\", \"sot\", \"dist\", \"fk\", \"pk\", \"pkatt\"]\n",
        "new_cols = [f\"{c}_rolling\" for c in cols]"
      ],
      "metadata": {
        "id": "1nOwKiIGt-ez"
      },
      "id": "1nOwKiIGt-ez",
      "execution_count": 76,
      "outputs": []
    },
    {
      "cell_type": "code",
      "execution_count": 77,
      "id": "aa1c08c6-2143-4136-974b-5730e9911825",
      "metadata": {
        "id": "aa1c08c6-2143-4136-974b-5730e9911825"
      },
      "outputs": [],
      "source": [
        "matches_rolling = matches.groupby(\"team\").apply(lambda x: rolling_averages(x, cols, new_cols))\n"
      ]
    },
    {
      "cell_type": "code",
      "execution_count": 78,
      "id": "c38598c7-9de8-4053-a831-718699ae4600",
      "metadata": {
        "id": "c38598c7-9de8-4053-a831-718699ae4600"
      },
      "outputs": [],
      "source": [
        "matches_rolling = matches_rolling.droplevel(\"team\")\n",
        "matches_rolling.index = range(matches_rolling.shape[0])"
      ]
    },
    {
      "cell_type": "code",
      "execution_count": 79,
      "id": "8a2a5f9d-ea9b-4dc8-85cc-3a29c211fac8",
      "metadata": {
        "id": "8a2a5f9d-ea9b-4dc8-85cc-3a29c211fac8"
      },
      "outputs": [],
      "source": [
        "matches_rolling.index = range(matches_rolling.shape[0])"
      ]
    },
    {
      "cell_type": "code",
      "execution_count": 91,
      "id": "54298b44-5942-4bb1-98c8-9e7d63259594",
      "metadata": {
        "id": "54298b44-5942-4bb1-98c8-9e7d63259594"
      },
      "outputs": [],
      "source": [
        "# Evaluating with new predictors ,expanded data set, and using top ten params\n",
        "rolling_train = matches_rolling[matches_rolling[\"date\"]< '2022-01-01']\n",
        "rolling_test = matches_rolling[matches_rolling[\"date\"]>'2022-01-01']\n",
        "rolling_predictors = predictors + new_cols\n",
        "kernel_evaluations_with_rolling_averages = evaluate_top_kernels(rolling_train, rolling_test, rolling_predictors, top_kernels)"
      ]
    },
    {
      "cell_type": "code",
      "execution_count": 81,
      "id": "535f2de3-d333-4ee5-acae-1fbf201ab599",
      "metadata": {
        "id": "535f2de3-d333-4ee5-acae-1fbf201ab599",
        "outputId": "8e717352-474a-4f02-edab-0b7e1adeb81f",
        "colab": {
          "base_uri": "https://localhost:8080/"
        }
      },
      "outputs": [
        {
          "output_type": "execute_result",
          "data": {
            "text/plain": [
              "{'poly_degree_2': {'accuracy': '64.19%',\n",
              "  'precision': '54.23%',\n",
              "  'recall': '53.02%',\n",
              "  'F1': '53.62%'},\n",
              " 'poly_degree_1': {'accuracy': '62.88%',\n",
              "  'precision': '52.12%',\n",
              "  'recall': '60.40%',\n",
              "  'F1': '55.96%'},\n",
              " 'poly_degree_3': {'accuracy': '64.19%',\n",
              "  'precision': '54.50%',\n",
              "  'recall': '50.11%',\n",
              "  'F1': '52.21%'},\n",
              " 'rbf': {'accuracy': '62.27%',\n",
              "  'precision': '51.63%',\n",
              "  'recall': '53.24%',\n",
              "  'F1': '52.42%'},\n",
              " 'sigmoid': {'accuracy': '44.72%',\n",
              "  'precision': '36.44%',\n",
              "  'recall': '55.93%',\n",
              "  'F1': '44.13%'}}"
            ]
          },
          "metadata": {},
          "execution_count": 81
        }
      ],
      "source": [
        "kernel_evaluations_with_rolling_averages"
      ]
    },
    {
      "cell_type": "code",
      "execution_count": 87,
      "id": "01cb9cc2-9c17-46f8-8f6d-110109c391e4",
      "metadata": {
        "id": "01cb9cc2-9c17-46f8-8f6d-110109c391e4",
        "outputId": "5784a843-6772-443d-c40c-d09ada2d8e45",
        "colab": {
          "base_uri": "https://localhost:8080/"
        }
      },
      "outputs": [
        {
          "output_type": "execute_result",
          "data": {
            "text/plain": [
              "{'poly_degree_2': {'accuracy': '56.53%',\n",
              "  'precision': '46.09%',\n",
              "  'recall': '67.19%',\n",
              "  'F1': '54.68%'},\n",
              " 'poly_degree_1': {'accuracy': '58.01%',\n",
              "  'precision': '47.04%',\n",
              "  'recall': '60.27%',\n",
              "  'F1': '52.84%'},\n",
              " 'poly_degree_3': {'accuracy': '60.63%',\n",
              "  'precision': '49.26%',\n",
              "  'recall': '29.91%',\n",
              "  'F1': '37.22%'},\n",
              " 'rbf': {'accuracy': '58.97%',\n",
              "  'precision': '47.16%',\n",
              "  'recall': '42.63%',\n",
              "  'F1': '44.78%'},\n",
              " 'sigmoid': {'accuracy': '49.22%',\n",
              "  'precision': '38.05%',\n",
              "  'recall': '47.99%',\n",
              "  'F1': '42.45%'}}"
            ]
          },
          "metadata": {},
          "execution_count": 87
        }
      ],
      "source": [
        "## Compared with original evaluations without rolling averages\n",
        "kernel_evaluations_without_rolling_averages"
      ]
    },
    {
      "cell_type": "code",
      "source": [
        "# Convert the dictionaries to DataFrames\n",
        "df_with_rolling = pd.DataFrame(kernel_evaluations_with_rolling_averages).T\n",
        "df_without_rolling = pd.DataFrame(kernel_evaluations_without_rolling_averages).T\n",
        "\n",
        "# Extract all columns\n",
        "all_cols_with_rolling = df_with_rolling[['accuracy', 'precision', 'recall', 'F1']]\n",
        "all_cols_without_rolling = df_without_rolling[['accuracy', 'precision', 'recall', 'F1']]\n",
        "\n",
        "# Combine the columns side by side\n",
        "combined_df = pd.concat([all_cols_with_rolling, all_cols_without_rolling],\n",
        "                         axis=1, keys=['With Rolling', 'Without Rolling'])\n",
        "\n",
        "# Display the combined DataFrame\n",
        "combined_df"
      ],
      "metadata": {
        "colab": {
          "base_uri": "https://localhost:8080/",
          "height": 238
        },
        "id": "ZvTtrf-W2HN9",
        "outputId": "c56a0b92-9161-4e23-d7b6-c63e490c6b64"
      },
      "id": "ZvTtrf-W2HN9",
      "execution_count": 97,
      "outputs": [
        {
          "output_type": "execute_result",
          "data": {
            "text/plain": [
              "              With Rolling                           Without Rolling  \\\n",
              "                  accuracy precision  recall      F1        accuracy   \n",
              "poly_degree_2       64.19%    54.23%  53.02%  53.62%          56.53%   \n",
              "poly_degree_1       62.88%    52.12%  60.40%  55.96%          58.01%   \n",
              "poly_degree_3       64.19%    54.50%  50.11%  52.21%          60.63%   \n",
              "rbf                 62.27%    51.63%  53.24%  52.42%          58.97%   \n",
              "sigmoid             44.72%    36.44%  55.93%  44.13%          49.22%   \n",
              "\n",
              "                                         \n",
              "              precision  recall      F1  \n",
              "poly_degree_2    46.09%  67.19%  54.68%  \n",
              "poly_degree_1    47.04%  60.27%  52.84%  \n",
              "poly_degree_3    49.26%  29.91%  37.22%  \n",
              "rbf              47.16%  42.63%  44.78%  \n",
              "sigmoid          38.05%  47.99%  42.45%  "
            ],
            "text/html": [
              "\n",
              "  <div id=\"df-08ac7a30-bc72-4b51-acf6-e67e5b48c8af\" class=\"colab-df-container\">\n",
              "    <div>\n",
              "<style scoped>\n",
              "    .dataframe tbody tr th:only-of-type {\n",
              "        vertical-align: middle;\n",
              "    }\n",
              "\n",
              "    .dataframe tbody tr th {\n",
              "        vertical-align: top;\n",
              "    }\n",
              "\n",
              "    .dataframe thead tr th {\n",
              "        text-align: left;\n",
              "    }\n",
              "</style>\n",
              "<table border=\"1\" class=\"dataframe\">\n",
              "  <thead>\n",
              "    <tr>\n",
              "      <th></th>\n",
              "      <th colspan=\"4\" halign=\"left\">With Rolling</th>\n",
              "      <th colspan=\"4\" halign=\"left\">Without Rolling</th>\n",
              "    </tr>\n",
              "    <tr>\n",
              "      <th></th>\n",
              "      <th>accuracy</th>\n",
              "      <th>precision</th>\n",
              "      <th>recall</th>\n",
              "      <th>F1</th>\n",
              "      <th>accuracy</th>\n",
              "      <th>precision</th>\n",
              "      <th>recall</th>\n",
              "      <th>F1</th>\n",
              "    </tr>\n",
              "  </thead>\n",
              "  <tbody>\n",
              "    <tr>\n",
              "      <th>poly_degree_2</th>\n",
              "      <td>64.19%</td>\n",
              "      <td>54.23%</td>\n",
              "      <td>53.02%</td>\n",
              "      <td>53.62%</td>\n",
              "      <td>56.53%</td>\n",
              "      <td>46.09%</td>\n",
              "      <td>67.19%</td>\n",
              "      <td>54.68%</td>\n",
              "    </tr>\n",
              "    <tr>\n",
              "      <th>poly_degree_1</th>\n",
              "      <td>62.88%</td>\n",
              "      <td>52.12%</td>\n",
              "      <td>60.40%</td>\n",
              "      <td>55.96%</td>\n",
              "      <td>58.01%</td>\n",
              "      <td>47.04%</td>\n",
              "      <td>60.27%</td>\n",
              "      <td>52.84%</td>\n",
              "    </tr>\n",
              "    <tr>\n",
              "      <th>poly_degree_3</th>\n",
              "      <td>64.19%</td>\n",
              "      <td>54.50%</td>\n",
              "      <td>50.11%</td>\n",
              "      <td>52.21%</td>\n",
              "      <td>60.63%</td>\n",
              "      <td>49.26%</td>\n",
              "      <td>29.91%</td>\n",
              "      <td>37.22%</td>\n",
              "    </tr>\n",
              "    <tr>\n",
              "      <th>rbf</th>\n",
              "      <td>62.27%</td>\n",
              "      <td>51.63%</td>\n",
              "      <td>53.24%</td>\n",
              "      <td>52.42%</td>\n",
              "      <td>58.97%</td>\n",
              "      <td>47.16%</td>\n",
              "      <td>42.63%</td>\n",
              "      <td>44.78%</td>\n",
              "    </tr>\n",
              "    <tr>\n",
              "      <th>sigmoid</th>\n",
              "      <td>44.72%</td>\n",
              "      <td>36.44%</td>\n",
              "      <td>55.93%</td>\n",
              "      <td>44.13%</td>\n",
              "      <td>49.22%</td>\n",
              "      <td>38.05%</td>\n",
              "      <td>47.99%</td>\n",
              "      <td>42.45%</td>\n",
              "    </tr>\n",
              "  </tbody>\n",
              "</table>\n",
              "</div>\n",
              "    <div class=\"colab-df-buttons\">\n",
              "\n",
              "  <div class=\"colab-df-container\">\n",
              "    <button class=\"colab-df-convert\" onclick=\"convertToInteractive('df-08ac7a30-bc72-4b51-acf6-e67e5b48c8af')\"\n",
              "            title=\"Convert this dataframe to an interactive table.\"\n",
              "            style=\"display:none;\">\n",
              "\n",
              "  <svg xmlns=\"http://www.w3.org/2000/svg\" height=\"24px\" viewBox=\"0 -960 960 960\">\n",
              "    <path d=\"M120-120v-720h720v720H120Zm60-500h600v-160H180v160Zm220 220h160v-160H400v160Zm0 220h160v-160H400v160ZM180-400h160v-160H180v160Zm440 0h160v-160H620v160ZM180-180h160v-160H180v160Zm440 0h160v-160H620v160Z\"/>\n",
              "  </svg>\n",
              "    </button>\n",
              "\n",
              "  <style>\n",
              "    .colab-df-container {\n",
              "      display:flex;\n",
              "      gap: 12px;\n",
              "    }\n",
              "\n",
              "    .colab-df-convert {\n",
              "      background-color: #E8F0FE;\n",
              "      border: none;\n",
              "      border-radius: 50%;\n",
              "      cursor: pointer;\n",
              "      display: none;\n",
              "      fill: #1967D2;\n",
              "      height: 32px;\n",
              "      padding: 0 0 0 0;\n",
              "      width: 32px;\n",
              "    }\n",
              "\n",
              "    .colab-df-convert:hover {\n",
              "      background-color: #E2EBFA;\n",
              "      box-shadow: 0px 1px 2px rgba(60, 64, 67, 0.3), 0px 1px 3px 1px rgba(60, 64, 67, 0.15);\n",
              "      fill: #174EA6;\n",
              "    }\n",
              "\n",
              "    .colab-df-buttons div {\n",
              "      margin-bottom: 4px;\n",
              "    }\n",
              "\n",
              "    [theme=dark] .colab-df-convert {\n",
              "      background-color: #3B4455;\n",
              "      fill: #D2E3FC;\n",
              "    }\n",
              "\n",
              "    [theme=dark] .colab-df-convert:hover {\n",
              "      background-color: #434B5C;\n",
              "      box-shadow: 0px 1px 3px 1px rgba(0, 0, 0, 0.15);\n",
              "      filter: drop-shadow(0px 1px 2px rgba(0, 0, 0, 0.3));\n",
              "      fill: #FFFFFF;\n",
              "    }\n",
              "  </style>\n",
              "\n",
              "    <script>\n",
              "      const buttonEl =\n",
              "        document.querySelector('#df-08ac7a30-bc72-4b51-acf6-e67e5b48c8af button.colab-df-convert');\n",
              "      buttonEl.style.display =\n",
              "        google.colab.kernel.accessAllowed ? 'block' : 'none';\n",
              "\n",
              "      async function convertToInteractive(key) {\n",
              "        const element = document.querySelector('#df-08ac7a30-bc72-4b51-acf6-e67e5b48c8af');\n",
              "        const dataTable =\n",
              "          await google.colab.kernel.invokeFunction('convertToInteractive',\n",
              "                                                    [key], {});\n",
              "        if (!dataTable) return;\n",
              "\n",
              "        const docLinkHtml = 'Like what you see? Visit the ' +\n",
              "          '<a target=\"_blank\" href=https://colab.research.google.com/notebooks/data_table.ipynb>data table notebook</a>'\n",
              "          + ' to learn more about interactive tables.';\n",
              "        element.innerHTML = '';\n",
              "        dataTable['output_type'] = 'display_data';\n",
              "        await google.colab.output.renderOutput(dataTable, element);\n",
              "        const docLink = document.createElement('div');\n",
              "        docLink.innerHTML = docLinkHtml;\n",
              "        element.appendChild(docLink);\n",
              "      }\n",
              "    </script>\n",
              "  </div>\n",
              "\n",
              "\n",
              "<div id=\"df-c73368ee-bd92-4179-bec6-002515ebbe96\">\n",
              "  <button class=\"colab-df-quickchart\" onclick=\"quickchart('df-c73368ee-bd92-4179-bec6-002515ebbe96')\"\n",
              "            title=\"Suggest charts\"\n",
              "            style=\"display:none;\">\n",
              "\n",
              "<svg xmlns=\"http://www.w3.org/2000/svg\" height=\"24px\"viewBox=\"0 0 24 24\"\n",
              "     width=\"24px\">\n",
              "    <g>\n",
              "        <path d=\"M19 3H5c-1.1 0-2 .9-2 2v14c0 1.1.9 2 2 2h14c1.1 0 2-.9 2-2V5c0-1.1-.9-2-2-2zM9 17H7v-7h2v7zm4 0h-2V7h2v10zm4 0h-2v-4h2v4z\"/>\n",
              "    </g>\n",
              "</svg>\n",
              "  </button>\n",
              "\n",
              "<style>\n",
              "  .colab-df-quickchart {\n",
              "      --bg-color: #E8F0FE;\n",
              "      --fill-color: #1967D2;\n",
              "      --hover-bg-color: #E2EBFA;\n",
              "      --hover-fill-color: #174EA6;\n",
              "      --disabled-fill-color: #AAA;\n",
              "      --disabled-bg-color: #DDD;\n",
              "  }\n",
              "\n",
              "  [theme=dark] .colab-df-quickchart {\n",
              "      --bg-color: #3B4455;\n",
              "      --fill-color: #D2E3FC;\n",
              "      --hover-bg-color: #434B5C;\n",
              "      --hover-fill-color: #FFFFFF;\n",
              "      --disabled-bg-color: #3B4455;\n",
              "      --disabled-fill-color: #666;\n",
              "  }\n",
              "\n",
              "  .colab-df-quickchart {\n",
              "    background-color: var(--bg-color);\n",
              "    border: none;\n",
              "    border-radius: 50%;\n",
              "    cursor: pointer;\n",
              "    display: none;\n",
              "    fill: var(--fill-color);\n",
              "    height: 32px;\n",
              "    padding: 0;\n",
              "    width: 32px;\n",
              "  }\n",
              "\n",
              "  .colab-df-quickchart:hover {\n",
              "    background-color: var(--hover-bg-color);\n",
              "    box-shadow: 0 1px 2px rgba(60, 64, 67, 0.3), 0 1px 3px 1px rgba(60, 64, 67, 0.15);\n",
              "    fill: var(--button-hover-fill-color);\n",
              "  }\n",
              "\n",
              "  .colab-df-quickchart-complete:disabled,\n",
              "  .colab-df-quickchart-complete:disabled:hover {\n",
              "    background-color: var(--disabled-bg-color);\n",
              "    fill: var(--disabled-fill-color);\n",
              "    box-shadow: none;\n",
              "  }\n",
              "\n",
              "  .colab-df-spinner {\n",
              "    border: 2px solid var(--fill-color);\n",
              "    border-color: transparent;\n",
              "    border-bottom-color: var(--fill-color);\n",
              "    animation:\n",
              "      spin 1s steps(1) infinite;\n",
              "  }\n",
              "\n",
              "  @keyframes spin {\n",
              "    0% {\n",
              "      border-color: transparent;\n",
              "      border-bottom-color: var(--fill-color);\n",
              "      border-left-color: var(--fill-color);\n",
              "    }\n",
              "    20% {\n",
              "      border-color: transparent;\n",
              "      border-left-color: var(--fill-color);\n",
              "      border-top-color: var(--fill-color);\n",
              "    }\n",
              "    30% {\n",
              "      border-color: transparent;\n",
              "      border-left-color: var(--fill-color);\n",
              "      border-top-color: var(--fill-color);\n",
              "      border-right-color: var(--fill-color);\n",
              "    }\n",
              "    40% {\n",
              "      border-color: transparent;\n",
              "      border-right-color: var(--fill-color);\n",
              "      border-top-color: var(--fill-color);\n",
              "    }\n",
              "    60% {\n",
              "      border-color: transparent;\n",
              "      border-right-color: var(--fill-color);\n",
              "    }\n",
              "    80% {\n",
              "      border-color: transparent;\n",
              "      border-right-color: var(--fill-color);\n",
              "      border-bottom-color: var(--fill-color);\n",
              "    }\n",
              "    90% {\n",
              "      border-color: transparent;\n",
              "      border-bottom-color: var(--fill-color);\n",
              "    }\n",
              "  }\n",
              "</style>\n",
              "\n",
              "  <script>\n",
              "    async function quickchart(key) {\n",
              "      const quickchartButtonEl =\n",
              "        document.querySelector('#' + key + ' button');\n",
              "      quickchartButtonEl.disabled = true;  // To prevent multiple clicks.\n",
              "      quickchartButtonEl.classList.add('colab-df-spinner');\n",
              "      try {\n",
              "        const charts = await google.colab.kernel.invokeFunction(\n",
              "            'suggestCharts', [key], {});\n",
              "      } catch (error) {\n",
              "        console.error('Error during call to suggestCharts:', error);\n",
              "      }\n",
              "      quickchartButtonEl.classList.remove('colab-df-spinner');\n",
              "      quickchartButtonEl.classList.add('colab-df-quickchart-complete');\n",
              "    }\n",
              "    (() => {\n",
              "      let quickchartButtonEl =\n",
              "        document.querySelector('#df-c73368ee-bd92-4179-bec6-002515ebbe96 button');\n",
              "      quickchartButtonEl.style.display =\n",
              "        google.colab.kernel.accessAllowed ? 'block' : 'none';\n",
              "    })();\n",
              "  </script>\n",
              "</div>\n",
              "\n",
              "  <div id=\"id_b1ab5a16-75ba-43a5-95ff-2bd2c23ce030\">\n",
              "    <style>\n",
              "      .colab-df-generate {\n",
              "        background-color: #E8F0FE;\n",
              "        border: none;\n",
              "        border-radius: 50%;\n",
              "        cursor: pointer;\n",
              "        display: none;\n",
              "        fill: #1967D2;\n",
              "        height: 32px;\n",
              "        padding: 0 0 0 0;\n",
              "        width: 32px;\n",
              "      }\n",
              "\n",
              "      .colab-df-generate:hover {\n",
              "        background-color: #E2EBFA;\n",
              "        box-shadow: 0px 1px 2px rgba(60, 64, 67, 0.3), 0px 1px 3px 1px rgba(60, 64, 67, 0.15);\n",
              "        fill: #174EA6;\n",
              "      }\n",
              "\n",
              "      [theme=dark] .colab-df-generate {\n",
              "        background-color: #3B4455;\n",
              "        fill: #D2E3FC;\n",
              "      }\n",
              "\n",
              "      [theme=dark] .colab-df-generate:hover {\n",
              "        background-color: #434B5C;\n",
              "        box-shadow: 0px 1px 3px 1px rgba(0, 0, 0, 0.15);\n",
              "        filter: drop-shadow(0px 1px 2px rgba(0, 0, 0, 0.3));\n",
              "        fill: #FFFFFF;\n",
              "      }\n",
              "    </style>\n",
              "    <button class=\"colab-df-generate\" onclick=\"generateWithVariable('combined_df')\"\n",
              "            title=\"Generate code using this dataframe.\"\n",
              "            style=\"display:none;\">\n",
              "\n",
              "  <svg xmlns=\"http://www.w3.org/2000/svg\" height=\"24px\"viewBox=\"0 0 24 24\"\n",
              "       width=\"24px\">\n",
              "    <path d=\"M7,19H8.4L18.45,9,17,7.55,7,17.6ZM5,21V16.75L18.45,3.32a2,2,0,0,1,2.83,0l1.4,1.43a1.91,1.91,0,0,1,.58,1.4,1.91,1.91,0,0,1-.58,1.4L9.25,21ZM18.45,9,17,7.55Zm-12,3A5.31,5.31,0,0,0,4.9,8.1,5.31,5.31,0,0,0,1,6.5,5.31,5.31,0,0,0,4.9,4.9,5.31,5.31,0,0,0,6.5,1,5.31,5.31,0,0,0,8.1,4.9,5.31,5.31,0,0,0,12,6.5,5.46,5.46,0,0,0,6.5,12Z\"/>\n",
              "  </svg>\n",
              "    </button>\n",
              "    <script>\n",
              "      (() => {\n",
              "      const buttonEl =\n",
              "        document.querySelector('#id_b1ab5a16-75ba-43a5-95ff-2bd2c23ce030 button.colab-df-generate');\n",
              "      buttonEl.style.display =\n",
              "        google.colab.kernel.accessAllowed ? 'block' : 'none';\n",
              "\n",
              "      buttonEl.onclick = () => {\n",
              "        google.colab.notebook.generateWithVariable('combined_df');\n",
              "      }\n",
              "      })();\n",
              "    </script>\n",
              "  </div>\n",
              "\n",
              "    </div>\n",
              "  </div>\n"
            ],
            "application/vnd.google.colaboratory.intrinsic+json": {
              "type": "dataframe",
              "variable_name": "combined_df",
              "summary": "{\n  \"name\": \"combined_df\",\n  \"rows\": 5,\n  \"fields\": [\n    {\n      \"column\": [\n        \"With Rolling\",\n        \"accuracy\"\n      ],\n      \"properties\": {\n        \"dtype\": \"string\",\n        \"num_unique_values\": 4,\n        \"samples\": [\n          \"62.88%\",\n          \"44.72%\",\n          \"64.19%\"\n        ],\n        \"semantic_type\": \"\",\n        \"description\": \"\"\n      }\n    },\n    {\n      \"column\": [\n        \"With Rolling\",\n        \"precision\"\n      ],\n      \"properties\": {\n        \"dtype\": \"string\",\n        \"num_unique_values\": 5,\n        \"samples\": [\n          \"52.12%\",\n          \"36.44%\",\n          \"54.50%\"\n        ],\n        \"semantic_type\": \"\",\n        \"description\": \"\"\n      }\n    },\n    {\n      \"column\": [\n        \"With Rolling\",\n        \"recall\"\n      ],\n      \"properties\": {\n        \"dtype\": \"string\",\n        \"num_unique_values\": 5,\n        \"samples\": [\n          \"60.40%\",\n          \"55.93%\",\n          \"50.11%\"\n        ],\n        \"semantic_type\": \"\",\n        \"description\": \"\"\n      }\n    },\n    {\n      \"column\": [\n        \"With Rolling\",\n        \"F1\"\n      ],\n      \"properties\": {\n        \"dtype\": \"string\",\n        \"num_unique_values\": 5,\n        \"samples\": [\n          \"55.96%\",\n          \"44.13%\",\n          \"52.21%\"\n        ],\n        \"semantic_type\": \"\",\n        \"description\": \"\"\n      }\n    },\n    {\n      \"column\": [\n        \"Without Rolling\",\n        \"accuracy\"\n      ],\n      \"properties\": {\n        \"dtype\": \"string\",\n        \"num_unique_values\": 5,\n        \"samples\": [\n          \"58.01%\",\n          \"49.22%\",\n          \"60.63%\"\n        ],\n        \"semantic_type\": \"\",\n        \"description\": \"\"\n      }\n    },\n    {\n      \"column\": [\n        \"Without Rolling\",\n        \"precision\"\n      ],\n      \"properties\": {\n        \"dtype\": \"string\",\n        \"num_unique_values\": 5,\n        \"samples\": [\n          \"47.04%\",\n          \"38.05%\",\n          \"49.26%\"\n        ],\n        \"semantic_type\": \"\",\n        \"description\": \"\"\n      }\n    },\n    {\n      \"column\": [\n        \"Without Rolling\",\n        \"recall\"\n      ],\n      \"properties\": {\n        \"dtype\": \"string\",\n        \"num_unique_values\": 5,\n        \"samples\": [\n          \"60.27%\",\n          \"47.99%\",\n          \"29.91%\"\n        ],\n        \"semantic_type\": \"\",\n        \"description\": \"\"\n      }\n    },\n    {\n      \"column\": [\n        \"Without Rolling\",\n        \"F1\"\n      ],\n      \"properties\": {\n        \"dtype\": \"string\",\n        \"num_unique_values\": 5,\n        \"samples\": [\n          \"52.84%\",\n          \"42.45%\",\n          \"37.22%\"\n        ],\n        \"semantic_type\": \"\",\n        \"description\": \"\"\n      }\n    }\n  ]\n}"
            }
          },
          "metadata": {},
          "execution_count": 97
        }
      ]
    },
    {
      "cell_type": "code",
      "source": [
        "# Extract accuracy, precision, recall, and F1 score values\n",
        "accuracies_with_rolling = df_with_rolling['accuracy'].str.rstrip('%').astype(float)\n",
        "accuracies_without_rolling = df_without_rolling['accuracy'].str.rstrip('%').astype(float)\n",
        "precisions_with_rolling = df_with_rolling['precision'].str.rstrip('%').astype(float)\n",
        "precisions_without_rolling = df_without_rolling['precision'].str.rstrip('%').astype(float)\n",
        "recalls_with_rolling = df_with_rolling['recall'].str.rstrip('%').astype(float)\n",
        "recalls_without_rolling = df_without_rolling['recall'].str.rstrip('%').astype(float)\n",
        "f1scores_with_rolling = df_with_rolling['F1'].str.rstrip('%').astype(float)\n",
        "f1scores_without_rolling = df_without_rolling['F1'].str.rstrip('%').astype(float)\n",
        "\n",
        "# Plotting\n",
        "fig, axes = plt.subplots(nrows=2, ncols=2, figsize=(12, 12))\n",
        "\n",
        "# Accuracies comparison\n",
        "axes[0, 0].bar(df_with_rolling.index, accuracies_with_rolling, width=0.4, label='With Rolling Averages', align='center')\n",
        "axes[0, 0].bar(df_without_rolling.index, accuracies_without_rolling, width=0.4, label='Without Rolling Averages', align='edge')\n",
        "axes[0, 0].set_title('Accuracies Comparison')\n",
        "axes[0, 0].set_ylabel('Accuracy (%)')\n",
        "axes[0, 0].legend()\n",
        "\n",
        "# Precisions comparison\n",
        "axes[0, 1].bar(df_with_rolling.index, precisions_with_rolling, width=0.4, label='With Rolling Averages', align='center')\n",
        "axes[0, 1].bar(df_without_rolling.index, precisions_without_rolling, width=0.4, label='Without Rolling Averages', align='edge')\n",
        "axes[0, 1].set_title('Precisions Comparison')\n",
        "axes[0, 1].set_ylabel('Precision (%)')\n",
        "axes[0, 1].legend()\n",
        "\n",
        "# Recalls comparison\n",
        "axes[1, 0].bar(df_with_rolling.index, recalls_with_rolling, width=0.4, label='With Rolling Averages', align='center')\n",
        "axes[1, 0].bar(df_without_rolling.index, recalls_without_rolling, width=0.4, label='Without Rolling Averages', align='edge')\n",
        "axes[1, 0].set_title('Recalls Comparison')\n",
        "axes[1, 0].set_ylabel('Recall (%)')\n",
        "axes[1, 0].legend()\n",
        "\n",
        "# F1 scores comparison\n",
        "axes[1, 1].bar(df_with_rolling.index, f1scores_with_rolling, width=0.4, label='With Rolling Averages', align='center')\n",
        "axes[1, 1].bar(df_without_rolling.index, f1scores_without_rolling, width=0.4, label='Without Rolling Averages', align='edge')\n",
        "axes[1, 1].set_title('F1 Scores Comparison')\n",
        "axes[1, 1].set_ylabel('F1 Score (%)')\n",
        "axes[1, 1].legend()\n",
        "\n",
        "plt.tight_layout()\n",
        "plt.show()"
      ],
      "metadata": {
        "colab": {
          "base_uri": "https://localhost:8080/",
          "height": 1000
        },
        "id": "TnVG1fiQ0FPu",
        "outputId": "9151dd68-dca5-4c40-a4d6-01fbb58d857f"
      },
      "id": "TnVG1fiQ0FPu",
      "execution_count": 99,
      "outputs": [
        {
          "output_type": "display_data",
          "data": {
            "text/plain": [
              "<Figure size 1200x1200 with 4 Axes>"
            ],
            "image/png": "[encoded data removed]"
          },
          "metadata": {}
        }
      ]
    },
    {
      "cell_type": "code",
      "source": [],
      "metadata": {
        "id": "19XbhS-KwsL3"
      },
      "id": "19XbhS-KwsL3",
      "execution_count": 93,
      "outputs": []
    }
  ],
  "metadata": {
    "kernelspec": {
      "display_name": "Python 3 (ipykernel)",
      "language": "python",
      "name": "python3"
    },
    "language_info": {
      "codemirror_mode": {
        "name": "ipython",
        "version": 3
      },
      "file_extension": ".py",
      "mimetype": "text/x-python",
      "name": "python",
      "nbconvert_exporter": "python",
      "pygments_lexer": "ipython3",
      "version": "3.11.7"
    },
    "colab": {
      "provenance": []
    }
  },
  "nbformat": 4,
  "nbformat_minor": 5
}